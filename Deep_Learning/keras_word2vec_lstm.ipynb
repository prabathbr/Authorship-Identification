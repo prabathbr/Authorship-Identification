{
 "cells": [
  {
   "cell_type": "code",
   "execution_count": 1,
   "id": "virtual-optimum",
   "metadata": {
    "id": "virtual-optimum"
   },
   "outputs": [],
   "source": [
    "# GPU Reset if needed\n",
    "\n",
    "from numba import cuda \n",
    "device = cuda.get_current_device()\n",
    "device.reset()"
   ]
  },
  {
   "cell_type": "code",
   "execution_count": 2,
   "id": "iA9Ipq-4zuPT",
   "metadata": {
    "colab": {
     "base_uri": "https://localhost:8080/"
    },
    "id": "iA9Ipq-4zuPT",
    "outputId": "df79526c-7d47-4cb2-cd2a-4b3adf5bf389"
   },
   "outputs": [],
   "source": [
    "# from google.colab import drive\n",
    "import os\n",
    "\n",
    "# drive.mount('/content/drive')\n",
    "# os.chdir('/content/drive/My Drive/Colab Notebooks/word2vec_run/')\n",
    "# print(os.getcwd())"
   ]
  },
  {
   "cell_type": "code",
   "execution_count": 3,
   "id": "MI6QgDjY2g7o",
   "metadata": {
    "colab": {
     "base_uri": "https://localhost:8080/"
    },
    "id": "MI6QgDjY2g7o",
    "outputId": "16f6f31a-8f70-4650-8d9b-b88fec1322e5"
   },
   "outputs": [],
   "source": [
    "# !ls"
   ]
  },
  {
   "cell_type": "code",
   "execution_count": 4,
   "id": "wWbrBVZ7CoPF",
   "metadata": {
    "id": "wWbrBVZ7CoPF"
   },
   "outputs": [],
   "source": [
    "# !rm -rf logs"
   ]
  },
  {
   "cell_type": "code",
   "execution_count": 5,
   "id": "distinct-breath",
   "metadata": {
    "colab": {
     "base_uri": "https://localhost:8080/"
    },
    "id": "distinct-breath",
    "outputId": "e158358f-ff02-499b-deaa-c43ce2dfabba"
   },
   "outputs": [
    {
     "name": "stdout",
     "output_type": "stream",
     "text": [
      "TensorFlow version : 2.5.0\n",
      "Numpy version : 1.19.5\n",
      "Pandas version : 1.1.5\n"
     ]
    }
   ],
   "source": [
    "# Import Tensorflow and related libraries\n",
    "\n",
    "import tensorflow\n",
    "\n",
    "from tensorflow.keras.models import Sequential\n",
    "#from tensorflow.keras.models import Model\n",
    "from tensorflow.keras.layers import LSTM\n",
    "from tensorflow.keras.layers import GRU\n",
    "from tensorflow.keras.layers import Dense\n",
    "from tensorflow.keras.layers import Flatten\n",
    "from tensorflow.keras.layers import Dropout\n",
    "from tensorflow.keras.layers import Embedding\n",
    "from tensorflow.keras.layers import TimeDistributed\n",
    "from tensorflow.keras.layers import BatchNormalization\n",
    "\n",
    "\n",
    "from tensorflow.keras.layers import Conv1D\n",
    "from tensorflow.keras.layers import MaxPooling1D\n",
    "from tensorflow.keras.layers import Dropout\n",
    "from tensorflow.keras.layers import GlobalMaxPooling1D\n",
    "\n",
    "from tensorflow.keras.layers import Input\n",
    "\n",
    "from tensorflow.keras.utils import plot_model\n",
    "\n",
    "from tensorflow.keras.preprocessing.text import Tokenizer\n",
    "from tensorflow.keras.preprocessing.sequence import pad_sequences\n",
    "\n",
    "from sklearn.preprocessing import LabelEncoder\n",
    "\n",
    "print(\"TensorFlow version : \" + tensorflow.__version__)\n",
    "\n",
    "import numpy as np\n",
    "print(\"Numpy version : \" + np.version.version)\n",
    "\n",
    "import pandas as pd\n",
    "print(\"Pandas version : \" + pd.__version__)"
   ]
  },
  {
   "cell_type": "code",
   "execution_count": 6,
   "id": "circular-angle",
   "metadata": {
    "colab": {
     "base_uri": "https://localhost:8080/"
    },
    "id": "circular-angle",
    "outputId": "711dfcb1-9d4b-41d6-99ff-e38205573428"
   },
   "outputs": [
    {
     "name": "stdout",
     "output_type": "stream",
     "text": [
      "Name: /physical_device:GPU:0   Type: GPU\n"
     ]
    }
   ],
   "source": [
    "# Display available GPUs\n",
    "\n",
    "physical_devices = tensorflow.config.list_physical_devices('GPU')\n",
    "for gpu in physical_devices:\n",
    "    print(\"Name:\", gpu.name, \"  Type:\", gpu.device_type)"
   ]
  },
  {
   "cell_type": "code",
   "execution_count": 7,
   "id": "e6dffa8e",
   "metadata": {
    "colab": {
     "base_uri": "https://localhost:8080/"
    },
    "id": "e6dffa8e",
    "outputId": "e146cc07-813b-49d3-eadd-102481445b5f"
   },
   "outputs": [
    {
     "name": "stdout",
     "output_type": "stream",
     "text": [
      "GPU 0: NVIDIA GeForce GTX 1060 3GB (UUID: GPU-7e3eed14-c9a0-0a6c-b6f9-798ae952635f)\n"
     ]
    }
   ],
   "source": [
    "!nvidia-smi -L"
   ]
  },
  {
   "cell_type": "code",
   "execution_count": 8,
   "id": "d1c6e388",
   "metadata": {
    "colab": {
     "base_uri": "https://localhost:8080/"
    },
    "id": "d1c6e388",
    "outputId": "7b192348-4451-4e2e-d3b1-0c0b1cb17753"
   },
   "outputs": [
    {
     "name": "stdout",
     "output_type": "stream",
     "text": [
      "Thu Sep  2 09:28:20 2021       \n",
      "+-----------------------------------------------------------------------------+\n",
      "| NVIDIA-SMI 471.68       Driver Version: 471.68       CUDA Version: 11.4     |\n",
      "|-------------------------------+----------------------+----------------------+\n",
      "| GPU  Name            TCC/WDDM | Bus-Id        Disp.A | Volatile Uncorr. ECC |\n",
      "| Fan  Temp  Perf  Pwr:Usage/Cap|         Memory-Usage | GPU-Util  Compute M. |\n",
      "|                               |                      |               MIG M. |\n",
      "|===============================+======================+======================|\n",
      "|   0  NVIDIA GeForce ... WDDM  | 00000000:01:00.0  On |                  N/A |\n",
      "| 25%   34C    P5     9W / 120W |    644MiB /  3072MiB |      7%      Default |\n",
      "|                               |                      |                  N/A |\n",
      "+-------------------------------+----------------------+----------------------+\n",
      "                                                                               \n",
      "+-----------------------------------------------------------------------------+\n",
      "| Processes:                                                                  |\n",
      "|  GPU   GI   CI        PID   Type   Process name                  GPU Memory |\n",
      "|        ID   ID                                                   Usage      |\n",
      "|=============================================================================|\n",
      "|    0   N/A  N/A       400    C+G   Insufficient Permissions        N/A      |\n",
      "|    0   N/A  N/A      1980    C+G   ... Download Manager\\fdm.exe    N/A      |\n",
      "|    0   N/A  N/A      2492    C+G   ...zilla Firefox\\firefox.exe    N/A      |\n",
      "|    0   N/A  N/A      5224      C   ...a\\envs\\tf2_old\\python.exe    N/A      |\n",
      "|    0   N/A  N/A      6444    C+G   ...zilla Firefox\\firefox.exe    N/A      |\n",
      "|    0   N/A  N/A      6924    C+G   ...y\\ShellExperienceHost.exe    N/A      |\n",
      "|    0   N/A  N/A      7056    C+G   C:\\Windows\\explorer.exe         N/A      |\n",
      "|    0   N/A  N/A      7260    C+G   ...5n1h2txyewy\\SearchApp.exe    N/A      |\n",
      "|    0   N/A  N/A      7400    C+G   ...nputApp\\TextInputHost.exe    N/A      |\n",
      "+-----------------------------------------------------------------------------+\n"
     ]
    }
   ],
   "source": [
    "!nvidia-smi"
   ]
  },
  {
   "cell_type": "code",
   "execution_count": 9,
   "id": "preceding-travel",
   "metadata": {
    "id": "preceding-travel"
   },
   "outputs": [],
   "source": [
    "# Enable Memory Growth\n",
    "\n",
    "if physical_devices != []:\n",
    "    tensorflow.config.experimental.set_memory_growth(physical_devices[0], True)\n",
    "    physical_devices[0]"
   ]
  },
  {
   "cell_type": "code",
   "execution_count": 10,
   "id": "primary-bryan",
   "metadata": {
    "id": "primary-bryan"
   },
   "outputs": [],
   "source": [
    "# Parameters\n",
    "\n",
    "author_list = ['Charles Dickens','Jane Austen','Sir Arthur Conan Doyle','George Eliot','Jules Verne']\n",
    "seed_number = 122\n",
    "dataset_file  = \"dataset.csv\"\n",
    "validation_dataset_file  = \"validation_dataset.csv\"\n",
    "\n",
    "batch_size = 16 # number of images per batch to be processed\n",
    "\n",
    "epochs = 150 # number of maximum epochs to run\n",
    "\n",
    "trunc_type = 'post'\n",
    "padding_type = 'post'"
   ]
  },
  {
   "cell_type": "code",
   "execution_count": 11,
   "id": "e41a7202",
   "metadata": {
    "id": "e41a7202"
   },
   "outputs": [],
   "source": [
    "validation_data = pd.read_csv(validation_dataset_file, usecols = ['author','text'])"
   ]
  },
  {
   "cell_type": "code",
   "execution_count": 12,
   "id": "attractive-oriental",
   "metadata": {
    "id": "attractive-oriental"
   },
   "outputs": [],
   "source": [
    "data = pd.read_csv(dataset_file, usecols = ['author','text'])"
   ]
  },
  {
   "cell_type": "code",
   "execution_count": 13,
   "id": "dried-aerospace",
   "metadata": {
    "colab": {
     "base_uri": "https://localhost:8080/",
     "height": 206
    },
    "id": "dried-aerospace",
    "outputId": "c01a92c8-1b3e-4eea-e864-2559128fe716"
   },
   "outputs": [
    {
     "data": {
      "text/html": [
       "<div>\n",
       "<style scoped>\n",
       "    .dataframe tbody tr th:only-of-type {\n",
       "        vertical-align: middle;\n",
       "    }\n",
       "\n",
       "    .dataframe tbody tr th {\n",
       "        vertical-align: top;\n",
       "    }\n",
       "\n",
       "    .dataframe thead th {\n",
       "        text-align: right;\n",
       "    }\n",
       "</style>\n",
       "<table border=\"1\" class=\"dataframe\">\n",
       "  <thead>\n",
       "    <tr style=\"text-align: right;\">\n",
       "      <th></th>\n",
       "      <th>author</th>\n",
       "      <th>text</th>\n",
       "    </tr>\n",
       "  </thead>\n",
       "  <tbody>\n",
       "    <tr>\n",
       "      <th>23711</th>\n",
       "      <td>Jules Verne</td>\n",
       "      <td>stations the wire was wound round a magnet tha...</td>\n",
       "    </tr>\n",
       "    <tr>\n",
       "      <th>22502</th>\n",
       "      <td>Jules Verne</td>\n",
       "      <td>which by means of a current of electricity wou...</td>\n",
       "    </tr>\n",
       "    <tr>\n",
       "      <th>22785</th>\n",
       "      <td>Jules Verne</td>\n",
       "      <td>eye could reach. three hours passed away witho...</td>\n",
       "    </tr>\n",
       "    <tr>\n",
       "      <th>1075</th>\n",
       "      <td>Charles Dickens</td>\n",
       "      <td>brace it was not for want of the means of infl...</td>\n",
       "    </tr>\n",
       "    <tr>\n",
       "      <th>13135</th>\n",
       "      <td>Sir Arthur Conan Doyle</td>\n",
       "      <td>concerned at the sudden illness of my host to ...</td>\n",
       "    </tr>\n",
       "  </tbody>\n",
       "</table>\n",
       "</div>"
      ],
      "text/plain": [
       "                       author  \\\n",
       "23711             Jules Verne   \n",
       "22502             Jules Verne   \n",
       "22785             Jules Verne   \n",
       "1075          Charles Dickens   \n",
       "13135  Sir Arthur Conan Doyle   \n",
       "\n",
       "                                                    text  \n",
       "23711  stations the wire was wound round a magnet tha...  \n",
       "22502  which by means of a current of electricity wou...  \n",
       "22785  eye could reach. three hours passed away witho...  \n",
       "1075   brace it was not for want of the means of infl...  \n",
       "13135  concerned at the sudden illness of my host to ...  "
      ]
     },
     "execution_count": 13,
     "metadata": {},
     "output_type": "execute_result"
    }
   ],
   "source": [
    "data.sample(5)"
   ]
  },
  {
   "cell_type": "code",
   "execution_count": 14,
   "id": "matched-minutes",
   "metadata": {
    "id": "matched-minutes"
   },
   "outputs": [],
   "source": [
    "# max_length = max(data[\"text\"].str.len())\n",
    "# print(\"Max text length: \" + str(max_length))\n",
    "\n",
    "max_length = 100"
   ]
  },
  {
   "cell_type": "code",
   "execution_count": 15,
   "id": "interim-therapist",
   "metadata": {
    "id": "interim-therapist"
   },
   "outputs": [],
   "source": [
    "# full_text = []\n",
    "# for record in data[\"text\"]:\n",
    "#     full_text += record\n",
    "\n",
    "# unique = set(full_text)\n",
    "# print(unique)"
   ]
  },
  {
   "cell_type": "code",
   "execution_count": null,
   "id": "e45096e7",
   "metadata": {
    "id": "e45096e7"
   },
   "outputs": [],
   "source": []
  },
  {
   "cell_type": "code",
   "execution_count": 16,
   "id": "signal-football",
   "metadata": {
    "id": "signal-football"
   },
   "outputs": [],
   "source": [
    "from sklearn.model_selection import train_test_split\n",
    "\n",
    "# Train, Test, Validation Spit ratios 60%, 20%, 20% \n",
    "\n",
    "X_train, X_val, y_train, y_val = train_test_split(data[\"text\"], data[\"author\"], test_size=0.2, random_state=2000)\n",
    "X_train, X_test, y_train, y_test = train_test_split(X_train, y_train, test_size=0.25, random_state=seed_number) # 0.25 x 0.8 = 0.2"
   ]
  },
  {
   "cell_type": "code",
   "execution_count": 17,
   "id": "original-edition",
   "metadata": {
    "colab": {
     "base_uri": "https://localhost:8080/"
    },
    "id": "original-edition",
    "outputId": "1fc3087e-28cd-4a99-8d53-63e7ab85a1b2"
   },
   "outputs": [
    {
     "data": {
      "text/plain": [
       "15000"
      ]
     },
     "execution_count": 17,
     "metadata": {},
     "output_type": "execute_result"
    }
   ],
   "source": [
    "len(X_train)"
   ]
  },
  {
   "cell_type": "code",
   "execution_count": 18,
   "id": "psychological-framework",
   "metadata": {
    "colab": {
     "base_uri": "https://localhost:8080/"
    },
    "id": "psychological-framework",
    "outputId": "e02173b7-440b-41df-8049-5ab94987eb98"
   },
   "outputs": [
    {
     "data": {
      "text/plain": [
       "5000"
      ]
     },
     "execution_count": 18,
     "metadata": {},
     "output_type": "execute_result"
    }
   ],
   "source": [
    "len(X_test)"
   ]
  },
  {
   "cell_type": "code",
   "execution_count": 19,
   "id": "aa1f59f8",
   "metadata": {
    "colab": {
     "base_uri": "https://localhost:8080/"
    },
    "id": "aa1f59f8",
    "outputId": "751e2101-7fc4-4eba-f21a-c1c719b45d91"
   },
   "outputs": [
    {
     "data": {
      "text/plain": [
       "5000"
      ]
     },
     "execution_count": 19,
     "metadata": {},
     "output_type": "execute_result"
    }
   ],
   "source": [
    "len(X_val)"
   ]
  },
  {
   "cell_type": "code",
   "execution_count": 20,
   "id": "4e1f24db",
   "metadata": {
    "colab": {
     "base_uri": "https://localhost:8080/",
     "height": 206
    },
    "id": "4e1f24db",
    "outputId": "9e699168-da38-49cd-ec7d-7045fa5a21a1"
   },
   "outputs": [
    {
     "data": {
      "text/html": [
       "<div>\n",
       "<style scoped>\n",
       "    .dataframe tbody tr th:only-of-type {\n",
       "        vertical-align: middle;\n",
       "    }\n",
       "\n",
       "    .dataframe tbody tr th {\n",
       "        vertical-align: top;\n",
       "    }\n",
       "\n",
       "    .dataframe thead th {\n",
       "        text-align: right;\n",
       "    }\n",
       "</style>\n",
       "<table border=\"1\" class=\"dataframe\">\n",
       "  <thead>\n",
       "    <tr style=\"text-align: right;\">\n",
       "      <th></th>\n",
       "      <th>author</th>\n",
       "      <th>text</th>\n",
       "    </tr>\n",
       "  </thead>\n",
       "  <tbody>\n",
       "    <tr>\n",
       "      <th>3795</th>\n",
       "      <td>Jules Verne</td>\n",
       "      <td>be long in lowering they redoubled their effor...</td>\n",
       "    </tr>\n",
       "    <tr>\n",
       "      <th>3946</th>\n",
       "      <td>Jules Verne</td>\n",
       "      <td>i now recognized as that john turner who had b...</td>\n",
       "    </tr>\n",
       "    <tr>\n",
       "      <th>3401</th>\n",
       "      <td>Jules Verne</td>\n",
       "      <td>know the pym family that you have never met th...</td>\n",
       "    </tr>\n",
       "    <tr>\n",
       "      <th>2909</th>\n",
       "      <td>George Eliot</td>\n",
       "      <td>from home with good reasons in his pocket year...</td>\n",
       "    </tr>\n",
       "    <tr>\n",
       "      <th>1360</th>\n",
       "      <td>Jane Austen</td>\n",
       "      <td>dearest mother the affair which has given us s...</td>\n",
       "    </tr>\n",
       "  </tbody>\n",
       "</table>\n",
       "</div>"
      ],
      "text/plain": [
       "            author                                               text\n",
       "3795   Jules Verne  be long in lowering they redoubled their effor...\n",
       "3946   Jules Verne  i now recognized as that john turner who had b...\n",
       "3401   Jules Verne  know the pym family that you have never met th...\n",
       "2909  George Eliot  from home with good reasons in his pocket year...\n",
       "1360   Jane Austen  dearest mother the affair which has given us s..."
      ]
     },
     "execution_count": 20,
     "metadata": {},
     "output_type": "execute_result"
    }
   ],
   "source": [
    "validation_data.sample(5)"
   ]
  },
  {
   "cell_type": "code",
   "execution_count": 21,
   "id": "4d8ea1f0",
   "metadata": {
    "id": "4d8ea1f0"
   },
   "outputs": [],
   "source": [
    "X_val_2 = validation_data.text\n",
    "y_val_2 = validation_data.author"
   ]
  },
  {
   "cell_type": "code",
   "execution_count": 22,
   "id": "51b6b54d",
   "metadata": {
    "colab": {
     "base_uri": "https://localhost:8080/"
    },
    "id": "51b6b54d",
    "outputId": "e67fb407-a1e8-429a-c1b6-af8b8fb0f189"
   },
   "outputs": [
    {
     "data": {
      "text/plain": [
       "4000"
      ]
     },
     "execution_count": 22,
     "metadata": {},
     "output_type": "execute_result"
    }
   ],
   "source": [
    "len(X_val_2)"
   ]
  },
  {
   "cell_type": "code",
   "execution_count": 23,
   "id": "c6b38e1e",
   "metadata": {
    "colab": {
     "base_uri": "https://localhost:8080/"
    },
    "id": "c6b38e1e",
    "outputId": "b4e7557c-31cd-43aa-b219-6e501957dd78"
   },
   "outputs": [
    {
     "data": {
      "text/plain": [
       "318     ferret eyes when the chimes of a neighbouring ...\n",
       "3337    dont stop here urged joe let us go up master l...\n",
       "886     of this one great deviation from the strict ru...\n",
       "387     the infection off though the plump sister trie...\n",
       "2563    by a wave of loving penitence and words burst ...\n",
       "Name: text, dtype: object"
      ]
     },
     "execution_count": 23,
     "metadata": {},
     "output_type": "execute_result"
    }
   ],
   "source": [
    "X_val_2.sample(5)"
   ]
  },
  {
   "cell_type": "code",
   "execution_count": 24,
   "id": "4012b378",
   "metadata": {
    "colab": {
     "base_uri": "https://localhost:8080/"
    },
    "id": "4012b378",
    "outputId": "32919464-3508-496a-f994-36d554883d49"
   },
   "outputs": [
    {
     "data": {
      "text/plain": [
       "683     Charles Dickens\n",
       "3398        Jules Verne\n",
       "1562        Jane Austen\n",
       "3877        Jules Verne\n",
       "447     Charles Dickens\n",
       "Name: author, dtype: object"
      ]
     },
     "execution_count": 24,
     "metadata": {},
     "output_type": "execute_result"
    }
   ],
   "source": [
    "y_val_2.sample(5)"
   ]
  },
  {
   "cell_type": "code",
   "execution_count": 25,
   "id": "continuing-auditor",
   "metadata": {
    "id": "continuing-auditor"
   },
   "outputs": [],
   "source": [
    "text_tokenizer = Tokenizer() #num_words = vocab_size, oov_token=oov_tok)\n",
    "text_tokenizer.fit_on_texts(X_train)\n",
    "text_index = text_tokenizer.word_index\n",
    "\n",
    "X_train_sequences = text_tokenizer.texts_to_sequences(X_train)\n",
    "X_train_sequences = pad_sequences(X_train_sequences, maxlen=max_length, padding=padding_type, truncating=trunc_type)\n",
    "\n",
    "X_test_sequences = text_tokenizer.texts_to_sequences(X_test)\n",
    "X_test_sequences = pad_sequences(X_test_sequences, maxlen=max_length, padding=padding_type, truncating=trunc_type)\n",
    "\n",
    "X_val_sequences = text_tokenizer.texts_to_sequences(X_val)\n",
    "X_val_sequences = pad_sequences(X_val_sequences, maxlen=max_length, padding=padding_type, truncating=trunc_type)\n",
    "\n",
    "X_val_sequences_2 = text_tokenizer.texts_to_sequences(X_val_2)\n",
    "X_val_sequences_2 = pad_sequences(X_val_sequences_2, maxlen=max_length, padding=padding_type, truncating=trunc_type)"
   ]
  },
  {
   "cell_type": "code",
   "execution_count": 26,
   "id": "federal-struggle",
   "metadata": {
    "colab": {
     "base_uri": "https://localhost:8080/"
    },
    "id": "federal-struggle",
    "outputId": "1261fd09-6822-4c95-cc2f-b81eba311722"
   },
   "outputs": [
    {
     "name": "stdout",
     "output_type": "stream",
     "text": [
      "31202\n"
     ]
    }
   ],
   "source": [
    "vocab_size = len(text_index) + 1\n",
    "print(vocab_size)"
   ]
  },
  {
   "cell_type": "code",
   "execution_count": 27,
   "id": "explicit-williams",
   "metadata": {
    "colab": {
     "base_uri": "https://localhost:8080/"
    },
    "id": "explicit-williams",
    "outputId": "bb0f1abe-8a5d-40fd-97ab-2e8ed67a271c"
   },
   "outputs": [
    {
     "data": {
      "text/plain": [
       "array([[  16, 6934,   19, ...,    0,    0,    0],\n",
       "       [  15,   43,   65, ...,    0,    0,    0],\n",
       "       [   9,    1, 6300, ...,    0,    0,    0],\n",
       "       ...,\n",
       "       [   3,   31,    6, ...,    0,    0,    0],\n",
       "       [2193,    2, 1027, ...,    0,    0,    0],\n",
       "       [ 244,   25,   15, ...,    0,    0,    0]])"
      ]
     },
     "execution_count": 27,
     "metadata": {},
     "output_type": "execute_result"
    }
   ],
   "source": [
    "X_train_sequences"
   ]
  },
  {
   "cell_type": "code",
   "execution_count": 28,
   "id": "strong-ukraine",
   "metadata": {
    "id": "strong-ukraine"
   },
   "outputs": [],
   "source": [
    "label_tokenizer = LabelEncoder()\n",
    "label_tokenizer.fit(author_list)\n",
    "label_index = label_tokenizer.classes_\n",
    "\n",
    "y_train_sequences = np.array(label_tokenizer.transform(y_train))\n",
    "y_test_sequences = np.array(label_tokenizer.transform(y_test))\n",
    "y_val_sequences = np.array(label_tokenizer.transform(y_val))\n",
    "y_val_sequences_2 = np.array(label_tokenizer.transform(y_val_2))"
   ]
  },
  {
   "cell_type": "code",
   "execution_count": 29,
   "id": "suited-tobacco",
   "metadata": {
    "id": "suited-tobacco"
   },
   "outputs": [],
   "source": [
    "\n",
    "# label_tokenizer = Tokenizer()\n",
    "# label_tokenizer.fit_on_texts(y_train)\n",
    "# label_index = label_tokenizer.word_index\n",
    "\n",
    "# y_train_sequences = np.array(label_tokenizer.texts_to_sequences(y_train))\n",
    "# y_test_sequences = np.array(label_tokenizer.texts_to_sequences(y_test))"
   ]
  },
  {
   "cell_type": "code",
   "execution_count": 30,
   "id": "informed-precipitation",
   "metadata": {
    "colab": {
     "base_uri": "https://localhost:8080/"
    },
    "id": "informed-precipitation",
    "outputId": "64ede3c4-5311-4b68-9620-df1c9c7a19a9"
   },
   "outputs": [
    {
     "data": {
      "text/plain": [
       "array(['Charles Dickens', 'George Eliot', 'Jane Austen', 'Jules Verne',\n",
       "       'Sir Arthur Conan Doyle'], dtype='<U22')"
      ]
     },
     "execution_count": 30,
     "metadata": {},
     "output_type": "execute_result"
    }
   ],
   "source": [
    "label_index"
   ]
  },
  {
   "cell_type": "code",
   "execution_count": 31,
   "id": "still-baseline",
   "metadata": {
    "id": "still-baseline"
   },
   "outputs": [],
   "source": [
    "vec_size = 250"
   ]
  },
  {
   "cell_type": "markdown",
   "id": "numeric-produce",
   "metadata": {
    "id": "numeric-produce"
   },
   "source": [
    "### Word2Vec vector loading"
   ]
  },
  {
   "cell_type": "code",
   "execution_count": 32,
   "id": "collect-apollo",
   "metadata": {
    "id": "collect-apollo"
   },
   "outputs": [],
   "source": [
    "# Ref : https://tfhub.dev/google/Wiki-words-250/2"
   ]
  },
  {
   "cell_type": "code",
   "execution_count": 33,
   "id": "proved-irish",
   "metadata": {
    "id": "proved-irish"
   },
   "outputs": [],
   "source": [
    "import tensorflow_hub as hub\n",
    "embed = hub.load(\"https://tfhub.dev/google/Wiki-words-250/2\")\n"
   ]
  },
  {
   "cell_type": "code",
   "execution_count": 34,
   "id": "dried-decade",
   "metadata": {
    "id": "dried-decade"
   },
   "outputs": [],
   "source": [
    "no_vectors = []"
   ]
  },
  {
   "cell_type": "code",
   "execution_count": 35,
   "id": "legendary-combining",
   "metadata": {
    "colab": {
     "base_uri": "https://localhost:8080/"
    },
    "id": "legendary-combining",
    "outputId": "28c309e6-a10c-4142-c1ac-b30c3df7079f"
   },
   "outputs": [
    {
     "name": "stdout",
     "output_type": "stream",
     "text": [
      "Wall time: 1min 5s\n"
     ]
    }
   ],
   "source": [
    "%%time\n",
    "\n",
    "word_vector_matrix = np.zeros((vocab_size, vec_size))\n",
    "\n",
    "for word, index in text_index.items():\n",
    "#     print(word,\"-->\",index)\n",
    "    vector = embed([word])[0].numpy()\n",
    "  \n",
    "    if vector is not None:\n",
    "        word_vector_matrix[index] = vector\n",
    "    if (not np.any((vector))) or (vector is None):\n",
    "        no_vectors.append(word) "
   ]
  },
  {
   "cell_type": "code",
   "execution_count": 36,
   "id": "b43d2b91",
   "metadata": {
    "id": "b43d2b91"
   },
   "outputs": [],
   "source": [
    "# text_index"
   ]
  },
  {
   "cell_type": "code",
   "execution_count": 37,
   "id": "meaningful-particle",
   "metadata": {
    "id": "meaningful-particle"
   },
   "outputs": [],
   "source": [
    "np.savetxt(\"word_vector_matrix.csv\", word_vector_matrix, delimiter=\",\")"
   ]
  },
  {
   "cell_type": "code",
   "execution_count": 38,
   "id": "arctic-redhead",
   "metadata": {
    "colab": {
     "base_uri": "https://localhost:8080/"
    },
    "id": "arctic-redhead",
    "outputId": "bcda04ef-7251-47be-9c9e-a7b786a54820"
   },
   "outputs": [
    {
     "data": {
      "text/plain": [
       "8711"
      ]
     },
     "execution_count": 38,
     "metadata": {},
     "output_type": "execute_result"
    }
   ],
   "source": [
    "len(no_vectors)"
   ]
  },
  {
   "cell_type": "code",
   "execution_count": 39,
   "id": "invalid-distribution",
   "metadata": {
    "colab": {
     "base_uri": "https://localhost:8080/"
    },
    "id": "invalid-distribution",
    "outputId": "d5ad9965-d930-4a97-f9ba-2e125df9304e"
   },
   "outputs": [
    {
     "data": {
      "text/plain": [
       "31202"
      ]
     },
     "execution_count": 39,
     "metadata": {},
     "output_type": "execute_result"
    }
   ],
   "source": [
    "len(word_vector_matrix)"
   ]
  },
  {
   "cell_type": "code",
   "execution_count": 40,
   "id": "40760414",
   "metadata": {
    "colab": {
     "base_uri": "https://localhost:8080/"
    },
    "id": "40760414",
    "outputId": "752e3023-17c4-42bf-a56a-e0465f3b90a7"
   },
   "outputs": [
    {
     "data": {
      "text/plain": [
       "31202"
      ]
     },
     "execution_count": 40,
     "metadata": {},
     "output_type": "execute_result"
    }
   ],
   "source": [
    "vocab_size"
   ]
  },
  {
   "cell_type": "code",
   "execution_count": 41,
   "id": "special-karaoke",
   "metadata": {
    "id": "special-karaoke"
   },
   "outputs": [],
   "source": [
    "# if text_index.get(word) != None:\n",
    "#     print(\"yes\")\n",
    "# else:\n",
    "#     print(\"no\")    "
   ]
  },
  {
   "cell_type": "code",
   "execution_count": 42,
   "id": "historical-solomon",
   "metadata": {
    "id": "historical-solomon"
   },
   "outputs": [],
   "source": [
    "# word_vector_matrix[0]"
   ]
  },
  {
   "cell_type": "code",
   "execution_count": 43,
   "id": "acting-midwest",
   "metadata": {
    "colab": {
     "base_uri": "https://localhost:8080/",
     "height": 1000
    },
    "id": "acting-midwest",
    "outputId": "f570e984-4ac4-4981-eea8-da213ff3f727"
   },
   "outputs": [
    {
     "name": "stdout",
     "output_type": "stream",
     "text": [
      "Model: \"keras_word2vec_lstm\"\n",
      "_________________________________________________________________\n",
      "Layer (type)                 Output Shape              Param #   \n",
      "=================================================================\n",
      "embedding (Embedding)        (None, 100, 250)          7800500   \n",
      "_________________________________________________________________\n",
      "lstm (LSTM)                  (None, 100, 250)          501000    \n",
      "_________________________________________________________________\n",
      "batch_normalization (BatchNo (None, 100, 250)          1000      \n",
      "_________________________________________________________________\n",
      "dropout (Dropout)            (None, 100, 250)          0         \n",
      "_________________________________________________________________\n",
      "lstm_1 (LSTM)                (None, 100, 250)          501000    \n",
      "_________________________________________________________________\n",
      "batch_normalization_1 (Batch (None, 100, 250)          1000      \n",
      "_________________________________________________________________\n",
      "dropout_1 (Dropout)          (None, 100, 250)          0         \n",
      "_________________________________________________________________\n",
      "lstm_2 (LSTM)                (None, 100, 250)          501000    \n",
      "_________________________________________________________________\n",
      "batch_normalization_2 (Batch (None, 100, 250)          1000      \n",
      "_________________________________________________________________\n",
      "dropout_2 (Dropout)          (None, 100, 250)          0         \n",
      "_________________________________________________________________\n",
      "lstm_3 (LSTM)                (None, 250)               501000    \n",
      "_________________________________________________________________\n",
      "batch_normalization_3 (Batch (None, 250)               1000      \n",
      "_________________________________________________________________\n",
      "dropout_3 (Dropout)          (None, 250)               0         \n",
      "_________________________________________________________________\n",
      "dense (Dense)                (None, 5)                 1255      \n",
      "=================================================================\n",
      "Total params: 9,809,755\n",
      "Trainable params: 2,007,255\n",
      "Non-trainable params: 7,802,500\n",
      "_________________________________________________________________\n"
     ]
    },
    {
     "data": {
      "image/png": "[encoded data removed]",
      "text/plain": [
       "<IPython.core.display.Image object>"
      ]
     },
     "execution_count": 43,
     "metadata": {},
     "output_type": "execute_result"
    }
   ],
   "source": [
    "# define new model\n",
    "\n",
    "# Testing model based on \"https://medium.com/voice-tech-podcast/an-overview-of-rnn-lstm-gru-79ed642751c6\"\n",
    "\n",
    "model = Sequential()\n",
    "model.add(Embedding(vocab_size, vec_size, input_length = max_length, weights = [word_vector_matrix], trainable = False))\n",
    "\n",
    "#model.add(BatchNormalization())\n",
    "model.add(LSTM(units=vec_size, return_sequences=True))\n",
    "model.add(BatchNormalization())\n",
    "model.add(Dropout(0.5))\n",
    "\n",
    "model.add(LSTM(units=vec_size, return_sequences=True))\n",
    "model.add(BatchNormalization())\n",
    "model.add(Dropout(0.5))\n",
    "\n",
    "model.add(LSTM(units=vec_size, return_sequences=True))\n",
    "model.add(BatchNormalization())\n",
    "model.add(Dropout(0.5))\n",
    "\n",
    "model.add(LSTM(units=vec_size))\n",
    "model.add(BatchNormalization())\n",
    "model.add(Dropout(0.5))\n",
    "#model.add(GRU(units=vec_size, return_sequences=False))\n",
    "\n",
    "#model.add(LSTM(units=vec_size, ))\n",
    "\n",
    "#model.add(TimeDistributed(Dense(vocab_size)))\n",
    "\n",
    "#model.add(Conv1D(64, 8, activation = 'relu'))\n",
    "#model.add(MaxPooling1D(2))\n",
    "# model.add(Dropout(0.3))\n",
    "\n",
    "# model.add(Dense(32, activation = 'relu'))\n",
    "# model.add(Dropout(0.3))          \n",
    "    \n",
    "# model.add(Dense(16, activation = 'relu'))\n",
    "          \n",
    "#model.add(GlobalMaxPooling1D())          \n",
    "          \n",
    "# #model.add(LSTM(64,dropout=0.3)) # , recurrent_dropout =0.3))\n",
    "model.add(Dense(5, activation='softmax'))\n",
    "\n",
    "model._name = \"keras_word2vec_lstm\"\n",
    "model.summary()\n",
    "\n",
    "# Save the model as a png file\n",
    "plot_model(model, to_file=model._name +'.png', show_shapes=True, show_layer_names=True)"
   ]
  },
  {
   "cell_type": "code",
   "execution_count": 44,
   "id": "stuck-dispatch",
   "metadata": {
    "colab": {
     "base_uri": "https://localhost:8080/"
    },
    "id": "stuck-dispatch",
    "outputId": "b75ed63f-d383-4a05-e2b5-719295308c8b"
   },
   "outputs": [
    {
     "name": "stdout",
     "output_type": "stream",
     "text": [
      "0 embedding False\n",
      "1 lstm True\n",
      "2 batch_normalization True\n",
      "3 dropout True\n",
      "4 lstm_1 True\n",
      "5 batch_normalization_1 True\n",
      "6 dropout_1 True\n",
      "7 lstm_2 True\n",
      "8 batch_normalization_2 True\n",
      "9 dropout_2 True\n",
      "10 lstm_3 True\n",
      "11 batch_normalization_3 True\n",
      "12 dropout_3 True\n",
      "13 dense True\n"
     ]
    }
   ],
   "source": [
    "# Show the trainable status of the layers\n",
    "\n",
    "for i, layer in enumerate(model.layers):\n",
    "    print(i, layer.name, layer.trainable)"
   ]
  },
  {
   "cell_type": "code",
   "execution_count": 45,
   "id": "manufactured-niagara",
   "metadata": {
    "id": "manufactured-niagara"
   },
   "outputs": [],
   "source": [
    "# Compile the model\n",
    "\n",
    "model.compile(\n",
    "    #optimizer=tensorflow.keras.optimizers.Adam(learning_rate=0.00001),\n",
    "    optimizer=tensorflow.keras.optimizers.RMSprop(learning_rate=0.0001),\n",
    "    loss=\"sparse_categorical_crossentropy\",\n",
    "    metrics=[\"accuracy\"],\n",
    ")"
   ]
  },
  {
   "cell_type": "code",
   "execution_count": 46,
   "id": "passing-chambers",
   "metadata": {
    "id": "passing-chambers"
   },
   "outputs": [],
   "source": [
    "# Tensorboard parameters\n",
    "\n",
    "import datetime\n",
    "log_dir = \"logs/fit/\" + datetime.datetime.now().strftime(\"%Y%m%d-%H%M%S\")\n",
    "tensorboard_callback = tensorflow.keras.callbacks.TensorBoard(log_dir=log_dir, histogram_freq=1)"
   ]
  },
  {
   "cell_type": "code",
   "execution_count": 47,
   "id": "diagnostic-hydrogen",
   "metadata": {
    "id": "diagnostic-hydrogen"
   },
   "outputs": [],
   "source": [
    "# Use best weights for the model\n",
    "\n",
    "early_stopping_monitor = tensorflow.keras.callbacks.EarlyStopping(\n",
    "    monitor='val_accuracy',\n",
    "    min_delta=0,\n",
    "    patience=50,\n",
    "    verbose=0,\n",
    "    mode='max',\n",
    "    baseline=None,\n",
    "    restore_best_weights=True\n",
    ")"
   ]
  },
  {
   "cell_type": "code",
   "execution_count": 48,
   "id": "unlike-ballot",
   "metadata": {
    "colab": {
     "base_uri": "https://localhost:8080/"
    },
    "id": "unlike-ballot",
    "outputId": "fcdad898-9d9b-4c78-ef2e-b8c65d89c450"
   },
   "outputs": [
    {
     "name": "stdout",
     "output_type": "stream",
     "text": [
      "Epoch 1/150\n",
      "938/938 [==============================] - 82s 79ms/step - loss: 2.5022 - accuracy: 0.1960 - val_loss: 3.5901 - val_accuracy: 0.2054\n",
      "Epoch 2/150\n",
      "938/938 [==============================] - 72s 77ms/step - loss: 2.0018 - accuracy: 0.2784 - val_loss: 2.2944 - val_accuracy: 0.3272\n",
      "Epoch 3/150\n",
      "938/938 [==============================] - 72s 77ms/step - loss: 1.7716 - accuracy: 0.3199 - val_loss: 1.6474 - val_accuracy: 0.3070\n",
      "Epoch 4/150\n",
      "938/938 [==============================] - 72s 77ms/step - loss: 1.6296 - accuracy: 0.3337 - val_loss: 2.0568 - val_accuracy: 0.2418\n",
      "Epoch 5/150\n",
      "938/938 [==============================] - 72s 77ms/step - loss: 1.5367 - accuracy: 0.3457 - val_loss: 6.7669 - val_accuracy: 0.1988\n",
      "Epoch 6/150\n",
      "938/938 [==============================] - 72s 76ms/step - loss: 1.4760 - accuracy: 0.3627 - val_loss: 2.7974 - val_accuracy: 0.2398\n",
      "Epoch 7/150\n",
      "938/938 [==============================] - 72s 77ms/step - loss: 1.4383 - accuracy: 0.3836 - val_loss: 1.5720 - val_accuracy: 0.3404\n",
      "Epoch 8/150\n",
      "938/938 [==============================] - 72s 77ms/step - loss: 1.3314 - accuracy: 0.4359 - val_loss: 1.6858 - val_accuracy: 0.2502\n",
      "Epoch 9/150\n",
      "938/938 [==============================] - 72s 76ms/step - loss: 1.2698 - accuracy: 0.4663 - val_loss: 2.1265 - val_accuracy: 0.2382\n",
      "Epoch 10/150\n",
      "938/938 [==============================] - 72s 77ms/step - loss: 1.2722 - accuracy: 0.4604 - val_loss: 1.8222 - val_accuracy: 0.3856\n",
      "Epoch 11/150\n",
      "938/938 [==============================] - 72s 77ms/step - loss: 1.2230 - accuracy: 0.4857 - val_loss: 2.4267 - val_accuracy: 0.3212\n",
      "Epoch 12/150\n",
      "938/938 [==============================] - 72s 77ms/step - loss: 1.1569 - accuracy: 0.5233 - val_loss: 2.4352 - val_accuracy: 0.3542\n",
      "Epoch 13/150\n",
      "938/938 [==============================] - 73s 78ms/step - loss: 1.1091 - accuracy: 0.5512 - val_loss: 1.3312 - val_accuracy: 0.4958\n",
      "Epoch 14/150\n",
      "938/938 [==============================] - 73s 77ms/step - loss: 1.0628 - accuracy: 0.5745 - val_loss: 3.4149 - val_accuracy: 0.2010\n",
      "Epoch 15/150\n",
      "938/938 [==============================] - 73s 77ms/step - loss: 1.0339 - accuracy: 0.5859 - val_loss: 2.5272 - val_accuracy: 0.3440\n",
      "Epoch 16/150\n",
      "938/938 [==============================] - 73s 78ms/step - loss: 1.0081 - accuracy: 0.5987 - val_loss: 1.8737 - val_accuracy: 0.4288\n",
      "Epoch 17/150\n",
      "938/938 [==============================] - 73s 77ms/step - loss: 0.9903 - accuracy: 0.6075 - val_loss: 1.3474 - val_accuracy: 0.5364\n",
      "Epoch 18/150\n",
      "938/938 [==============================] - 73s 78ms/step - loss: 0.9640 - accuracy: 0.6141 - val_loss: 1.4660 - val_accuracy: 0.4820\n",
      "Epoch 19/150\n",
      "938/938 [==============================] - 74s 79ms/step - loss: 0.9557 - accuracy: 0.6303 - val_loss: 1.2062 - val_accuracy: 0.5508\n",
      "Epoch 20/150\n",
      "938/938 [==============================] - 75s 80ms/step - loss: 0.9222 - accuracy: 0.6427 - val_loss: 1.4906 - val_accuracy: 0.4850\n",
      "Epoch 21/150\n",
      "938/938 [==============================] - 75s 80ms/step - loss: 0.9062 - accuracy: 0.6438 - val_loss: 2.1802 - val_accuracy: 0.3874\n",
      "Epoch 22/150\n",
      "938/938 [==============================] - 75s 80ms/step - loss: 0.8845 - accuracy: 0.6585 - val_loss: 1.1651 - val_accuracy: 0.5828\n",
      "Epoch 23/150\n",
      "938/938 [==============================] - 75s 80ms/step - loss: 0.8592 - accuracy: 0.6691 - val_loss: 3.1389 - val_accuracy: 0.2934\n",
      "Epoch 24/150\n",
      "938/938 [==============================] - 75s 80ms/step - loss: 0.8574 - accuracy: 0.6717 - val_loss: 1.2535 - val_accuracy: 0.5898\n",
      "Epoch 25/150\n",
      "938/938 [==============================] - 75s 80ms/step - loss: 0.8391 - accuracy: 0.6788 - val_loss: 1.1500 - val_accuracy: 0.5716\n",
      "Epoch 26/150\n",
      "938/938 [==============================] - 75s 80ms/step - loss: 0.8287 - accuracy: 0.6861 - val_loss: 1.0277 - val_accuracy: 0.64500s - l\n",
      "Epoch 27/150\n",
      "938/938 [==============================] - 71s 76ms/step - loss: 0.8119 - accuracy: 0.6903 - val_loss: 1.3161 - val_accuracy: 0.5932\n",
      "Epoch 28/150\n",
      "938/938 [==============================] - 72s 77ms/step - loss: 0.7984 - accuracy: 0.6965 - val_loss: 1.0153 - val_accuracy: 0.6154\n",
      "Epoch 29/150\n",
      "938/938 [==============================] - 72s 77ms/step - loss: 0.7766 - accuracy: 0.7049 - val_loss: 0.9314 - val_accuracy: 0.6500\n",
      "Epoch 30/150\n",
      "938/938 [==============================] - 71s 76ms/step - loss: 0.7650 - accuracy: 0.7104 - val_loss: 1.1114 - val_accuracy: 0.5972\n",
      "Epoch 31/150\n",
      "938/938 [==============================] - 72s 77ms/step - loss: 0.7424 - accuracy: 0.7171 - val_loss: 1.2271 - val_accuracy: 0.5780\n",
      "Epoch 32/150\n",
      "938/938 [==============================] - 72s 76ms/step - loss: 0.7264 - accuracy: 0.7245 - val_loss: 1.2866 - val_accuracy: 0.5844\n",
      "Epoch 33/150\n",
      "938/938 [==============================] - 72s 77ms/step - loss: 0.7028 - accuracy: 0.7363 - val_loss: 1.3474 - val_accuracy: 0.5684\n",
      "Epoch 34/150\n",
      "938/938 [==============================] - 73s 77ms/step - loss: 0.6953 - accuracy: 0.7445 - val_loss: 1.0202 - val_accuracy: 0.6474\n",
      "Epoch 35/150\n",
      "938/938 [==============================] - 71s 75ms/step - loss: 0.6768 - accuracy: 0.7459 - val_loss: 1.2423 - val_accuracy: 0.5652\n",
      "Epoch 36/150\n",
      "938/938 [==============================] - 73s 78ms/step - loss: 0.6632 - accuracy: 0.7545 - val_loss: 1.3295 - val_accuracy: 0.6046\n",
      "Epoch 37/150\n",
      "938/938 [==============================] - 73s 78ms/step - loss: 0.6334 - accuracy: 0.7703 - val_loss: 1.5281 - val_accuracy: 0.5370\n",
      "Epoch 38/150\n",
      "938/938 [==============================] - 73s 78ms/step - loss: 0.6233 - accuracy: 0.7723 - val_loss: 1.3816 - val_accuracy: 0.6056\n",
      "Epoch 39/150\n",
      "938/938 [==============================] - 72s 76ms/step - loss: 0.6089 - accuracy: 0.7790 - val_loss: 1.0466 - val_accuracy: 0.64060s - loss: 0.6089 - accuracy: 0.77\n",
      "Epoch 40/150\n",
      "938/938 [==============================] - 73s 78ms/step - loss: 0.5824 - accuracy: 0.7900 - val_loss: 1.5455 - val_accuracy: 0.5518\n",
      "Epoch 41/150\n",
      "938/938 [==============================] - 72s 77ms/step - loss: 0.5652 - accuracy: 0.7931 - val_loss: 1.1574 - val_accuracy: 0.6398\n",
      "Epoch 42/150\n",
      "938/938 [==============================] - 72s 77ms/step - loss: 0.5509 - accuracy: 0.7999 - val_loss: 1.2577 - val_accuracy: 0.6392\n",
      "Epoch 43/150\n",
      "938/938 [==============================] - 73s 78ms/step - loss: 0.5339 - accuracy: 0.8059 - val_loss: 1.3247 - val_accuracy: 0.6384\n",
      "Epoch 44/150\n",
      "938/938 [==============================] - 73s 78ms/step - loss: 0.5225 - accuracy: 0.8119 - val_loss: 1.0979 - val_accuracy: 0.6520\n",
      "Epoch 45/150\n",
      "938/938 [==============================] - 72s 77ms/step - loss: 0.4896 - accuracy: 0.8246 - val_loss: 0.9272 - val_accuracy: 0.7102\n",
      "Epoch 46/150\n",
      "938/938 [==============================] - 73s 77ms/step - loss: 0.4786 - accuracy: 0.8283 - val_loss: 1.3210 - val_accuracy: 0.6290\n",
      "Epoch 47/150\n",
      "938/938 [==============================] - 73s 77ms/step - loss: 0.4601 - accuracy: 0.8333 - val_loss: 1.2321 - val_accuracy: 0.6582\n",
      "Epoch 48/150\n",
      "938/938 [==============================] - 73s 78ms/step - loss: 0.4412 - accuracy: 0.8413 - val_loss: 1.2847 - val_accuracy: 0.6452\n",
      "Epoch 49/150\n",
      "938/938 [==============================] - 72s 77ms/step - loss: 0.4263 - accuracy: 0.8509 - val_loss: 1.1179 - val_accuracy: 0.6548\n",
      "Epoch 50/150\n",
      "938/938 [==============================] - 72s 76ms/step - loss: 0.4121 - accuracy: 0.8540 - val_loss: 1.2302 - val_accuracy: 0.6558\n",
      "Epoch 51/150\n",
      "938/938 [==============================] - 73s 77ms/step - loss: 0.3893 - accuracy: 0.8625 - val_loss: 1.2277 - val_accuracy: 0.6534\n",
      "Epoch 52/150\n",
      "938/938 [==============================] - 72s 77ms/step - loss: 0.3796 - accuracy: 0.8687 - val_loss: 1.4566 - val_accuracy: 0.6434\n",
      "Epoch 53/150\n",
      "938/938 [==============================] - 72s 77ms/step - loss: 0.3564 - accuracy: 0.8728 - val_loss: 1.3763 - val_accuracy: 0.6258\n",
      "Epoch 54/150\n",
      "938/938 [==============================] - 74s 79ms/step - loss: 0.3486 - accuracy: 0.8825 - val_loss: 1.3058 - val_accuracy: 0.6474\n",
      "Epoch 55/150\n",
      "938/938 [==============================] - 72s 77ms/step - loss: 0.3328 - accuracy: 0.8807 - val_loss: 1.1415 - val_accuracy: 0.6810\n",
      "Epoch 56/150\n"
     ]
    },
    {
     "name": "stdout",
     "output_type": "stream",
     "text": [
      "938/938 [==============================] - 72s 77ms/step - loss: 0.3243 - accuracy: 0.8877 - val_loss: 1.1265 - val_accuracy: 0.6840\n",
      "Epoch 57/150\n",
      "938/938 [==============================] - 73s 78ms/step - loss: 0.3087 - accuracy: 0.8937 - val_loss: 1.0938 - val_accuracy: 0.7028\n",
      "Epoch 58/150\n",
      "938/938 [==============================] - 72s 77ms/step - loss: 0.2937 - accuracy: 0.9009 - val_loss: 1.2873 - val_accuracy: 0.6748\n",
      "Epoch 59/150\n",
      "938/938 [==============================] - 77s 82ms/step - loss: 0.2878 - accuracy: 0.9036 - val_loss: 1.1525 - val_accuracy: 0.6914\n",
      "Epoch 60/150\n",
      "938/938 [==============================] - 73s 77ms/step - loss: 0.2746 - accuracy: 0.9071 - val_loss: 1.1713 - val_accuracy: 0.7058\n",
      "Epoch 61/150\n",
      "938/938 [==============================] - 72s 77ms/step - loss: 0.2582 - accuracy: 0.9115 - val_loss: 1.2408 - val_accuracy: 0.6870\n",
      "Epoch 62/150\n",
      "938/938 [==============================] - 72s 77ms/step - loss: 0.2406 - accuracy: 0.9194 - val_loss: 1.5129 - val_accuracy: 0.6732\n",
      "Epoch 63/150\n",
      "938/938 [==============================] - 72s 77ms/step - loss: 0.2464 - accuracy: 0.9180 - val_loss: 1.3715 - val_accuracy: 0.6762\n",
      "Epoch 64/150\n",
      "938/938 [==============================] - 72s 77ms/step - loss: 0.2285 - accuracy: 0.9253 - val_loss: 1.6501 - val_accuracy: 0.6592\n",
      "Epoch 65/150\n",
      "938/938 [==============================] - 72s 77ms/step - loss: 0.2243 - accuracy: 0.9272 - val_loss: 1.3528 - val_accuracy: 0.6928\n",
      "Epoch 66/150\n",
      "938/938 [==============================] - 72s 77ms/step - loss: 0.2093 - accuracy: 0.9321 - val_loss: 1.4098 - val_accuracy: 0.6756\n",
      "Epoch 67/150\n",
      "938/938 [==============================] - 72s 77ms/step - loss: 0.2011 - accuracy: 0.9343 - val_loss: 1.5072 - val_accuracy: 0.6796\n",
      "Epoch 68/150\n",
      "938/938 [==============================] - 72s 76ms/step - loss: 0.2025 - accuracy: 0.9358 - val_loss: 1.4284 - val_accuracy: 0.6828\n",
      "Epoch 69/150\n",
      "938/938 [==============================] - 73s 78ms/step - loss: 0.1950 - accuracy: 0.9373 - val_loss: 1.4106 - val_accuracy: 0.6968\n",
      "Epoch 70/150\n",
      "938/938 [==============================] - 72s 77ms/step - loss: 0.1941 - accuracy: 0.9370 - val_loss: 1.2890 - val_accuracy: 0.6970\n",
      "Epoch 71/150\n",
      "938/938 [==============================] - 72s 77ms/step - loss: 0.1717 - accuracy: 0.9436 - val_loss: 1.8290 - val_accuracy: 0.6512\n",
      "Epoch 72/150\n",
      "938/938 [==============================] - 73s 77ms/step - loss: 0.1767 - accuracy: 0.9433 - val_loss: 1.7351 - val_accuracy: 0.6720\n",
      "Epoch 73/150\n",
      "938/938 [==============================] - 72s 77ms/step - loss: 0.1682 - accuracy: 0.9459 - val_loss: 1.4403 - val_accuracy: 0.6896\n",
      "Epoch 74/150\n",
      "938/938 [==============================] - 73s 77ms/step - loss: 0.1695 - accuracy: 0.9456 - val_loss: 1.7200 - val_accuracy: 0.6650\n",
      "Epoch 75/150\n",
      "938/938 [==============================] - 73s 77ms/step - loss: 0.1653 - accuracy: 0.9460 - val_loss: 1.4990 - val_accuracy: 0.6900\n",
      "Epoch 76/150\n",
      "938/938 [==============================] - 75s 80ms/step - loss: 0.1546 - accuracy: 0.9515 - val_loss: 1.8332 - val_accuracy: 0.6580\n",
      "Epoch 77/150\n",
      "938/938 [==============================] - 72s 77ms/step - loss: 0.1550 - accuracy: 0.9500 - val_loss: 1.5895 - val_accuracy: 0.6892\n",
      "Epoch 78/150\n",
      "938/938 [==============================] - 72s 77ms/step - loss: 0.1509 - accuracy: 0.9498 - val_loss: 1.4576 - val_accuracy: 0.6962\n",
      "Epoch 79/150\n",
      "938/938 [==============================] - 72s 76ms/step - loss: 0.1425 - accuracy: 0.9545 - val_loss: 1.5199 - val_accuracy: 0.6938\n",
      "Epoch 80/150\n",
      "938/938 [==============================] - 73s 78ms/step - loss: 0.1397 - accuracy: 0.9565 - val_loss: 1.8026 - val_accuracy: 0.6592\n",
      "Epoch 81/150\n",
      "938/938 [==============================] - 72s 77ms/step - loss: 0.1271 - accuracy: 0.9597 - val_loss: 1.6486 - val_accuracy: 0.6876\n",
      "Epoch 82/150\n",
      "938/938 [==============================] - 73s 78ms/step - loss: 0.1256 - accuracy: 0.9589 - val_loss: 1.5362 - val_accuracy: 0.7028\n",
      "Epoch 83/150\n",
      "938/938 [==============================] - 73s 77ms/step - loss: 0.1247 - accuracy: 0.9613 - val_loss: 1.5392 - val_accuracy: 0.7068\n",
      "Epoch 84/150\n",
      "938/938 [==============================] - 72s 77ms/step - loss: 0.1224 - accuracy: 0.9613 - val_loss: 1.7187 - val_accuracy: 0.6904\n",
      "Epoch 85/150\n",
      "938/938 [==============================] - 74s 79ms/step - loss: 0.1232 - accuracy: 0.9618 - val_loss: 1.5780 - val_accuracy: 0.6912\n",
      "Epoch 86/150\n",
      "938/938 [==============================] - 72s 77ms/step - loss: 0.1162 - accuracy: 0.9647 - val_loss: 1.7332 - val_accuracy: 0.6788\n",
      "Epoch 87/150\n",
      "938/938 [==============================] - 72s 77ms/step - loss: 0.1267 - accuracy: 0.9601 - val_loss: 1.7466 - val_accuracy: 0.6952\n",
      "Epoch 88/150\n",
      "938/938 [==============================] - 72s 77ms/step - loss: 0.1190 - accuracy: 0.9642 - val_loss: 1.9082 - val_accuracy: 0.6700\n",
      "Epoch 89/150\n",
      "938/938 [==============================] - 73s 78ms/step - loss: 0.1113 - accuracy: 0.9661 - val_loss: 1.9694 - val_accuracy: 0.6512\n",
      "Epoch 90/150\n",
      "938/938 [==============================] - 72s 76ms/step - loss: 0.1205 - accuracy: 0.9643 - val_loss: 1.6911 - val_accuracy: 0.6942\n",
      "Epoch 91/150\n",
      "938/938 [==============================] - 72s 76ms/step - loss: 0.1070 - accuracy: 0.9677 - val_loss: 1.7284 - val_accuracy: 0.6928\n",
      "Epoch 92/150\n",
      "938/938 [==============================] - 72s 77ms/step - loss: 0.1008 - accuracy: 0.9689 - val_loss: 2.1587 - val_accuracy: 0.6738\n",
      "Epoch 93/150\n",
      "938/938 [==============================] - 72s 77ms/step - loss: 0.1156 - accuracy: 0.9661 - val_loss: 2.1778 - val_accuracy: 0.6690\n",
      "Epoch 94/150\n",
      "938/938 [==============================] - 72s 77ms/step - loss: 0.1017 - accuracy: 0.9699 - val_loss: 1.7338 - val_accuracy: 0.6964\n",
      "Epoch 95/150\n",
      "938/938 [==============================] - 72s 77ms/step - loss: 0.0966 - accuracy: 0.9715 - val_loss: 1.7944 - val_accuracy: 0.6852\n"
     ]
    },
    {
     "data": {
      "text/plain": [
       "<tensorflow.python.keras.callbacks.History at 0x1fedb0d7cc8>"
      ]
     },
     "execution_count": 48,
     "metadata": {},
     "output_type": "execute_result"
    }
   ],
   "source": [
    "# Training the model\n",
    "\n",
    "model.fit(\n",
    "    X_train_sequences, y_train_sequences, epochs=epochs, batch_size = batch_size,shuffle = True, callbacks=[early_stopping_monitor, tensorboard_callback], validation_data=(X_test_sequences , y_test_sequences ),\n",
    "    )\n"
   ]
  },
  {
   "cell_type": "code",
   "execution_count": 49,
   "id": "apart-christian",
   "metadata": {
    "id": "apart-christian"
   },
   "outputs": [
    {
     "data": {
      "text/plain": [
       "Reusing TensorBoard on port 6006 (pid 8588), started 12:43:22 ago. (Use '!kill 8588' to kill it.)"
      ]
     },
     "metadata": {},
     "output_type": "display_data"
    },
    {
     "data": {
      "text/html": [
       "\n",
       "      <iframe id=\"tensorboard-frame-157fb413bebbc17f\" width=\"100%\" height=\"800\" frameborder=\"0\">\n",
       "      </iframe>\n",
       "      <script>\n",
       "        (function() {\n",
       "          const frame = document.getElementById(\"tensorboard-frame-157fb413bebbc17f\");\n",
       "          const url = new URL(\"/\", window.location);\n",
       "          const port = 6006;\n",
       "          if (port) {\n",
       "            url.port = port;\n",
       "          }\n",
       "          frame.src = url;\n",
       "        })();\n",
       "      </script>\n",
       "    "
      ],
      "text/plain": [
       "<IPython.core.display.HTML object>"
      ]
     },
     "metadata": {},
     "output_type": "display_data"
    }
   ],
   "source": [
    "# Show tensorboard\n",
    "\n",
    "%load_ext tensorboard\n",
    "%tensorboard --logdir logs/fit\n",
    "#%reload_ext tensorboard # just in case tensorboard didn't refresh\n"
   ]
  },
  {
   "cell_type": "code",
   "execution_count": 50,
   "id": "c0aeef60",
   "metadata": {
    "id": "c0aeef60"
   },
   "outputs": [],
   "source": [
    "# Function to generate accuracy report\n",
    "from sklearn.metrics import confusion_matrix\n",
    "import matplotlib.pyplot as plt\n",
    "from sklearn.metrics import ConfusionMatrixDisplay\n",
    "from sklearn.metrics import accuracy_score\n",
    "\n",
    "def accuracy_report(X_val_sequences,y_val_sequences):\n",
    "    # Calculate preditions for the validation dataset\n",
    "\n",
    "    # import numpy as np\n",
    "\n",
    "    y_pred = []  # store predicted labels\n",
    "    y_true = []  # store true labels\n",
    "\n",
    "    y_pred = model.predict_classes([X_val_sequences])\n",
    "    len(y_pred)\n",
    "\n",
    "    y_true= y_val_sequences\n",
    "    len(y_pred)\n",
    "    \n",
    "    print(y_pred)\n",
    "\n",
    "    # for image_batch, label_batch in val_ds:\n",
    "    #     y_true.append(label_batch)\n",
    "    #     preds = model.predict(image_batch)\n",
    "    #     y_pred.append(np.argmax(preds, axis = - 1))\n",
    "\n",
    "    # # Convert the true and predicted labels into tensors\n",
    "    true_categories = label_tokenizer.inverse_transform(y_true)#tensorflow.concat([item for item in y_true], axis = 0)\n",
    "    predicted_categories = label_tokenizer.inverse_transform(y_pred)#np.argmax(y_pred, axis = - 1)) #tensorflow.concat([item for item in y_pred], axis = 0)\n",
    "\n",
    "    print(predicted_categories)\n",
    "\n",
    "    # Generate confusion matrix\n",
    "\n",
    "    cnf_matrix = confusion_matrix(true_categories,predicted_categories,  normalize='pred')\n",
    "\n",
    "    # Plot confusion matrix\n",
    "\n",
    "\n",
    "\n",
    "    disp = ConfusionMatrixDisplay(confusion_matrix=cnf_matrix,\n",
    "                                  display_labels=label_index)\n",
    "\n",
    "    disp = disp.plot(cmap='Blues', xticks_rotation=45)\n",
    "\n",
    "    plt.show()\n",
    "\n",
    "\n",
    "\n",
    "    print(\"Accuracy for validation split: \" ,accuracy_score(y_true, y_pred))"
   ]
  },
  {
   "cell_type": "code",
   "execution_count": null,
   "id": "20ee3a09",
   "metadata": {
    "id": "20ee3a09"
   },
   "outputs": [],
   "source": []
  },
  {
   "cell_type": "code",
   "execution_count": 51,
   "id": "environmental-transcription",
   "metadata": {
    "id": "environmental-transcription"
   },
   "outputs": [
    {
     "name": "stderr",
     "output_type": "stream",
     "text": [
      "D:\\Miniconda\\envs\\tf2_old\\lib\\site-packages\\tensorflow\\python\\keras\\engine\\sequential.py:455: UserWarning: `model.predict_classes()` is deprecated and will be removed after 2021-01-01. Please use instead:* `np.argmax(model.predict(x), axis=-1)`,   if your model does multi-class classification   (e.g. if it uses a `softmax` last-layer activation).* `(model.predict(x) > 0.5).astype(\"int32\")`,   if your model does binary classification   (e.g. if it uses a `sigmoid` last-layer activation).\n",
      "  warnings.warn('`model.predict_classes()` is deprecated and '\n"
     ]
    },
    {
     "name": "stdout",
     "output_type": "stream",
     "text": [
      "[3 0 3 ... 0 2 1]\n",
      "['Jules Verne' 'Charles Dickens' 'Jules Verne' ... 'Charles Dickens'\n",
      " 'Jane Austen' 'George Eliot']\n"
     ]
    },
    {
     "data": {
      "image/png": "[encoded data removed]",
      "text/plain": [
       "<Figure size 432x288 with 2 Axes>"
      ]
     },
     "metadata": {
      "needs_background": "light"
     },
     "output_type": "display_data"
    },
    {
     "name": "stdout",
     "output_type": "stream",
     "text": [
      "Accuracy for validation split:  0.7062\n"
     ]
    }
   ],
   "source": [
    "# accuracy_report for same books\n",
    "\n",
    "accuracy_report(X_val_sequences,y_val_sequences)"
   ]
  },
  {
   "cell_type": "code",
   "execution_count": 52,
   "id": "fundamental-raising",
   "metadata": {
    "id": "fundamental-raising"
   },
   "outputs": [
    {
     "name": "stderr",
     "output_type": "stream",
     "text": [
      "D:\\Miniconda\\envs\\tf2_old\\lib\\site-packages\\tensorflow\\python\\keras\\engine\\sequential.py:455: UserWarning: `model.predict_classes()` is deprecated and will be removed after 2021-01-01. Please use instead:* `np.argmax(model.predict(x), axis=-1)`,   if your model does multi-class classification   (e.g. if it uses a `softmax` last-layer activation).* `(model.predict(x) > 0.5).astype(\"int32\")`,   if your model does binary classification   (e.g. if it uses a `sigmoid` last-layer activation).\n",
      "  warnings.warn('`model.predict_classes()` is deprecated and '\n"
     ]
    },
    {
     "name": "stdout",
     "output_type": "stream",
     "text": [
      "[0 4 2 ... 0 3 3]\n",
      "['Charles Dickens' 'Sir Arthur Conan Doyle' 'Jane Austen' ...\n",
      " 'Charles Dickens' 'Jules Verne' 'Jules Verne']\n"
     ]
    },
    {
     "data": {
      "image/png": "[encoded data removed]",
      "text/plain": [
       "<Figure size 432x288 with 2 Axes>"
      ]
     },
     "metadata": {
      "needs_background": "light"
     },
     "output_type": "display_data"
    },
    {
     "name": "stdout",
     "output_type": "stream",
     "text": [
      "Accuracy for validation split:  0.55575\n"
     ]
    }
   ],
   "source": [
    "# accuracy_report for seperate books\n",
    "\n",
    "accuracy_report(X_val_sequences_2,y_val_sequences_2)"
   ]
  },
  {
   "cell_type": "code",
   "execution_count": 53,
   "id": "electoral-arrangement",
   "metadata": {
    "id": "electoral-arrangement"
   },
   "outputs": [],
   "source": [
    "# Saving final model for future use\n",
    "\n",
    "model.save(model._name + \".h5\")"
   ]
  },
  {
   "cell_type": "code",
   "execution_count": null,
   "id": "engaged-heritage",
   "metadata": {
    "id": "engaged-heritage"
   },
   "outputs": [],
   "source": []
  },
  {
   "cell_type": "code",
   "execution_count": null,
   "id": "olive-filling",
   "metadata": {
    "id": "olive-filling"
   },
   "outputs": [],
   "source": []
  },
  {
   "cell_type": "code",
   "execution_count": null,
   "id": "global-egyptian",
   "metadata": {
    "id": "global-egyptian"
   },
   "outputs": [],
   "source": []
  },
  {
   "cell_type": "code",
   "execution_count": null,
   "id": "front-norway",
   "metadata": {
    "id": "front-norway"
   },
   "outputs": [],
   "source": []
  },
  {
   "cell_type": "code",
   "execution_count": null,
   "id": "chemical-columbus",
   "metadata": {
    "id": "chemical-columbus"
   },
   "outputs": [],
   "source": []
  },
  {
   "cell_type": "code",
   "execution_count": null,
   "id": "understanding-ghana",
   "metadata": {
    "id": "understanding-ghana"
   },
   "outputs": [],
   "source": []
  },
  {
   "cell_type": "code",
   "execution_count": null,
   "id": "french-blackberry",
   "metadata": {
    "id": "french-blackberry"
   },
   "outputs": [],
   "source": []
  }
 ],
 "metadata": {
  "accelerator": "GPU",
  "colab": {
   "collapsed_sections": [],
   "name": "keras_word2vec_lstm.ipynb",
   "provenance": []
  },
  "kernelspec": {
   "display_name": "Python 3",
   "language": "python",
   "name": "python3"
  },
  "language_info": {
   "codemirror_mode": {
    "name": "ipython",
    "version": 3
   },
   "file_extension": ".py",
   "mimetype": "text/x-python",
   "name": "python",
   "nbconvert_exporter": "python",
   "pygments_lexer": "ipython3",
   "version": "3.7.10"
  }
 },
 "nbformat": 4,
 "nbformat_minor": 5
}
