{
 "cells": [
  {
   "cell_type": "code",
   "execution_count": 1,
   "id": "virtual-optimum",
   "metadata": {
    "id": "virtual-optimum"
   },
   "outputs": [],
   "source": [
    "# GPU Reset if needed\n",
    "\n",
    "from numba import cuda \n",
    "device = cuda.get_current_device()\n",
    "device.reset()"
   ]
  },
  {
   "cell_type": "code",
   "execution_count": 2,
   "id": "4c19ba3c",
   "metadata": {
    "id": "4c19ba3c"
   },
   "outputs": [],
   "source": [
    "# Disable CUDA for TF 2.x\n",
    "\n",
    "# import os\n",
    "# os.environ[\"CUDA_VISIBLE_DEVICES\"]=\"-1\" "
   ]
  },
  {
   "cell_type": "code",
   "execution_count": 3,
   "id": "iA9Ipq-4zuPT",
   "metadata": {
    "colab": {
     "base_uri": "https://localhost:8080/"
    },
    "id": "iA9Ipq-4zuPT",
    "outputId": "bdc0ea81-14b8-4c8e-f75f-17f1422e485a"
   },
   "outputs": [
    {
     "name": "stdout",
     "output_type": "stream",
     "text": [
      "D:\\NLP_Last\\files\\UPLOAD\\Transformers_HF\n"
     ]
    }
   ],
   "source": [
    "# Mount Google Drive if running on Google Colab\n",
    "\n",
    "# from google.colab import drive\n",
    "import os\n",
    "\n",
    "# drive.mount('/content/drive')\n",
    "# os.chdir('/content/drive/My Drive/Colab Notebooks/hf/')\n",
    "print(os.getcwd())"
   ]
  },
  {
   "cell_type": "code",
   "execution_count": 4,
   "id": "MI6QgDjY2g7o",
   "metadata": {
    "id": "MI6QgDjY2g7o"
   },
   "outputs": [],
   "source": [
    "# List current directory\n",
    "\n",
    "#!dir"
   ]
  },
  {
   "cell_type": "code",
   "execution_count": 5,
   "id": "wWbrBVZ7CoPF",
   "metadata": {
    "id": "wWbrBVZ7CoPF"
   },
   "outputs": [],
   "source": [
    "# Remove current logs\n",
    "\n",
    "#!rm -rf logs"
   ]
  },
  {
   "cell_type": "code",
   "execution_count": 6,
   "id": "distinct-breath",
   "metadata": {
    "colab": {
     "base_uri": "https://localhost:8080/"
    },
    "id": "distinct-breath",
    "outputId": "6a0319fb-7c19-47c9-d169-7a65d223bbdf"
   },
   "outputs": [
    {
     "name": "stdout",
     "output_type": "stream",
     "text": [
      "Tensorflow precision mode : float32\n",
      "TensorFlow version : 2.9.0-dev20220102\n",
      "Numpy version : 1.22.0\n",
      "Pandas version : 1.3.4\n"
     ]
    }
   ],
   "source": [
    "# Import Tensorflow and related libraries\n",
    "\n",
    "import tensorflow\n",
    "\n",
    "print(\"Tensorflow precision mode : \" + tensorflow.keras.backend.floatx())\n",
    "\n",
    "# # Set Tensorflow precision mode to 'float16' to speedup with newer GPU\n",
    "# tensorflow.keras.backend.set_floatx('float32')\n",
    "\n",
    "# print(\"Tensorflow precision mode (after change) : \" + tensorflow.keras.backend.floatx())\n",
    "\n",
    "from tensorflow.keras.models import Model\n",
    "from tensorflow.keras.layers import Dense\n",
    "from tensorflow.keras.layers import Flatten\n",
    "from tensorflow.keras.layers import Dropout\n",
    "\n",
    "from tensorflow.keras.layers import Input\n",
    "\n",
    "from tensorflow.keras.utils import plot_model\n",
    "\n",
    "from sklearn.preprocessing import LabelEncoder\n",
    "\n",
    "print(\"TensorFlow version : \" + tensorflow.__version__)\n",
    "\n",
    "import numpy as np\n",
    "print(\"Numpy version : \" + np.version.version)\n",
    "\n",
    "import pandas as pd\n",
    "print(\"Pandas version : \" + pd.__version__)"
   ]
  },
  {
   "cell_type": "code",
   "execution_count": 7,
   "id": "circular-angle",
   "metadata": {
    "colab": {
     "base_uri": "https://localhost:8080/"
    },
    "id": "circular-angle",
    "outputId": "0cd934ce-1dc9-434f-f209-43aa218a837f"
   },
   "outputs": [
    {
     "name": "stdout",
     "output_type": "stream",
     "text": [
      "Name: /physical_device:GPU:0   Type: GPU\n"
     ]
    }
   ],
   "source": [
    "# Display available GPUs\n",
    "\n",
    "physical_devices = tensorflow.config.list_physical_devices(('GPU'))\n",
    "for gpu in physical_devices:\n",
    "    print(\"Name:\", gpu.name, \"  Type:\", gpu.device_type)"
   ]
  },
  {
   "cell_type": "code",
   "execution_count": 8,
   "id": "618b9a2b",
   "metadata": {
    "colab": {
     "base_uri": "https://localhost:8080/"
    },
    "id": "618b9a2b",
    "outputId": "077d9a29-18a5-4467-93d9-746b7cf27722"
   },
   "outputs": [
    {
     "name": "stdout",
     "output_type": "stream",
     "text": [
      "Fri Feb 25 09:13:34 2022       \n",
      "+-----------------------------------------------------------------------------+\n",
      "| NVIDIA-SMI 496.13       Driver Version: 496.13       CUDA Version: 11.5     |\n",
      "|-------------------------------+----------------------+----------------------+\n",
      "| GPU  Name            TCC/WDDM | Bus-Id        Disp.A | Volatile Uncorr. ECC |\n",
      "| Fan  Temp  Perf  Pwr:Usage/Cap|         Memory-Usage | GPU-Util  Compute M. |\n",
      "|                               |                      |               MIG M. |\n",
      "|===============================+======================+======================|\n",
      "|   0  NVIDIA GeForce ... WDDM  | 00000000:0D:00.0  On |                  N/A |\n",
      "|  0%   51C    P2    42W / 170W |   1909MiB / 12288MiB |      1%      Default |\n",
      "|                               |                      |                  N/A |\n",
      "+-------------------------------+----------------------+----------------------+\n",
      "                                                                               \n",
      "+-----------------------------------------------------------------------------+\n",
      "| Processes:                                                                  |\n",
      "|  GPU   GI   CI        PID   Type   Process name                  GPU Memory |\n",
      "|        ID   ID                                                   Usage      |\n",
      "|=============================================================================|\n",
      "|    0   N/A  N/A      1604    C+G   Insufficient Permissions        N/A      |\n",
      "|    0   N/A  N/A      5204    C+G   C:\\Windows\\explorer.exe         N/A      |\n",
      "|    0   N/A  N/A      5748      C   ...onda3\\envs\\tf2\\python.exe    N/A      |\n",
      "|    0   N/A  N/A      6308    C+G   ...2txyewy\\TextInputHost.exe    N/A      |\n",
      "|    0   N/A  N/A      7460    C+G   ...y\\ShellExperienceHost.exe    N/A      |\n",
      "|    0   N/A  N/A      7488    C+G   ...5n1h2txyewy\\SearchApp.exe    N/A      |\n",
      "|    0   N/A  N/A      7616    C+G   Insufficient Permissions        N/A      |\n",
      "|    0   N/A  N/A      9452    C+G   ...zilla Firefox\\firefox.exe    N/A      |\n",
      "|    0   N/A  N/A     13036    C+G   ... Download Manager\\fdm.exe    N/A      |\n",
      "|    0   N/A  N/A     13108    C+G   ...zilla Firefox\\firefox.exe    N/A      |\n",
      "|    0   N/A  N/A     14216    C+G   ...5.0.3.0\\GoogleDriveFS.exe    N/A      |\n",
      "|    0   N/A  N/A     15260    C+G   ...enTabletDriver.UX.Wpf.exe    N/A      |\n",
      "|    0   N/A  N/A     15884    C+G   ...in7x64\\steamwebhelper.exe    N/A      |\n",
      "|    0   N/A  N/A     18132      C   ...onda3\\envs\\tf2\\python.exe    N/A      |\n",
      "+-----------------------------------------------------------------------------+\n"
     ]
    }
   ],
   "source": [
    "# Show GPU status\n",
    "\n",
    "!nvidia-smi"
   ]
  },
  {
   "cell_type": "code",
   "execution_count": 9,
   "id": "0f583e47",
   "metadata": {
    "id": "0f583e47"
   },
   "outputs": [],
   "source": [
    "# Fix for \"CUDA_ERROR_ILLEGAL_ADDRESS\"\n",
    "\n",
    "# Ref : https://github.com/tensorflow/tensorflow/issues/40814#issuecomment-663838196\n",
    "\n",
    "os.environ['TF_CUDNN_DETERMINISTIC']='1'"
   ]
  },
  {
   "cell_type": "code",
   "execution_count": 10,
   "id": "preceding-travel",
   "metadata": {
    "id": "preceding-travel"
   },
   "outputs": [],
   "source": [
    "# Enable Memory Growth\n",
    "\n",
    "try:\n",
    "    if physical_devices != []:\n",
    "        tensorflow.config.experimental.set_memory_growth(physical_devices[0], True)\n",
    "        physical_devices[0]\n",
    "except:\n",
    "    print(\"error\")      "
   ]
  },
  {
   "cell_type": "code",
   "execution_count": 11,
   "id": "primary-bryan",
   "metadata": {
    "id": "primary-bryan"
   },
   "outputs": [],
   "source": [
    "# Global Parameters\n",
    "\n",
    "author_list = ['Charles Dickens','Jane Austen','Sir Arthur Conan Doyle','George Eliot','Jules Verne']\n",
    "seed_number = 18\n",
    "dataset_file  = \"dataset.csv\"\n",
    "validation_dataset_file  = \"validation_dataset.csv\"\n",
    "\n",
    "# For 3 GB VRAM : \n",
    "# batch_size = 2 when seq_length = 128, otherwise \"out of memory\"\n",
    "# Typical single epoch runtime = 20 mins\n",
    "\n",
    "batch_size = 32 # number of batch size\n",
    "epochs = 5 # number of maximum epochs to run\n",
    "seq_length = 100#300 # BERT Model sequence length\n",
    "dropout_value = 0.1 # Dropout layer value for Model\n",
    "init_lr = 3e-5 # Initial learning rate"
   ]
  },
  {
   "cell_type": "code",
   "execution_count": 12,
   "id": "e41a7202",
   "metadata": {
    "id": "e41a7202"
   },
   "outputs": [],
   "source": [
    "# Reading validation data (from seperate books)\n",
    "\n",
    "validation_data = pd.read_csv(validation_dataset_file, usecols = ['author','text'])\n",
    "X_val_2 = validation_data.text\n",
    "y_val_2 = validation_data.author"
   ]
  },
  {
   "cell_type": "code",
   "execution_count": 13,
   "id": "attractive-oriental",
   "metadata": {
    "id": "attractive-oriental"
   },
   "outputs": [],
   "source": [
    "# Reading training/test/validation data\n",
    "\n",
    "data = pd.read_csv(dataset_file, usecols = ['author','text'])"
   ]
  },
  {
   "cell_type": "code",
   "execution_count": 14,
   "id": "dried-aerospace",
   "metadata": {
    "id": "dried-aerospace"
   },
   "outputs": [],
   "source": [
    "#data.sample(5)"
   ]
  },
  {
   "cell_type": "code",
   "execution_count": 15,
   "id": "signal-football",
   "metadata": {
    "id": "signal-football"
   },
   "outputs": [],
   "source": [
    "from sklearn.model_selection import train_test_split\n",
    "\n",
    "# Train, Test, Validation Spit ratios 60%, 20%, 20% \n",
    "\n",
    "X_train, X_val, y_train, y_val = train_test_split(data[\"text\"], data[\"author\"], test_size=0.2, random_state=2000)\n",
    "X_train, X_test, y_train, y_test = train_test_split(X_train, y_train, test_size=0.25, random_state=seed_number) # 0.25 x 0.8 = 0.2"
   ]
  },
  {
   "cell_type": "code",
   "execution_count": 16,
   "id": "a34aaa20",
   "metadata": {
    "colab": {
     "base_uri": "https://localhost:8080/"
    },
    "id": "a34aaa20",
    "outputId": "4e1f7d1e-2279-4d67-dc0c-50dcc8d3c90a"
   },
   "outputs": [
    {
     "name": "stdout",
     "output_type": "stream",
     "text": [
      "Number of training data: 15000\n",
      "Number of test data: 5000\n",
      "Number of validation data (from same books): 5000\n",
      "Number of validation data (from seperate books): 4000\n",
      "Number of max characters in training dataset: 370\n"
     ]
    }
   ],
   "source": [
    "print(\"Number of training data:\",len(X_train))\n",
    "print(\"Number of test data:\",len(X_test))\n",
    "print(\"Number of validation data (from same books):\",len(X_val))\n",
    "print(\"Number of validation data (from seperate books):\",len(X_val_2))\n",
    "print(\"Number of max characters in training dataset:\",max(X_train.apply(len)))"
   ]
  },
  {
   "cell_type": "code",
   "execution_count": 17,
   "id": "strong-ukraine",
   "metadata": {
    "id": "strong-ukraine"
   },
   "outputs": [],
   "source": [
    "# Encoding label text to integeres\n",
    "\n",
    "label_tokenizer = LabelEncoder()\n",
    "label_tokenizer.fit(author_list)\n",
    "label_index = label_tokenizer.classes_\n",
    "\n",
    "y_train_sequences = np.array(label_tokenizer.transform(y_train))\n",
    "y_test_sequences = np.array(label_tokenizer.transform(y_test))\n",
    "y_val_sequences = np.array(label_tokenizer.transform(y_val))\n",
    "y_val_sequences_2 = np.array(label_tokenizer.transform(y_val_2))"
   ]
  },
  {
   "cell_type": "code",
   "execution_count": 18,
   "id": "informed-precipitation",
   "metadata": {
    "colab": {
     "base_uri": "https://localhost:8080/"
    },
    "id": "informed-precipitation",
    "outputId": "4cf4cb3f-a2b0-4de9-f91e-7136abbe1bad"
   },
   "outputs": [
    {
     "data": {
      "text/plain": [
       "array(['Charles Dickens', 'George Eliot', 'Jane Austen', 'Jules Verne',\n",
       "       'Sir Arthur Conan Doyle'], dtype='<U22')"
      ]
     },
     "execution_count": 18,
     "metadata": {},
     "output_type": "execute_result"
    }
   ],
   "source": [
    "label_index"
   ]
  },
  {
   "cell_type": "markdown",
   "id": "numeric-produce",
   "metadata": {
    "id": "numeric-produce"
   },
   "source": [
    "### XLNet Model"
   ]
  },
  {
   "cell_type": "code",
   "execution_count": 19,
   "id": "6c978cf2",
   "metadata": {
    "colab": {
     "base_uri": "https://localhost:8080/"
    },
    "id": "6c978cf2",
    "outputId": "a83600ad-f0b5-46eb-d6f2-344482dc1866"
   },
   "outputs": [],
   "source": [
    "# !pip install transformers==4.6.0"
   ]
  },
  {
   "cell_type": "code",
   "execution_count": 20,
   "id": "5029e0df",
   "metadata": {
    "id": "5029e0df"
   },
   "outputs": [],
   "source": [
    "from transformers import XLNetTokenizerFast, TFXLNetModel"
   ]
  },
  {
   "cell_type": "code",
   "execution_count": 21,
   "id": "fb14f7a9",
   "metadata": {
    "colab": {
     "base_uri": "https://localhost:8080/",
     "height": 257,
     "referenced_widgets": [
      "af1e98528d354164803fec07e58f9359",
      "e154e3977a7c4a9791ad7b2a36580f89",
      "ada3953574474d86900769844262dd9d",
      "7d84631caad84e75b5bcd3dbe99baa8e",
      "a6f8e70faeb149a797c46887c5e2f2e1",
      "f6568ca904db42e1b6e287f1a7b1c9b5",
      "33a1c91ea41b4d3fa83a8960344da2d1",
      "ad13ab67d8e04e94922b8f782bc05e25",
      "d6bee4e0419443b4bc3c630dd546d1dd",
      "22cbb1e5c7d745fca5750330f03c1d20",
      "471e68c2931e4d8796e7bae501d6a6b1"
     ]
    },
    "id": "fb14f7a9",
    "outputId": "fb73769e-beac-451b-ed00-c3a0ab08d760"
   },
   "outputs": [
    {
     "name": "stderr",
     "output_type": "stream",
     "text": [
      "Some layers from the model checkpoint at xlnet-base-cased were not used when initializing TFXLNetModel: ['lm_loss']\n",
      "- This IS expected if you are initializing TFXLNetModel from the checkpoint of a model trained on another task or with another architecture (e.g. initializing a BertForSequenceClassification model from a BertForPreTraining model).\n",
      "- This IS NOT expected if you are initializing TFXLNetModel from the checkpoint of a model that you expect to be exactly identical (initializing a BertForSequenceClassification model from a BertForSequenceClassification model).\n",
      "All the layers of TFXLNetModel were initialized from the model checkpoint at xlnet-base-cased.\n",
      "If your task is similar to the task the model of the checkpoint was trained on, you can already use TFXLNetModel for predictions without further training.\n"
     ]
    }
   ],
   "source": [
    "#######################################\n",
    "### --------- Setup  ---------- ###\n",
    "\n",
    "# Ref: https://huggingface.co/transformers/model_doc/xlnet.html#tfxlnetmodel\n",
    "\n",
    "\n",
    "# Name of the  model to use\n",
    "model_name = 'xlnet-base-cased'\n",
    "\n",
    "# Max length of tokens\n",
    "max_length = seq_length #100\n",
    "\n",
    "# Load transformers config and set output_hidden_states to False\n",
    "# config = BertConfig.from_pretrained(model_name)\n",
    "# config.output_hidden_states = False\n",
    "\n",
    "# Load BERT tokenizer\n",
    "tokenizer = XLNetTokenizerFast.from_pretrained(model_name)#BertTokenizerFast.from_pretrained(pretrained_model_name_or_path = model_name, config = config)\n",
    "\n",
    "# Load the Transformers BERT model\n",
    "transformer_model = TFXLNetModel.from_pretrained(model_name) #TFBertModel.from_pretrained(model_name, config = config)"
   ]
  },
  {
   "cell_type": "code",
   "execution_count": 22,
   "id": "d2676225",
   "metadata": {
    "id": "d2676225"
   },
   "outputs": [],
   "source": [
    "#######################################\n",
    "### ------- Build the model ------- ###\n",
    "\n",
    "# TF Keras documentation: https://www.tensorflow.org/api_docs/python/tf/keras/Model\n",
    "\n",
    "# Load the MainLayer\n",
    "xlnet = transformer_model.layers[0]\n",
    "\n",
    "# Build your model input\n",
    "input_ids = Input(shape=(max_length,), name='input_ids', dtype='int32')\n",
    "\n",
    "inputs = {'input_ids': input_ids}\n",
    "\n",
    "# Load the Transformers xlnet model as a layer in a Keras model\n",
    "xlnet_model = xlnet(inputs)[0]\n",
    "dropout = Dropout(dropout_value, name='pooled_output')#Dropout(config.hidden_dropout_prob, name='pooled_output')\n",
    "pooled_output = dropout(xlnet_model, training=False)"
   ]
  },
  {
   "cell_type": "code",
   "execution_count": 23,
   "id": "93802723",
   "metadata": {
    "id": "93802723"
   },
   "outputs": [],
   "source": [
    "def X_tokenizer(X_original):\n",
    "    X_original = tokenizer(\n",
    "    text=X_original.to_list(),\n",
    "    add_special_tokens=True,\n",
    "    max_length=max_length,\n",
    "    truncation=True,\n",
    "    padding='max_length', \n",
    "   # pad_to_max_length=\"right\",\n",
    "    return_tensors='tf',\n",
    "    return_token_type_ids = False,\n",
    "    return_attention_mask = False,\n",
    "    verbose = True)\n",
    "\n",
    "    X_original={'input_ids': X_original['input_ids']}\n",
    "    return X_original\n",
    "    "
   ]
  },
  {
   "cell_type": "code",
   "execution_count": 24,
   "id": "9be0308f",
   "metadata": {
    "id": "9be0308f"
   },
   "outputs": [],
   "source": [
    "X_train = X_tokenizer(X_train)\n",
    "X_test = X_tokenizer(X_test)\n",
    "X_val = X_tokenizer(X_val)\n",
    "X_val_2 = X_tokenizer(X_val_2)"
   ]
  },
  {
   "cell_type": "code",
   "execution_count": 25,
   "id": "883ae69f",
   "metadata": {
    "colab": {
     "base_uri": "https://localhost:8080/"
    },
    "id": "883ae69f",
    "outputId": "641a0abd-fcbc-4378-a0f5-ac4711272ff2"
   },
   "outputs": [
    {
     "data": {
      "text/plain": [
       "{'input_ids': <tf.Tensor: shape=(15000, 100), dtype=int32, numpy=\n",
       " array([[    5,     5,     5, ...,   124,     4,     3],\n",
       "        [    5,     5,     5, ...,    43,     4,     3],\n",
       "        [    5,     5,     5, ..., 14118,     4,     3],\n",
       "        ...,\n",
       "        [    5,     5,     5, ...,   132,     4,     3],\n",
       "        [    5,     5,     5, ...,   193,     4,     3],\n",
       "        [    5,     5,     5, ...,  9670,     4,     3]])>}"
      ]
     },
     "execution_count": 25,
     "metadata": {},
     "output_type": "execute_result"
    }
   ],
   "source": [
    "X_train"
   ]
  },
  {
   "cell_type": "code",
   "execution_count": 26,
   "id": "fced3bbc",
   "metadata": {
    "id": "fced3bbc"
   },
   "outputs": [],
   "source": [
    "#del model"
   ]
  },
  {
   "cell_type": "code",
   "execution_count": 27,
   "id": "acting-midwest",
   "metadata": {
    "colab": {
     "base_uri": "https://localhost:8080/"
    },
    "id": "acting-midwest",
    "outputId": "fa9f4f14-bfcf-47bf-afa1-a3513e73aea2"
   },
   "outputs": [
    {
     "name": "stdout",
     "output_type": "stream",
     "text": [
      "Model: \"nlp_XLNet_18\"\n",
      "_________________________________________________________________\n",
      " Layer (type)                Output Shape              Param #   \n",
      "=================================================================\n",
      " input_ids (InputLayer)      [(None, 100)]             0         \n",
      "                                                                 \n",
      " transformer (TFXLNetMainLay  TFXLNetModelOutput(last_  116718336\n",
      " er)                         hidden_state=(None, 100,            \n",
      "                              768),                              \n",
      "                              mems=((100, None, 768),            \n",
      "                              (100, None, 768),                  \n",
      "                              (100, None, 768),                  \n",
      "                              (100, None, 768),                  \n",
      "                              (100, None, 768),                  \n",
      "                              (100, None, 768),                  \n",
      "                              (100, None, 768),                  \n",
      "                              (100, None, 768),                  \n",
      "                              (100, None, 768),                  \n",
      "                              (100, None, 768),                  \n",
      "                              (100, None, 768),                  \n",
      "                              (100, None, 768)),                 \n",
      "                              hidden_states=None, att            \n",
      "                             entions=None)                       \n",
      "                                                                 \n",
      " pooled_output (Dropout)     (None, 100, 768)          0         \n",
      "                                                                 \n",
      " flatten (Flatten)           (None, 76800)             0         \n",
      "                                                                 \n",
      " dense (Dense)               (None, 5)                 384005    \n",
      "                                                                 \n",
      "=================================================================\n",
      "Total params: 117,102,341\n",
      "Trainable params: 117,102,341\n",
      "Non-trainable params: 0\n",
      "_________________________________________________________________\n"
     ]
    }
   ],
   "source": [
    "# define new model\n",
    "\n",
    "flatten = tensorflow.keras.layers.Flatten()(pooled_output) \n",
    "model_output = tensorflow.keras.layers.Dense(5, activation='softmax')(flatten)\n",
    "\n",
    "model = tensorflow.keras.Model(inputs, model_output)\n",
    "\n",
    "model._name = \"nlp_XLNet_\" + str(seed_number) \n",
    "model.summary()"
   ]
  },
  {
   "cell_type": "code",
   "execution_count": 28,
   "id": "d206d079",
   "metadata": {
    "colab": {
     "base_uri": "https://localhost:8080/",
     "height": 466
    },
    "id": "d206d079",
    "outputId": "b92aaa76-1183-44e5-bc55-e22375ae5171"
   },
   "outputs": [
    {
     "data": {
      "image/png": "[encoded data removed]",
      "text/plain": [
       "<IPython.core.display.Image object>"
      ]
     },
     "execution_count": 28,
     "metadata": {},
     "output_type": "execute_result"
    }
   ],
   "source": [
    "# Save the model as a png file\n",
    "plot_model(model, to_file=model._name +'.png', show_layer_names=True)"
   ]
  },
  {
   "cell_type": "code",
   "execution_count": 29,
   "id": "stuck-dispatch",
   "metadata": {
    "colab": {
     "base_uri": "https://localhost:8080/"
    },
    "id": "stuck-dispatch",
    "outputId": "aef515f8-5c8b-4869-9dee-18b82c10cf85"
   },
   "outputs": [
    {
     "name": "stdout",
     "output_type": "stream",
     "text": [
      "0 input_ids True\n",
      "1 transformer True\n",
      "2 pooled_output True\n",
      "3 flatten True\n",
      "4 dense True\n"
     ]
    }
   ],
   "source": [
    "# Show the trainable status of the layers\n",
    "\n",
    "for i, layer in enumerate(model.layers):\n",
    "    print(i, layer.name, layer.trainable)"
   ]
  },
  {
   "cell_type": "code",
   "execution_count": 30,
   "id": "13a91642",
   "metadata": {
    "id": "13a91642"
   },
   "outputs": [],
   "source": [
    "# Define Optimizer\n",
    "\n",
    "# steps_per_epoch = int(len(X_train)/batch_size) #tensorflow.data.experimental.cardinality(data_train).numpy()\n",
    "# num_train_steps = steps_per_epoch * epochs\n",
    "# num_warmup_steps = int(0.1*num_train_steps)\n",
    "# print(steps_per_epoch,num_train_steps,num_warmup_steps)\n",
    "\n",
    "# optimizer = optimization.create_optimizer(init_lr=init_lr,\n",
    "#                                           num_train_steps=num_train_steps,\n",
    "#                                           num_warmup_steps=num_warmup_steps,\n",
    "#                                           optimizer_type='adamw')"
   ]
  },
  {
   "cell_type": "code",
   "execution_count": 31,
   "id": "c45b8d76",
   "metadata": {
    "id": "c45b8d76"
   },
   "outputs": [],
   "source": [
    "from tensorflow.keras.optimizers import Adam\n",
    "\n",
    "optimizer = Adam(\n",
    "    learning_rate=5e-05,\n",
    "    epsilon=1e-08,\n",
    "    decay=0.01,\n",
    "    clipnorm=1.0)"
   ]
  },
  {
   "cell_type": "code",
   "execution_count": 32,
   "id": "manufactured-niagara",
   "metadata": {
    "id": "manufactured-niagara"
   },
   "outputs": [],
   "source": [
    "# Compile the model\n",
    "\n",
    "model.compile(\n",
    "    #optimizer=tensorflow.keras.optimizers.Adam(learning_rate=3e-5),\n",
    "    #optimizer=tensorflow.keras.optimizers.RMSprop(learning_rate=0.0001),\n",
    "    optimizer=optimizer,\n",
    "    loss=\"sparse_categorical_crossentropy\",\n",
    "    metrics=[\"accuracy\"],\n",
    ")"
   ]
  },
  {
   "cell_type": "code",
   "execution_count": 33,
   "id": "passing-chambers",
   "metadata": {
    "id": "passing-chambers"
   },
   "outputs": [],
   "source": [
    "# Tensorboard parameters\n",
    "\n",
    "import datetime\n",
    "log_dir = \"logs/fit/\" + datetime.datetime.now().strftime(\"%Y%m%d-%H%M%S\")\n",
    "tensorboard_callback = tensorflow.keras.callbacks.TensorBoard(log_dir=log_dir, histogram_freq=1)"
   ]
  },
  {
   "cell_type": "code",
   "execution_count": 34,
   "id": "diagnostic-hydrogen",
   "metadata": {
    "id": "diagnostic-hydrogen"
   },
   "outputs": [],
   "source": [
    "# Use best weights for the model\n",
    "\n",
    "early_stopping_monitor = tensorflow.keras.callbacks.EarlyStopping(\n",
    "    monitor='val_accuracy',\n",
    "    min_delta=0,\n",
    "    patience=50,\n",
    "    verbose=0,\n",
    "    mode='max',\n",
    "    baseline=None,\n",
    "    restore_best_weights=True\n",
    ")"
   ]
  },
  {
   "cell_type": "code",
   "execution_count": 35,
   "id": "unlike-ballot",
   "metadata": {
    "colab": {
     "base_uri": "https://localhost:8080/"
    },
    "id": "unlike-ballot",
    "outputId": "c6cf4889-1f8b-4f10-f81e-6823423b660e"
   },
   "outputs": [
    {
     "name": "stdout",
     "output_type": "stream",
     "text": [
      "Epoch 1/5\n",
      "WARNING:tensorflow:Gradients do not exist for variables ['tfxl_net_model/transformer/mask_emb:0', 'tfxl_net_model/transformer/layer_._0/rel_attn/r_s_bias:0', 'tfxl_net_model/transformer/layer_._0/rel_attn/seg_embed:0', 'tfxl_net_model/transformer/layer_._1/rel_attn/r_s_bias:0', 'tfxl_net_model/transformer/layer_._1/rel_attn/seg_embed:0', 'tfxl_net_model/transformer/layer_._2/rel_attn/r_s_bias:0', 'tfxl_net_model/transformer/layer_._2/rel_attn/seg_embed:0', 'tfxl_net_model/transformer/layer_._3/rel_attn/r_s_bias:0', 'tfxl_net_model/transformer/layer_._3/rel_attn/seg_embed:0', 'tfxl_net_model/transformer/layer_._4/rel_attn/r_s_bias:0', 'tfxl_net_model/transformer/layer_._4/rel_attn/seg_embed:0', 'tfxl_net_model/transformer/layer_._5/rel_attn/r_s_bias:0', 'tfxl_net_model/transformer/layer_._5/rel_attn/seg_embed:0', 'tfxl_net_model/transformer/layer_._6/rel_attn/r_s_bias:0', 'tfxl_net_model/transformer/layer_._6/rel_attn/seg_embed:0', 'tfxl_net_model/transformer/layer_._7/rel_attn/r_s_bias:0', 'tfxl_net_model/transformer/layer_._7/rel_attn/seg_embed:0', 'tfxl_net_model/transformer/layer_._8/rel_attn/r_s_bias:0', 'tfxl_net_model/transformer/layer_._8/rel_attn/seg_embed:0', 'tfxl_net_model/transformer/layer_._9/rel_attn/r_s_bias:0', 'tfxl_net_model/transformer/layer_._9/rel_attn/seg_embed:0', 'tfxl_net_model/transformer/layer_._10/rel_attn/r_s_bias:0', 'tfxl_net_model/transformer/layer_._10/rel_attn/seg_embed:0', 'tfxl_net_model/transformer/layer_._11/rel_attn/r_s_bias:0', 'tfxl_net_model/transformer/layer_._11/rel_attn/seg_embed:0'] when minimizing the loss. If you're using `model.compile()`, did you forget to provide a `loss`argument?\n",
      "WARNING:tensorflow:Gradients do not exist for variables ['tfxl_net_model/transformer/mask_emb:0', 'tfxl_net_model/transformer/layer_._0/rel_attn/r_s_bias:0', 'tfxl_net_model/transformer/layer_._0/rel_attn/seg_embed:0', 'tfxl_net_model/transformer/layer_._1/rel_attn/r_s_bias:0', 'tfxl_net_model/transformer/layer_._1/rel_attn/seg_embed:0', 'tfxl_net_model/transformer/layer_._2/rel_attn/r_s_bias:0', 'tfxl_net_model/transformer/layer_._2/rel_attn/seg_embed:0', 'tfxl_net_model/transformer/layer_._3/rel_attn/r_s_bias:0', 'tfxl_net_model/transformer/layer_._3/rel_attn/seg_embed:0', 'tfxl_net_model/transformer/layer_._4/rel_attn/r_s_bias:0', 'tfxl_net_model/transformer/layer_._4/rel_attn/seg_embed:0', 'tfxl_net_model/transformer/layer_._5/rel_attn/r_s_bias:0', 'tfxl_net_model/transformer/layer_._5/rel_attn/seg_embed:0', 'tfxl_net_model/transformer/layer_._6/rel_attn/r_s_bias:0', 'tfxl_net_model/transformer/layer_._6/rel_attn/seg_embed:0', 'tfxl_net_model/transformer/layer_._7/rel_attn/r_s_bias:0', 'tfxl_net_model/transformer/layer_._7/rel_attn/seg_embed:0', 'tfxl_net_model/transformer/layer_._8/rel_attn/r_s_bias:0', 'tfxl_net_model/transformer/layer_._8/rel_attn/seg_embed:0', 'tfxl_net_model/transformer/layer_._9/rel_attn/r_s_bias:0', 'tfxl_net_model/transformer/layer_._9/rel_attn/seg_embed:0', 'tfxl_net_model/transformer/layer_._10/rel_attn/r_s_bias:0', 'tfxl_net_model/transformer/layer_._10/rel_attn/seg_embed:0', 'tfxl_net_model/transformer/layer_._11/rel_attn/r_s_bias:0', 'tfxl_net_model/transformer/layer_._11/rel_attn/seg_embed:0'] when minimizing the loss. If you're using `model.compile()`, did you forget to provide a `loss`argument?\n",
      "469/469 [==============================] - 267s 549ms/step - loss: 0.8188 - accuracy: 0.6929 - val_loss: 0.4586 - val_accuracy: 0.8464\n",
      "Epoch 2/5\n",
      "469/469 [==============================] - 253s 540ms/step - loss: 0.3074 - accuracy: 0.8889 - val_loss: 0.3735 - val_accuracy: 0.8792\n",
      "Epoch 3/5\n",
      "469/469 [==============================] - 252s 537ms/step - loss: 0.2020 - accuracy: 0.9285 - val_loss: 0.4594 - val_accuracy: 0.8672\n",
      "Epoch 4/5\n",
      "469/469 [==============================] - 256s 546ms/step - loss: 0.1455 - accuracy: 0.9470 - val_loss: 0.5006 - val_accuracy: 0.8762\n",
      "Epoch 5/5\n",
      "469/469 [==============================] - 253s 539ms/step - loss: 0.1105 - accuracy: 0.9591 - val_loss: 0.4478 - val_accuracy: 0.8896\n"
     ]
    }
   ],
   "source": [
    "# Training the model\n",
    "# callbacks are not used : early_stopping_monitor (to speed up), tensorboard_callback (has a bug with BERT)\n",
    "\n",
    "history = model.fit(X_train, y_train_sequences, epochs=epochs, batch_size = batch_size, shuffle = True, callbacks=[], validation_data=(X_test , y_test_sequences ),)"
   ]
  },
  {
   "cell_type": "code",
   "execution_count": 36,
   "id": "f6784583",
   "metadata": {
    "colab": {
     "base_uri": "https://localhost:8080/",
     "height": 441
    },
    "id": "f6784583",
    "outputId": "c4b53dfa-f71e-432b-d5ee-3f1b09927f33"
   },
   "outputs": [
    {
     "name": "stdout",
     "output_type": "stream",
     "text": [
      "dict_keys(['loss', 'accuracy', 'val_loss', 'val_accuracy'])\n"
     ]
    },
    {
     "data": {
      "text/plain": [
       "<matplotlib.legend.Legend at 0x153488dcb50>"
      ]
     },
     "execution_count": 36,
     "metadata": {},
     "output_type": "execute_result"
    },
    {
     "data": {
      "image/png": "[encoded data removed]",
      "text/plain": [
       "<Figure size 720x432 with 2 Axes>"
      ]
     },
     "metadata": {
      "needs_background": "light"
     },
     "output_type": "display_data"
    }
   ],
   "source": [
    "# Plot the accuracy and loss over time \n",
    "# Reusing sample code from : https://www.tensorflow.org/text/tutorials/classify_text_with_bert\n",
    "import matplotlib.pyplot as plt\n",
    "\n",
    "history_dict = history.history\n",
    "print(history_dict.keys())\n",
    "\n",
    "acc = history_dict['accuracy']\n",
    "val_acc = history_dict['val_accuracy']\n",
    "loss = history_dict['loss']\n",
    "val_loss = history_dict['val_loss']\n",
    "\n",
    "#print(loss)\n",
    "\n",
    "epochs_number = range(1, (epochs) + 1)\n",
    "fig = plt.figure(figsize=(10, 6))\n",
    "fig.tight_layout()\n",
    "\n",
    "plt.subplot(2, 1, 1)\n",
    "# \"bo\" is for \"blue dot\"\n",
    "plt.plot(epochs_number, loss, 'r', label='Training loss')\n",
    "# b is for \"solid blue line\"\n",
    "plt.plot(epochs_number, val_loss, 'b', label='Validation loss')\n",
    "plt.title('Training and validation loss')\n",
    "# plt.xlabel('Epochs')\n",
    "plt.ylabel('Loss')\n",
    "plt.legend()\n",
    "\n",
    "plt.subplot(2, 1, 2)\n",
    "plt.plot(epochs_number, acc, 'r', label='Training acc')\n",
    "plt.plot(epochs_number, val_acc, 'b', label='Validation acc')\n",
    "plt.title('Training and validation accuracy')\n",
    "plt.xlabel('Epochs')\n",
    "plt.ylabel('Accuracy')\n",
    "plt.legend(loc='lower right')\n"
   ]
  },
  {
   "cell_type": "code",
   "execution_count": 37,
   "id": "apart-christian",
   "metadata": {
    "id": "apart-christian"
   },
   "outputs": [],
   "source": [
    "# Show tensorboard\n",
    "\n",
    "# %load_ext tensorboard\n",
    "# %tensorboard --logdir logs/fit\n",
    "#%reload_ext tensorboard # just in case tensorboard didn't refresh"
   ]
  },
  {
   "cell_type": "code",
   "execution_count": 38,
   "id": "5gMTwri775Ex",
   "metadata": {
    "colab": {
     "base_uri": "https://localhost:8080/"
    },
    "id": "5gMTwri775Ex",
    "outputId": "6986531d-445b-401e-ccec-b623a1a2001e"
   },
   "outputs": [
    {
     "data": {
      "text/plain": [
       "{'input_ids': <tf.Tensor: shape=(4000, 100), dtype=int32, numpy=\n",
       " array([[   5,    5,    5, ...,  889,    4,    3],\n",
       "        [   5,    5,    5, ...,  150,    4,    3],\n",
       "        [   5,    5,    5, ...,   90,    4,    3],\n",
       "        ...,\n",
       "        [   5,    5,    5, ..., 3968,    4,    3],\n",
       "        [   5,    5,    5, ..., 1435,    4,    3],\n",
       "        [   5,    5,    5, ..., 5340,    4,    3]])>}"
      ]
     },
     "execution_count": 38,
     "metadata": {},
     "output_type": "execute_result"
    }
   ],
   "source": [
    "X_val_2"
   ]
  },
  {
   "cell_type": "code",
   "execution_count": 39,
   "id": "axoHnl6t-Nzp",
   "metadata": {
    "colab": {
     "base_uri": "https://localhost:8080/"
    },
    "id": "axoHnl6t-Nzp",
    "outputId": "bf5718a2-f757-44bf-9ecd-50a9d2be1cb4"
   },
   "outputs": [
    {
     "data": {
      "text/plain": [
       "{'input_ids': <tf.Tensor: shape=(5000, 100), dtype=int32, numpy=\n",
       " array([[    5,     5,     5, ...,    64,     4,     3],\n",
       "        [    5,     5,     5, ...,  7792,     4,     3],\n",
       "        [    5,     5,     5, ...,  2667,     4,     3],\n",
       "        ...,\n",
       "        [    5,     5,     5, ...,    76,     4,     3],\n",
       "        [    5,     5,     5, ..., 28187,     4,     3],\n",
       "        [    5,     5,     5, ...,    52,     4,     3]])>}"
      ]
     },
     "execution_count": 39,
     "metadata": {},
     "output_type": "execute_result"
    }
   ],
   "source": [
    "X_test"
   ]
  },
  {
   "cell_type": "code",
   "execution_count": 40,
   "id": "jxu631dY7zqL",
   "metadata": {
    "id": "jxu631dY7zqL"
   },
   "outputs": [],
   "source": [
    "#model.predict([X_test])"
   ]
  },
  {
   "cell_type": "code",
   "execution_count": 41,
   "id": "c0aeef60",
   "metadata": {
    "id": "c0aeef60"
   },
   "outputs": [],
   "source": [
    "# Function to generate accuracy report\n",
    "\n",
    "from sklearn.metrics import confusion_matrix\n",
    "import matplotlib.pyplot as plt\n",
    "from sklearn.metrics import ConfusionMatrixDisplay\n",
    "from sklearn.metrics import accuracy_score, f1_score\n",
    "\n",
    "def accuracy_report(X_val_seq,y_val_seq):\n",
    "    # Calculate preditions for the validation dataset\n",
    "\n",
    "    y_pred = []  # store predicted labels\n",
    "    y_true = []  # store true labels\n",
    "\n",
    "    y_pred = model.predict([X_val_seq])\n",
    "    y_pred = np.argmax(y_pred, axis=1)\n",
    "    #len(y_pred)\n",
    "\n",
    "    y_true= y_val_seq\n",
    "    #len(y_true)\n",
    "\n",
    "    # Convert the true and predicted labels into arrays\n",
    "    true_categories = label_tokenizer.inverse_transform(y_true)\n",
    "    predicted_categories = label_tokenizer.inverse_transform(y_pred)\n",
    "    # print(predicted_categories)\n",
    "\n",
    "    # Generate confusion matrix\n",
    "\n",
    "    cnf_matrix = confusion_matrix(true_categories,predicted_categories,  normalize='pred')\n",
    "\n",
    "    # Plot confusion matrix\n",
    "    disp = ConfusionMatrixDisplay(confusion_matrix=cnf_matrix,display_labels=label_index)\n",
    "    disp = disp.plot(cmap='Greens', xticks_rotation=45)\n",
    "    plt.show()\n",
    "\n",
    "    print(\"Accuracy for validation split: \" ,accuracy_score(y_true, y_pred))\n",
    "    print( \"F1_score: \" + str(f1_score(y_true, y_pred, average='micro')))"
   ]
  },
  {
   "cell_type": "code",
   "execution_count": 42,
   "id": "environmental-transcription",
   "metadata": {
    "colab": {
     "base_uri": "https://localhost:8080/",
     "height": 395
    },
    "id": "environmental-transcription",
    "outputId": "d6fa077e-4c69-42c8-8e9c-902641237783"
   },
   "outputs": [
    {
     "data": {
      "image/png": "[encoded data removed]",
      "text/plain": [
       "<Figure size 432x288 with 2 Axes>"
      ]
     },
     "metadata": {
      "needs_background": "light"
     },
     "output_type": "display_data"
    },
    {
     "name": "stdout",
     "output_type": "stream",
     "text": [
      "Accuracy for validation split:  0.8806\n",
      "F1_score: 0.8806\n"
     ]
    }
   ],
   "source": [
    "# accuracy_report for same books\n",
    "\n",
    "accuracy_report(X_val,y_val_sequences)"
   ]
  },
  {
   "cell_type": "code",
   "execution_count": 43,
   "id": "fundamental-raising",
   "metadata": {
    "colab": {
     "base_uri": "https://localhost:8080/",
     "height": 395
    },
    "id": "fundamental-raising",
    "outputId": "0a87ff89-7960-498c-a64c-fcc8d4820402"
   },
   "outputs": [
    {
     "data": {
      "image/png": "[encoded data removed]",
      "text/plain": [
       "<Figure size 432x288 with 2 Axes>"
      ]
     },
     "metadata": {
      "needs_background": "light"
     },
     "output_type": "display_data"
    },
    {
     "name": "stdout",
     "output_type": "stream",
     "text": [
      "Accuracy for validation split:  0.67875\n",
      "F1_score: 0.67875\n"
     ]
    }
   ],
   "source": [
    "# accuracy_report for seperate books\n",
    "\n",
    "accuracy_report(X_val_2,y_val_sequences_2)"
   ]
  },
  {
   "cell_type": "code",
   "execution_count": 44,
   "id": "CPLiRurgZed_",
   "metadata": {
    "colab": {
     "base_uri": "https://localhost:8080/"
    },
    "id": "CPLiRurgZed_",
    "outputId": "781bff02-b4e0-4128-a652-ea72fc04bb4e"
   },
   "outputs": [
    {
     "name": "stdout",
     "output_type": "stream",
     "text": [
      "Model: \"nlp_XLNet_18\"\n",
      "_________________________________________________________________\n",
      " Layer (type)                Output Shape              Param #   \n",
      "=================================================================\n",
      " input_ids (InputLayer)      [(None, 100)]             0         \n",
      "                                                                 \n",
      " transformer (TFXLNetMainLay  TFXLNetModelOutput(last_  116718336\n",
      " er)                         hidden_state=(None, 100,            \n",
      "                              768),                              \n",
      "                              mems=((100, None, 768),            \n",
      "                              (100, None, 768),                  \n",
      "                              (100, None, 768),                  \n",
      "                              (100, None, 768),                  \n",
      "                              (100, None, 768),                  \n",
      "                              (100, None, 768),                  \n",
      "                              (100, None, 768),                  \n",
      "                              (100, None, 768),                  \n",
      "                              (100, None, 768),                  \n",
      "                              (100, None, 768),                  \n",
      "                              (100, None, 768),                  \n",
      "                              (100, None, 768)),                 \n",
      "                              hidden_states=None, att            \n",
      "                             entions=None)                       \n",
      "                                                                 \n",
      " pooled_output (Dropout)     (None, 100, 768)          0         \n",
      "                                                                 \n",
      " flatten (Flatten)           (None, 76800)             0         \n",
      "                                                                 \n",
      " dense (Dense)               (None, 5)                 384005    \n",
      "                                                                 \n",
      "=================================================================\n",
      "Total params: 117,102,341\n",
      "Trainable params: 117,102,341\n",
      "Non-trainable params: 0\n",
      "_________________________________________________________________\n"
     ]
    }
   ],
   "source": [
    "model.summary()"
   ]
  },
  {
   "cell_type": "code",
   "execution_count": 45,
   "id": "electoral-arrangement",
   "metadata": {
    "id": "electoral-arrangement"
   },
   "outputs": [],
   "source": [
    "# Saving final model for future use\n",
    "\n",
    "#model.save(\"bert_5.h5\", save_format='h5')\n",
    "#tensorflow.keras.models.save_model(model,model._name)"
   ]
  },
  {
   "cell_type": "code",
   "execution_count": 46,
   "id": "mk7Mp05XdxxU",
   "metadata": {
    "id": "mk7Mp05XdxxU"
   },
   "outputs": [],
   "source": [
    "#!tar czf bert_epoch5_adamw_compress.tar.gz bert_epoch5_adamw/"
   ]
  },
  {
   "cell_type": "code",
   "execution_count": 47,
   "id": "VqWmI63N5AIy",
   "metadata": {
    "colab": {
     "base_uri": "https://localhost:8080/"
    },
    "id": "VqWmI63N5AIy",
    "outputId": "c82d1427-848f-4395-a8bb-92a0be176e45"
   },
   "outputs": [
    {
     "name": "stdout",
     "output_type": "stream",
     "text": [
      "Fri Feb 25 09:35:50 2022       \n",
      "+-----------------------------------------------------------------------------+\n",
      "| NVIDIA-SMI 496.13       Driver Version: 496.13       CUDA Version: 11.5     |\n",
      "|-------------------------------+----------------------+----------------------+\n",
      "| GPU  Name            TCC/WDDM | Bus-Id        Disp.A | Volatile Uncorr. ECC |\n",
      "| Fan  Temp  Perf  Pwr:Usage/Cap|         Memory-Usage | GPU-Util  Compute M. |\n",
      "|                               |                      |               MIG M. |\n",
      "|===============================+======================+======================|\n",
      "|   0  NVIDIA GeForce ... WDDM  | 00000000:0D:00.0  On |                  N/A |\n",
      "| 81%   68C    P2   127W / 170W |  10717MiB / 12288MiB |      9%      Default |\n",
      "|                               |                      |                  N/A |\n",
      "+-------------------------------+----------------------+----------------------+\n",
      "                                                                               \n",
      "+-----------------------------------------------------------------------------+\n",
      "| Processes:                                                                  |\n",
      "|  GPU   GI   CI        PID   Type   Process name                  GPU Memory |\n",
      "|        ID   ID                                                   Usage      |\n",
      "|=============================================================================|\n",
      "|    0   N/A  N/A      1604    C+G   Insufficient Permissions        N/A      |\n",
      "|    0   N/A  N/A      4884    C+G   ...108.56\\msedgewebview2.exe    N/A      |\n",
      "|    0   N/A  N/A      5204    C+G   C:\\Windows\\explorer.exe         N/A      |\n",
      "|    0   N/A  N/A      5748      C   ...onda3\\envs\\tf2\\python.exe    N/A      |\n",
      "|    0   N/A  N/A      6308    C+G   ...2txyewy\\TextInputHost.exe    N/A      |\n",
      "|    0   N/A  N/A      6876    C+G   ...s (x86)\\Zoom\\bin\\Zoom.exe    N/A      |\n",
      "|    0   N/A  N/A      7460    C+G   ...y\\ShellExperienceHost.exe    N/A      |\n",
      "|    0   N/A  N/A      7488    C+G   ...5n1h2txyewy\\SearchApp.exe    N/A      |\n",
      "|    0   N/A  N/A      7616    C+G   Insufficient Permissions        N/A      |\n",
      "|    0   N/A  N/A      9452    C+G   ...zilla Firefox\\firefox.exe    N/A      |\n",
      "|    0   N/A  N/A     13036    C+G   ... Download Manager\\fdm.exe    N/A      |\n",
      "|    0   N/A  N/A     13108    C+G   ...zilla Firefox\\firefox.exe    N/A      |\n",
      "|    0   N/A  N/A     14216    C+G   ...5.0.3.0\\GoogleDriveFS.exe    N/A      |\n",
      "|    0   N/A  N/A     15260    C+G   ...enTabletDriver.UX.Wpf.exe    N/A      |\n",
      "|    0   N/A  N/A     15884    C+G   ...in7x64\\steamwebhelper.exe    N/A      |\n",
      "|    0   N/A  N/A     18132      C   ...onda3\\envs\\tf2\\python.exe    N/A      |\n",
      "+-----------------------------------------------------------------------------+\n"
     ]
    }
   ],
   "source": [
    "!nvidia-smi"
   ]
  },
  {
   "cell_type": "code",
   "execution_count": 48,
   "id": "nZzulGEJnDSz",
   "metadata": {
    "colab": {
     "base_uri": "https://localhost:8080/"
    },
    "id": "nZzulGEJnDSz",
    "outputId": "c89f81db-f677-4a49-eb1d-452ed4569fc5"
   },
   "outputs": [
    {
     "name": "stdout",
     "output_type": "stream",
     "text": [
      "WARNING:tensorflow:Skipping full serialization of Keras layer <keras.layers.core.dropout.Dropout object at 0x00000150D7A5A0D0>, because it is not built.\n",
      "WARNING:tensorflow:Skipping full serialization of Keras layer <keras.layers.core.dropout.Dropout object at 0x00000150D7A6C910>, because it is not built.\n",
      "WARNING:tensorflow:Skipping full serialization of Keras layer <keras.layers.core.dropout.Dropout object at 0x00000150D7A781C0>, because it is not built.\n",
      "WARNING:tensorflow:Skipping full serialization of Keras layer <keras.layers.core.dropout.Dropout object at 0x00000150D7A7EA30>, because it is not built.\n",
      "WARNING:tensorflow:Skipping full serialization of Keras layer <keras.layers.core.dropout.Dropout object at 0x00000150D7A8A2E0>, because it is not built.\n",
      "WARNING:tensorflow:Skipping full serialization of Keras layer <keras.layers.core.dropout.Dropout object at 0x00000150D7A90B50>, because it is not built.\n",
      "WARNING:tensorflow:Skipping full serialization of Keras layer <keras.layers.core.dropout.Dropout object at 0x00000150D7A9D400>, because it is not built.\n",
      "WARNING:tensorflow:Skipping full serialization of Keras layer <keras.layers.core.dropout.Dropout object at 0x00000150D7AA2C70>, because it is not built.\n",
      "WARNING:tensorflow:Skipping full serialization of Keras layer <keras.layers.core.dropout.Dropout object at 0x00000150D7AB2520>, because it is not built.\n",
      "WARNING:tensorflow:Skipping full serialization of Keras layer <keras.layers.core.dropout.Dropout object at 0x00000150D7AB9D90>, because it is not built.\n",
      "WARNING:tensorflow:Skipping full serialization of Keras layer <keras.layers.core.dropout.Dropout object at 0x00000150D8094640>, because it is not built.\n",
      "WARNING:tensorflow:Skipping full serialization of Keras layer <keras.layers.core.dropout.Dropout object at 0x00000150D809CEE0>, because it is not built.\n"
     ]
    },
    {
     "name": "stderr",
     "output_type": "stream",
     "text": [
      "WARNING:absl:Found untraced functions such as word_embedding_layer_call_fn, word_embedding_layer_call_and_return_conditional_losses, dropout_36_layer_call_fn, dropout_36_layer_call_and_return_conditional_losses, layer_._0_layer_call_fn while saving (showing 5 of 220). These functions will not be directly callable after loading.\n"
     ]
    },
    {
     "name": "stdout",
     "output_type": "stream",
     "text": [
      "INFO:tensorflow:Assets written to: nlp_XLNet_18\\assets\n"
     ]
    },
    {
     "name": "stderr",
     "output_type": "stream",
     "text": [
      "INFO:tensorflow:Assets written to: nlp_XLNet_18\\assets\n"
     ]
    }
   ],
   "source": [
    "model.save(model._name, include_optimizer=False)"
   ]
  },
  {
   "cell_type": "code",
   "execution_count": 49,
   "id": "JOr9fAJytC2a",
   "metadata": {
    "id": "JOr9fAJytC2a"
   },
   "outputs": [],
   "source": [
    "#!tar czf bert_no_optimizer.tar.gz bert_no_optimizer/"
   ]
  },
  {
   "cell_type": "code",
   "execution_count": 50,
   "id": "X-QjGeq3qDFd",
   "metadata": {
    "id": "X-QjGeq3qDFd"
   },
   "outputs": [],
   "source": [
    "# Reloading model\n",
    "\n",
    "#reloaded_model = tensorflow.saved_model.load(\"bert_no_optimizer\")"
   ]
  },
  {
   "cell_type": "code",
   "execution_count": 51,
   "id": "qYa60UyQ1QA1",
   "metadata": {
    "id": "qYa60UyQ1QA1"
   },
   "outputs": [],
   "source": [
    "# Comparing results of model in memory and reloaded model\n",
    "\n",
    "#text_string = X_val.iloc[0]"
   ]
  },
  {
   "cell_type": "code",
   "execution_count": 52,
   "id": "ET2pOYH82gR7",
   "metadata": {
    "id": "ET2pOYH82gR7"
   },
   "outputs": [],
   "source": [
    "# Correct result\n",
    "\n",
    "#y_val.iloc[0]"
   ]
  },
  {
   "cell_type": "code",
   "execution_count": 53,
   "id": "C_aCtz1YwjOW",
   "metadata": {
    "id": "C_aCtz1YwjOW"
   },
   "outputs": [],
   "source": [
    "#model_result = model(tensorflow.constant([text_string]))"
   ]
  },
  {
   "cell_type": "code",
   "execution_count": 54,
   "id": "WS-j-7At1NfE",
   "metadata": {
    "id": "WS-j-7At1NfE"
   },
   "outputs": [],
   "source": [
    "#reloaded_model_result = reloaded_model(tensorflow.constant([text_string]))"
   ]
  },
  {
   "cell_type": "code",
   "execution_count": 55,
   "id": "0FRxvPjP1ttd",
   "metadata": {
    "id": "0FRxvPjP1ttd"
   },
   "outputs": [],
   "source": [
    "# Result from model in memory\n",
    "\n",
    "#label_index[np.argmax(model_result, axis=1)]"
   ]
  },
  {
   "cell_type": "code",
   "execution_count": 56,
   "id": "wpirJtoY1uA8",
   "metadata": {
    "id": "wpirJtoY1uA8"
   },
   "outputs": [],
   "source": [
    "# Result from reloaded model\n",
    "\n",
    "#label_index[np.argmax(reloaded_model_result, axis=1)]"
   ]
  },
  {
   "cell_type": "code",
   "execution_count": null,
   "id": "54On8BXI-Fwx",
   "metadata": {
    "id": "54On8BXI-Fwx"
   },
   "outputs": [],
   "source": []
  }
 ],
 "metadata": {
  "accelerator": "GPU",
  "colab": {
   "collapsed_sections": [],
   "name": "keras_hf_XLNet.ipynb",
   "provenance": []
  },
  "kernelspec": {
   "display_name": "Python 3.9 (Tensorflow 2.6)",
   "language": "python",
   "name": "tf2"
  },
  "language_info": {
   "codemirror_mode": {
    "name": "ipython",
    "version": 3
   },
   "file_extension": ".py",
   "mimetype": "text/x-python",
   "name": "python",
   "nbconvert_exporter": "python",
   "pygments_lexer": "ipython3",
   "version": "3.9.7"
  },
  "widgets": {
   "application/vnd.jupyter.widget-state+json": {
    "22cbb1e5c7d745fca5750330f03c1d20": {
     "model_module": "@jupyter-widgets/controls",
     "model_module_version": "1.5.0",
     "model_name": "DescriptionStyleModel",
     "state": {
      "_model_module": "@jupyter-widgets/controls",
      "_model_module_version": "1.5.0",
      "_model_name": "DescriptionStyleModel",
      "_view_count": null,
      "_view_module": "@jupyter-widgets/base",
      "_view_module_version": "1.2.0",
      "_view_name": "StyleView",
      "description_width": ""
     }
    },
    "33a1c91ea41b4d3fa83a8960344da2d1": {
     "model_module": "@jupyter-widgets/base",
     "model_module_version": "1.2.0",
     "model_name": "LayoutModel",
     "state": {
      "_model_module": "@jupyter-widgets/base",
      "_model_module_version": "1.2.0",
      "_model_name": "LayoutModel",
      "_view_count": null,
      "_view_module": "@jupyter-widgets/base",
      "_view_module_version": "1.2.0",
      "_view_name": "LayoutView",
      "align_content": null,
      "align_items": null,
      "align_self": null,
      "border": null,
      "bottom": null,
      "display": null,
      "flex": null,
      "flex_flow": null,
      "grid_area": null,
      "grid_auto_columns": null,
      "grid_auto_flow": null,
      "grid_auto_rows": null,
      "grid_column": null,
      "grid_gap": null,
      "grid_row": null,
      "grid_template_areas": null,
      "grid_template_columns": null,
      "grid_template_rows": null,
      "height": null,
      "justify_content": null,
      "justify_items": null,
      "left": null,
      "margin": null,
      "max_height": null,
      "max_width": null,
      "min_height": null,
      "min_width": null,
      "object_fit": null,
      "object_position": null,
      "order": null,
      "overflow": null,
      "overflow_x": null,
      "overflow_y": null,
      "padding": null,
      "right": null,
      "top": null,
      "visibility": null,
      "width": null
     }
    },
    "471e68c2931e4d8796e7bae501d6a6b1": {
     "model_module": "@jupyter-widgets/base",
     "model_module_version": "1.2.0",
     "model_name": "LayoutModel",
     "state": {
      "_model_module": "@jupyter-widgets/base",
      "_model_module_version": "1.2.0",
      "_model_name": "LayoutModel",
      "_view_count": null,
      "_view_module": "@jupyter-widgets/base",
      "_view_module_version": "1.2.0",
      "_view_name": "LayoutView",
      "align_content": null,
      "align_items": null,
      "align_self": null,
      "border": null,
      "bottom": null,
      "display": null,
      "flex": null,
      "flex_flow": null,
      "grid_area": null,
      "grid_auto_columns": null,
      "grid_auto_flow": null,
      "grid_auto_rows": null,
      "grid_column": null,
      "grid_gap": null,
      "grid_row": null,
      "grid_template_areas": null,
      "grid_template_columns": null,
      "grid_template_rows": null,
      "height": null,
      "justify_content": null,
      "justify_items": null,
      "left": null,
      "margin": null,
      "max_height": null,
      "max_width": null,
      "min_height": null,
      "min_width": null,
      "object_fit": null,
      "object_position": null,
      "order": null,
      "overflow": null,
      "overflow_x": null,
      "overflow_y": null,
      "padding": null,
      "right": null,
      "top": null,
      "visibility": null,
      "width": null
     }
    },
    "7d84631caad84e75b5bcd3dbe99baa8e": {
     "model_module": "@jupyter-widgets/controls",
     "model_module_version": "1.5.0",
     "model_name": "FloatProgressModel",
     "state": {
      "_dom_classes": [],
      "_model_module": "@jupyter-widgets/controls",
      "_model_module_version": "1.5.0",
      "_model_name": "FloatProgressModel",
      "_view_count": null,
      "_view_module": "@jupyter-widgets/controls",
      "_view_module_version": "1.5.0",
      "_view_name": "ProgressView",
      "bar_style": "success",
      "description": "",
      "description_tooltip": null,
      "layout": "IPY_MODEL_d6bee4e0419443b4bc3c630dd546d1dd",
      "max": 798011,
      "min": 0,
      "orientation": "horizontal",
      "style": "IPY_MODEL_ad13ab67d8e04e94922b8f782bc05e25",
      "value": 798011
     }
    },
    "a6f8e70faeb149a797c46887c5e2f2e1": {
     "model_module": "@jupyter-widgets/controls",
     "model_module_version": "1.5.0",
     "model_name": "HTMLModel",
     "state": {
      "_dom_classes": [],
      "_model_module": "@jupyter-widgets/controls",
      "_model_module_version": "1.5.0",
      "_model_name": "HTMLModel",
      "_view_count": null,
      "_view_module": "@jupyter-widgets/controls",
      "_view_module_version": "1.5.0",
      "_view_name": "HTMLView",
      "description": "",
      "description_tooltip": null,
      "layout": "IPY_MODEL_471e68c2931e4d8796e7bae501d6a6b1",
      "placeholder": "​",
      "style": "IPY_MODEL_22cbb1e5c7d745fca5750330f03c1d20",
      "value": " 798k/798k [00:00&lt;00:00, 1.62MB/s]"
     }
    },
    "ad13ab67d8e04e94922b8f782bc05e25": {
     "model_module": "@jupyter-widgets/controls",
     "model_module_version": "1.5.0",
     "model_name": "ProgressStyleModel",
     "state": {
      "_model_module": "@jupyter-widgets/controls",
      "_model_module_version": "1.5.0",
      "_model_name": "ProgressStyleModel",
      "_view_count": null,
      "_view_module": "@jupyter-widgets/base",
      "_view_module_version": "1.2.0",
      "_view_name": "StyleView",
      "bar_color": null,
      "description_width": ""
     }
    },
    "ada3953574474d86900769844262dd9d": {
     "model_module": "@jupyter-widgets/controls",
     "model_module_version": "1.5.0",
     "model_name": "HTMLModel",
     "state": {
      "_dom_classes": [],
      "_model_module": "@jupyter-widgets/controls",
      "_model_module_version": "1.5.0",
      "_model_name": "HTMLModel",
      "_view_count": null,
      "_view_module": "@jupyter-widgets/controls",
      "_view_module_version": "1.5.0",
      "_view_name": "HTMLView",
      "description": "",
      "description_tooltip": null,
      "layout": "IPY_MODEL_33a1c91ea41b4d3fa83a8960344da2d1",
      "placeholder": "​",
      "style": "IPY_MODEL_f6568ca904db42e1b6e287f1a7b1c9b5",
      "value": "Downloading: 100%"
     }
    },
    "af1e98528d354164803fec07e58f9359": {
     "model_module": "@jupyter-widgets/controls",
     "model_module_version": "1.5.0",
     "model_name": "HBoxModel",
     "state": {
      "_dom_classes": [],
      "_model_module": "@jupyter-widgets/controls",
      "_model_module_version": "1.5.0",
      "_model_name": "HBoxModel",
      "_view_count": null,
      "_view_module": "@jupyter-widgets/controls",
      "_view_module_version": "1.5.0",
      "_view_name": "HBoxView",
      "box_style": "",
      "children": [
       "IPY_MODEL_ada3953574474d86900769844262dd9d",
       "IPY_MODEL_7d84631caad84e75b5bcd3dbe99baa8e",
       "IPY_MODEL_a6f8e70faeb149a797c46887c5e2f2e1"
      ],
      "layout": "IPY_MODEL_e154e3977a7c4a9791ad7b2a36580f89"
     }
    },
    "d6bee4e0419443b4bc3c630dd546d1dd": {
     "model_module": "@jupyter-widgets/base",
     "model_module_version": "1.2.0",
     "model_name": "LayoutModel",
     "state": {
      "_model_module": "@jupyter-widgets/base",
      "_model_module_version": "1.2.0",
      "_model_name": "LayoutModel",
      "_view_count": null,
      "_view_module": "@jupyter-widgets/base",
      "_view_module_version": "1.2.0",
      "_view_name": "LayoutView",
      "align_content": null,
      "align_items": null,
      "align_self": null,
      "border": null,
      "bottom": null,
      "display": null,
      "flex": null,
      "flex_flow": null,
      "grid_area": null,
      "grid_auto_columns": null,
      "grid_auto_flow": null,
      "grid_auto_rows": null,
      "grid_column": null,
      "grid_gap": null,
      "grid_row": null,
      "grid_template_areas": null,
      "grid_template_columns": null,
      "grid_template_rows": null,
      "height": null,
      "justify_content": null,
      "justify_items": null,
      "left": null,
      "margin": null,
      "max_height": null,
      "max_width": null,
      "min_height": null,
      "min_width": null,
      "object_fit": null,
      "object_position": null,
      "order": null,
      "overflow": null,
      "overflow_x": null,
      "overflow_y": null,
      "padding": null,
      "right": null,
      "top": null,
      "visibility": null,
      "width": null
     }
    },
    "e154e3977a7c4a9791ad7b2a36580f89": {
     "model_module": "@jupyter-widgets/base",
     "model_module_version": "1.2.0",
     "model_name": "LayoutModel",
     "state": {
      "_model_module": "@jupyter-widgets/base",
      "_model_module_version": "1.2.0",
      "_model_name": "LayoutModel",
      "_view_count": null,
      "_view_module": "@jupyter-widgets/base",
      "_view_module_version": "1.2.0",
      "_view_name": "LayoutView",
      "align_content": null,
      "align_items": null,
      "align_self": null,
      "border": null,
      "bottom": null,
      "display": null,
      "flex": null,
      "flex_flow": null,
      "grid_area": null,
      "grid_auto_columns": null,
      "grid_auto_flow": null,
      "grid_auto_rows": null,
      "grid_column": null,
      "grid_gap": null,
      "grid_row": null,
      "grid_template_areas": null,
      "grid_template_columns": null,
      "grid_template_rows": null,
      "height": null,
      "justify_content": null,
      "justify_items": null,
      "left": null,
      "margin": null,
      "max_height": null,
      "max_width": null,
      "min_height": null,
      "min_width": null,
      "object_fit": null,
      "object_position": null,
      "order": null,
      "overflow": null,
      "overflow_x": null,
      "overflow_y": null,
      "padding": null,
      "right": null,
      "top": null,
      "visibility": null,
      "width": null
     }
    },
    "f6568ca904db42e1b6e287f1a7b1c9b5": {
     "model_module": "@jupyter-widgets/controls",
     "model_module_version": "1.5.0",
     "model_name": "DescriptionStyleModel",
     "state": {
      "_model_module": "@jupyter-widgets/controls",
      "_model_module_version": "1.5.0",
      "_model_name": "DescriptionStyleModel",
      "_view_count": null,
      "_view_module": "@jupyter-widgets/base",
      "_view_module_version": "1.2.0",
      "_view_name": "StyleView",
      "description_width": ""
     }
    }
   }
  }
 },
 "nbformat": 4,
 "nbformat_minor": 5
}
