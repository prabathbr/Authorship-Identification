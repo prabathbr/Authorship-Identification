{
 "cells": [
  {
   "cell_type": "code",
   "execution_count": 1,
   "id": "virtual-optimum",
   "metadata": {
    "executionInfo": {
     "elapsed": 686,
     "status": "ok",
     "timestamp": 1632978616491,
     "user": {
      "displayName": "Prabath Hetti Mudiyanselage",
      "photoUrl": "https://lh3.googleusercontent.com/a/default-user=s64",
      "userId": "08605282177904379825"
     },
     "user_tz": -600
    },
    "id": "virtual-optimum"
   },
   "outputs": [],
   "source": [
    "# GPU Reset if needed\n",
    "\n",
    "from numba import cuda \n",
    "device = cuda.get_current_device()\n",
    "device.reset()"
   ]
  },
  {
   "cell_type": "code",
   "execution_count": 2,
   "id": "4c19ba3c",
   "metadata": {
    "executionInfo": {
     "elapsed": 829,
     "status": "ok",
     "timestamp": 1632978617898,
     "user": {
      "displayName": "Prabath Hetti Mudiyanselage",
      "photoUrl": "https://lh3.googleusercontent.com/a/default-user=s64",
      "userId": "08605282177904379825"
     },
     "user_tz": -600
    },
    "id": "4c19ba3c"
   },
   "outputs": [],
   "source": [
    "# Disable CUDA for TF 2.x\n",
    "\n",
    "# import os\n",
    "# os.environ[\"CUDA_VISIBLE_DEVICES\"]=\"-1\" "
   ]
  },
  {
   "cell_type": "code",
   "execution_count": 3,
   "id": "iA9Ipq-4zuPT",
   "metadata": {
    "colab": {
     "base_uri": "https://localhost:8080/"
    },
    "executionInfo": {
     "elapsed": 6,
     "status": "ok",
     "timestamp": 1632978617899,
     "user": {
      "displayName": "Prabath Hetti Mudiyanselage",
      "photoUrl": "https://lh3.googleusercontent.com/a/default-user=s64",
      "userId": "08605282177904379825"
     },
     "user_tz": -600
    },
    "id": "iA9Ipq-4zuPT",
    "outputId": "622e58cd-9251-4c7b-bd63-33103b40de7b"
   },
   "outputs": [
    {
     "name": "stdout",
     "output_type": "stream",
     "text": [
      "D:\\NLP_Last\\files\\UPLOAD\\Transformers_HF\n"
     ]
    }
   ],
   "source": [
    "# Mount Google Drive if running on Google Colab\n",
    "\n",
    "# from google.colab import drive\n",
    "import os\n",
    "\n",
    "# drive.mount('/content/drive')\n",
    "# os.chdir('/content/drive/My Drive/Colab Notebooks/hf/')\n",
    "print(os.getcwd())"
   ]
  },
  {
   "cell_type": "code",
   "execution_count": 4,
   "id": "MI6QgDjY2g7o",
   "metadata": {
    "executionInfo": {
     "elapsed": 5,
     "status": "ok",
     "timestamp": 1632978617900,
     "user": {
      "displayName": "Prabath Hetti Mudiyanselage",
      "photoUrl": "https://lh3.googleusercontent.com/a/default-user=s64",
      "userId": "08605282177904379825"
     },
     "user_tz": -600
    },
    "id": "MI6QgDjY2g7o"
   },
   "outputs": [],
   "source": [
    "# List current directory\n",
    "\n",
    "#!dir"
   ]
  },
  {
   "cell_type": "code",
   "execution_count": 5,
   "id": "wWbrBVZ7CoPF",
   "metadata": {
    "executionInfo": {
     "elapsed": 4,
     "status": "ok",
     "timestamp": 1632978617900,
     "user": {
      "displayName": "Prabath Hetti Mudiyanselage",
      "photoUrl": "https://lh3.googleusercontent.com/a/default-user=s64",
      "userId": "08605282177904379825"
     },
     "user_tz": -600
    },
    "id": "wWbrBVZ7CoPF"
   },
   "outputs": [],
   "source": [
    "# Remove current logs\n",
    "\n",
    "#!rm -rf logs"
   ]
  },
  {
   "cell_type": "code",
   "execution_count": 6,
   "id": "distinct-breath",
   "metadata": {
    "colab": {
     "base_uri": "https://localhost:8080/"
    },
    "executionInfo": {
     "elapsed": 1918,
     "status": "ok",
     "timestamp": 1632978619814,
     "user": {
      "displayName": "Prabath Hetti Mudiyanselage",
      "photoUrl": "https://lh3.googleusercontent.com/a/default-user=s64",
      "userId": "08605282177904379825"
     },
     "user_tz": -600
    },
    "id": "distinct-breath",
    "outputId": "54231406-bc2c-4652-d5cd-5ffd31969919"
   },
   "outputs": [
    {
     "name": "stdout",
     "output_type": "stream",
     "text": [
      "Tensorflow precision mode : float32\n",
      "TensorFlow version : 2.9.0-dev20220102\n",
      "Numpy version : 1.22.0\n",
      "Pandas version : 1.3.4\n"
     ]
    }
   ],
   "source": [
    "# Import Tensorflow and related libraries\n",
    "\n",
    "import tensorflow\n",
    "\n",
    "print(\"Tensorflow precision mode : \" + tensorflow.keras.backend.floatx())\n",
    "\n",
    "# # Set Tensorflow precision mode to 'float16' to speedup with newer GPU\n",
    "# tensorflow.keras.backend.set_floatx('float32')\n",
    "\n",
    "# print(\"Tensorflow precision mode (after change) : \" + tensorflow.keras.backend.floatx())\n",
    "\n",
    "from tensorflow.keras.models import Model\n",
    "from tensorflow.keras.layers import Dense\n",
    "from tensorflow.keras.layers import Flatten\n",
    "from tensorflow.keras.layers import Dropout\n",
    "\n",
    "from tensorflow.keras.layers import Input\n",
    "\n",
    "from tensorflow.keras.utils import plot_model\n",
    "\n",
    "from sklearn.preprocessing import LabelEncoder\n",
    "\n",
    "print(\"TensorFlow version : \" + tensorflow.__version__)\n",
    "\n",
    "import numpy as np\n",
    "print(\"Numpy version : \" + np.version.version)\n",
    "\n",
    "import pandas as pd\n",
    "print(\"Pandas version : \" + pd.__version__)"
   ]
  },
  {
   "cell_type": "code",
   "execution_count": 7,
   "id": "circular-angle",
   "metadata": {
    "colab": {
     "base_uri": "https://localhost:8080/"
    },
    "executionInfo": {
     "elapsed": 10,
     "status": "ok",
     "timestamp": 1632978619814,
     "user": {
      "displayName": "Prabath Hetti Mudiyanselage",
      "photoUrl": "https://lh3.googleusercontent.com/a/default-user=s64",
      "userId": "08605282177904379825"
     },
     "user_tz": -600
    },
    "id": "circular-angle",
    "outputId": "2a47cece-f4dd-40cf-f26e-d15bfe89815b"
   },
   "outputs": [
    {
     "name": "stdout",
     "output_type": "stream",
     "text": [
      "Name: /physical_device:GPU:0   Type: GPU\n"
     ]
    }
   ],
   "source": [
    "# Display available GPUs\n",
    "\n",
    "physical_devices = tensorflow.config.list_physical_devices(('GPU'))\n",
    "for gpu in physical_devices:\n",
    "    print(\"Name:\", gpu.name, \"  Type:\", gpu.device_type)"
   ]
  },
  {
   "cell_type": "code",
   "execution_count": 8,
   "id": "618b9a2b",
   "metadata": {
    "colab": {
     "base_uri": "https://localhost:8080/"
    },
    "executionInfo": {
     "elapsed": 8,
     "status": "ok",
     "timestamp": 1632978619814,
     "user": {
      "displayName": "Prabath Hetti Mudiyanselage",
      "photoUrl": "https://lh3.googleusercontent.com/a/default-user=s64",
      "userId": "08605282177904379825"
     },
     "user_tz": -600
    },
    "id": "618b9a2b",
    "outputId": "e372b3da-c98b-4689-e225-3ffefcba075c"
   },
   "outputs": [
    {
     "name": "stdout",
     "output_type": "stream",
     "text": [
      "Fri Feb 25 08:50:24 2022       \n",
      "+-----------------------------------------------------------------------------+\n",
      "| NVIDIA-SMI 496.13       Driver Version: 496.13       CUDA Version: 11.5     |\n",
      "|-------------------------------+----------------------+----------------------+\n",
      "| GPU  Name            TCC/WDDM | Bus-Id        Disp.A | Volatile Uncorr. ECC |\n",
      "| Fan  Temp  Perf  Pwr:Usage/Cap|         Memory-Usage | GPU-Util  Compute M. |\n",
      "|                               |                      |               MIG M. |\n",
      "|===============================+======================+======================|\n",
      "|   0  NVIDIA GeForce ... WDDM  | 00000000:0D:00.0  On |                  N/A |\n",
      "|  0%   51C    P2    42W / 170W |   2169MiB / 12288MiB |      0%      Default |\n",
      "|                               |                      |                  N/A |\n",
      "+-------------------------------+----------------------+----------------------+\n",
      "                                                                               \n",
      "+-----------------------------------------------------------------------------+\n",
      "| Processes:                                                                  |\n",
      "|  GPU   GI   CI        PID   Type   Process name                  GPU Memory |\n",
      "|        ID   ID                                                   Usage      |\n",
      "|=============================================================================|\n",
      "|    0   N/A  N/A      1604    C+G   Insufficient Permissions        N/A      |\n",
      "|    0   N/A  N/A      2476      C   ...onda3\\envs\\tf2\\python.exe    N/A      |\n",
      "|    0   N/A  N/A      5204    C+G   C:\\Windows\\explorer.exe         N/A      |\n",
      "|    0   N/A  N/A      5748      C   ...onda3\\envs\\tf2\\python.exe    N/A      |\n",
      "|    0   N/A  N/A      6308    C+G   ...2txyewy\\TextInputHost.exe    N/A      |\n",
      "|    0   N/A  N/A      7460    C+G   ...y\\ShellExperienceHost.exe    N/A      |\n",
      "|    0   N/A  N/A      7488    C+G   ...5n1h2txyewy\\SearchApp.exe    N/A      |\n",
      "|    0   N/A  N/A      7616    C+G   Insufficient Permissions        N/A      |\n",
      "|    0   N/A  N/A      9452    C+G   ...zilla Firefox\\firefox.exe    N/A      |\n",
      "|    0   N/A  N/A     13036    C+G   ... Download Manager\\fdm.exe    N/A      |\n",
      "|    0   N/A  N/A     13108    C+G   ...zilla Firefox\\firefox.exe    N/A      |\n",
      "|    0   N/A  N/A     14216    C+G   ...5.0.3.0\\GoogleDriveFS.exe    N/A      |\n",
      "|    0   N/A  N/A     15260    C+G   ...enTabletDriver.UX.Wpf.exe    N/A      |\n",
      "|    0   N/A  N/A     15884    C+G   ...in7x64\\steamwebhelper.exe    N/A      |\n",
      "+-----------------------------------------------------------------------------+\n"
     ]
    }
   ],
   "source": [
    "# Show GPU status\n",
    "\n",
    "!nvidia-smi"
   ]
  },
  {
   "cell_type": "code",
   "execution_count": 9,
   "id": "0f583e47",
   "metadata": {
    "executionInfo": {
     "elapsed": 5,
     "status": "ok",
     "timestamp": 1632978619815,
     "user": {
      "displayName": "Prabath Hetti Mudiyanselage",
      "photoUrl": "https://lh3.googleusercontent.com/a/default-user=s64",
      "userId": "08605282177904379825"
     },
     "user_tz": -600
    },
    "id": "0f583e47"
   },
   "outputs": [],
   "source": [
    "# Fix for \"CUDA_ERROR_ILLEGAL_ADDRESS\"\n",
    "\n",
    "# Ref : https://github.com/tensorflow/tensorflow/issues/40814#issuecomment-663838196\n",
    "\n",
    "os.environ['TF_CUDNN_DETERMINISTIC']='1'"
   ]
  },
  {
   "cell_type": "code",
   "execution_count": 10,
   "id": "preceding-travel",
   "metadata": {
    "executionInfo": {
     "elapsed": 5,
     "status": "ok",
     "timestamp": 1632978619815,
     "user": {
      "displayName": "Prabath Hetti Mudiyanselage",
      "photoUrl": "https://lh3.googleusercontent.com/a/default-user=s64",
      "userId": "08605282177904379825"
     },
     "user_tz": -600
    },
    "id": "preceding-travel"
   },
   "outputs": [],
   "source": [
    "# Enable Memory Growth\n",
    "\n",
    "try:\n",
    "    if physical_devices != []:\n",
    "        tensorflow.config.experimental.set_memory_growth(physical_devices[0], True)\n",
    "        physical_devices[0]\n",
    "except:\n",
    "    print(\"error\")      "
   ]
  },
  {
   "cell_type": "code",
   "execution_count": 11,
   "id": "primary-bryan",
   "metadata": {
    "executionInfo": {
     "elapsed": 4,
     "status": "ok",
     "timestamp": 1632978619815,
     "user": {
      "displayName": "Prabath Hetti Mudiyanselage",
      "photoUrl": "https://lh3.googleusercontent.com/a/default-user=s64",
      "userId": "08605282177904379825"
     },
     "user_tz": -600
    },
    "id": "primary-bryan"
   },
   "outputs": [],
   "source": [
    "# Global Parameters\n",
    "\n",
    "author_list = ['Charles Dickens','Jane Austen','Sir Arthur Conan Doyle','George Eliot','Jules Verne']\n",
    "seed_number = 18\n",
    "dataset_file  = \"dataset.csv\"\n",
    "validation_dataset_file  = \"validation_dataset.csv\"\n",
    "\n",
    "# For 3 GB VRAM : \n",
    "# batch_size = 2 when seq_length = 128, otherwise \"out of memory\"\n",
    "# Typical single epoch runtime = 20 mins\n",
    "\n",
    "batch_size = 64 # number of batch size\n",
    "epochs = 5 # number of maximum epochs to run\n",
    "seq_length = 100#300 # BERT Model sequence length\n",
    "dropout_value = 0.1 # Dropout layer value for Model\n",
    "init_lr = 3e-5 # Initial learning rate"
   ]
  },
  {
   "cell_type": "code",
   "execution_count": 12,
   "id": "e41a7202",
   "metadata": {
    "executionInfo": {
     "elapsed": 5,
     "status": "ok",
     "timestamp": 1632978619816,
     "user": {
      "displayName": "Prabath Hetti Mudiyanselage",
      "photoUrl": "https://lh3.googleusercontent.com/a/default-user=s64",
      "userId": "08605282177904379825"
     },
     "user_tz": -600
    },
    "id": "e41a7202"
   },
   "outputs": [],
   "source": [
    "# Reading validation data (from seperate books)\n",
    "\n",
    "validation_data = pd.read_csv(validation_dataset_file, usecols = ['author','text'])\n",
    "X_val_2 = validation_data.text\n",
    "y_val_2 = validation_data.author"
   ]
  },
  {
   "cell_type": "code",
   "execution_count": 13,
   "id": "attractive-oriental",
   "metadata": {
    "executionInfo": {
     "elapsed": 4,
     "status": "ok",
     "timestamp": 1632978619816,
     "user": {
      "displayName": "Prabath Hetti Mudiyanselage",
      "photoUrl": "https://lh3.googleusercontent.com/a/default-user=s64",
      "userId": "08605282177904379825"
     },
     "user_tz": -600
    },
    "id": "attractive-oriental"
   },
   "outputs": [],
   "source": [
    "# Reading training/test/validation data\n",
    "\n",
    "data = pd.read_csv(dataset_file, usecols = ['author','text'])"
   ]
  },
  {
   "cell_type": "code",
   "execution_count": 14,
   "id": "dried-aerospace",
   "metadata": {
    "executionInfo": {
     "elapsed": 12,
     "status": "ok",
     "timestamp": 1632978620779,
     "user": {
      "displayName": "Prabath Hetti Mudiyanselage",
      "photoUrl": "https://lh3.googleusercontent.com/a/default-user=s64",
      "userId": "08605282177904379825"
     },
     "user_tz": -600
    },
    "id": "dried-aerospace"
   },
   "outputs": [],
   "source": [
    "#data.sample(5)"
   ]
  },
  {
   "cell_type": "code",
   "execution_count": 15,
   "id": "signal-football",
   "metadata": {
    "executionInfo": {
     "elapsed": 11,
     "status": "ok",
     "timestamp": 1632978620779,
     "user": {
      "displayName": "Prabath Hetti Mudiyanselage",
      "photoUrl": "https://lh3.googleusercontent.com/a/default-user=s64",
      "userId": "08605282177904379825"
     },
     "user_tz": -600
    },
    "id": "signal-football"
   },
   "outputs": [],
   "source": [
    "from sklearn.model_selection import train_test_split\n",
    "\n",
    "# Train, Test, Validation Spit ratios 60%, 20%, 20% \n",
    "\n",
    "X_train, X_val, y_train, y_val = train_test_split(data[\"text\"], data[\"author\"], test_size=0.2, random_state=2000)\n",
    "X_train, X_test, y_train, y_test = train_test_split(X_train, y_train, test_size=0.25, random_state=seed_number) # 0.25 x 0.8 = 0.2"
   ]
  },
  {
   "cell_type": "code",
   "execution_count": 16,
   "id": "a34aaa20",
   "metadata": {
    "colab": {
     "base_uri": "https://localhost:8080/"
    },
    "executionInfo": {
     "elapsed": 11,
     "status": "ok",
     "timestamp": 1632978620779,
     "user": {
      "displayName": "Prabath Hetti Mudiyanselage",
      "photoUrl": "https://lh3.googleusercontent.com/a/default-user=s64",
      "userId": "08605282177904379825"
     },
     "user_tz": -600
    },
    "id": "a34aaa20",
    "outputId": "0b1ac93d-84a8-4493-a0be-6c2477e902bf"
   },
   "outputs": [
    {
     "name": "stdout",
     "output_type": "stream",
     "text": [
      "Number of training data: 15000\n",
      "Number of test data: 5000\n",
      "Number of validation data (from same books): 5000\n",
      "Number of validation data (from seperate books): 4000\n",
      "Number of max characters in training dataset: 370\n"
     ]
    }
   ],
   "source": [
    "print(\"Number of training data:\",len(X_train))\n",
    "print(\"Number of test data:\",len(X_test))\n",
    "print(\"Number of validation data (from same books):\",len(X_val))\n",
    "print(\"Number of validation data (from seperate books):\",len(X_val_2))\n",
    "print(\"Number of max characters in training dataset:\",max(X_train.apply(len)))"
   ]
  },
  {
   "cell_type": "code",
   "execution_count": 17,
   "id": "strong-ukraine",
   "metadata": {
    "executionInfo": {
     "elapsed": 8,
     "status": "ok",
     "timestamp": 1632978620780,
     "user": {
      "displayName": "Prabath Hetti Mudiyanselage",
      "photoUrl": "https://lh3.googleusercontent.com/a/default-user=s64",
      "userId": "08605282177904379825"
     },
     "user_tz": -600
    },
    "id": "strong-ukraine"
   },
   "outputs": [],
   "source": [
    "# Encoding label text to integeres\n",
    "\n",
    "label_tokenizer = LabelEncoder()\n",
    "label_tokenizer.fit(author_list)\n",
    "label_index = label_tokenizer.classes_\n",
    "\n",
    "y_train_sequences = np.array(label_tokenizer.transform(y_train))\n",
    "y_test_sequences = np.array(label_tokenizer.transform(y_test))\n",
    "y_val_sequences = np.array(label_tokenizer.transform(y_val))\n",
    "y_val_sequences_2 = np.array(label_tokenizer.transform(y_val_2))"
   ]
  },
  {
   "cell_type": "code",
   "execution_count": 18,
   "id": "informed-precipitation",
   "metadata": {
    "colab": {
     "base_uri": "https://localhost:8080/"
    },
    "executionInfo": {
     "elapsed": 7,
     "status": "ok",
     "timestamp": 1632978620780,
     "user": {
      "displayName": "Prabath Hetti Mudiyanselage",
      "photoUrl": "https://lh3.googleusercontent.com/a/default-user=s64",
      "userId": "08605282177904379825"
     },
     "user_tz": -600
    },
    "id": "informed-precipitation",
    "outputId": "d49da39e-4588-43ee-dc4c-9ea9bbec9252"
   },
   "outputs": [
    {
     "data": {
      "text/plain": [
       "array(['Charles Dickens', 'George Eliot', 'Jane Austen', 'Jules Verne',\n",
       "       'Sir Arthur Conan Doyle'], dtype='<U22')"
      ]
     },
     "execution_count": 18,
     "metadata": {},
     "output_type": "execute_result"
    }
   ],
   "source": [
    "label_index"
   ]
  },
  {
   "cell_type": "markdown",
   "id": "numeric-produce",
   "metadata": {
    "id": "numeric-produce"
   },
   "source": [
    "### RoBERTa Model"
   ]
  },
  {
   "cell_type": "code",
   "execution_count": 19,
   "id": "6c978cf2",
   "metadata": {
    "colab": {
     "base_uri": "https://localhost:8080/"
    },
    "executionInfo": {
     "elapsed": 4241,
     "status": "ok",
     "timestamp": 1632978625017,
     "user": {
      "displayName": "Prabath Hetti Mudiyanselage",
      "photoUrl": "https://lh3.googleusercontent.com/a/default-user=s64",
      "userId": "08605282177904379825"
     },
     "user_tz": -600
    },
    "id": "6c978cf2",
    "outputId": "f13b2fef-098d-4643-884a-1ce3b3aa2add"
   },
   "outputs": [],
   "source": [
    "# !pip install transformers==4.6.0"
   ]
  },
  {
   "cell_type": "code",
   "execution_count": 20,
   "id": "5029e0df",
   "metadata": {
    "executionInfo": {
     "elapsed": 14,
     "status": "ok",
     "timestamp": 1632978625025,
     "user": {
      "displayName": "Prabath Hetti Mudiyanselage",
      "photoUrl": "https://lh3.googleusercontent.com/a/default-user=s64",
      "userId": "08605282177904379825"
     },
     "user_tz": -600
    },
    "id": "5029e0df"
   },
   "outputs": [],
   "source": [
    "# Load Huggingface transformers\n",
    "from transformers import RobertaConfig, TFRobertaModel, RobertaTokenizerFast"
   ]
  },
  {
   "cell_type": "code",
   "execution_count": 21,
   "id": "fb14f7a9",
   "metadata": {
    "colab": {
     "base_uri": "https://localhost:8080/"
    },
    "executionInfo": {
     "elapsed": 7491,
     "status": "ok",
     "timestamp": 1632978632502,
     "user": {
      "displayName": "Prabath Hetti Mudiyanselage",
      "photoUrl": "https://lh3.googleusercontent.com/a/default-user=s64",
      "userId": "08605282177904379825"
     },
     "user_tz": -600
    },
    "id": "fb14f7a9",
    "outputId": "cc74b50b-16d1-4eb6-921b-c260005d6d75"
   },
   "outputs": [
    {
     "data": {
      "application/vnd.jupyter.widget-view+json": {
       "model_id": "9028b1fd554d4626852c8c4a99af5f8a",
       "version_major": 2,
       "version_minor": 0
      },
      "text/plain": [
       "Downloading:   0%|          | 0.00/899k [00:00<?, ?B/s]"
      ]
     },
     "metadata": {},
     "output_type": "display_data"
    },
    {
     "data": {
      "application/vnd.jupyter.widget-view+json": {
       "model_id": "79bd1b814a284f63be7ef6a99ee46ec3",
       "version_major": 2,
       "version_minor": 0
      },
      "text/plain": [
       "Downloading:   0%|          | 0.00/456k [00:00<?, ?B/s]"
      ]
     },
     "metadata": {},
     "output_type": "display_data"
    },
    {
     "data": {
      "application/vnd.jupyter.widget-view+json": {
       "model_id": "5681c76060e54bbea428d7669120b604",
       "version_major": 2,
       "version_minor": 0
      },
      "text/plain": [
       "Downloading:   0%|          | 0.00/1.36M [00:00<?, ?B/s]"
      ]
     },
     "metadata": {},
     "output_type": "display_data"
    },
    {
     "data": {
      "application/vnd.jupyter.widget-view+json": {
       "model_id": "e49540b804a14167936b62016a8ffe09",
       "version_major": 2,
       "version_minor": 0
      },
      "text/plain": [
       "Downloading:   0%|          | 0.00/481 [00:00<?, ?B/s]"
      ]
     },
     "metadata": {},
     "output_type": "display_data"
    },
    {
     "data": {
      "application/vnd.jupyter.widget-view+json": {
       "model_id": "9187bbc9a00c47b8b57e124cf5a33d0c",
       "version_major": 2,
       "version_minor": 0
      },
      "text/plain": [
       "Downloading:   0%|          | 0.00/657M [00:00<?, ?B/s]"
      ]
     },
     "metadata": {},
     "output_type": "display_data"
    },
    {
     "name": "stderr",
     "output_type": "stream",
     "text": [
      "Some layers from the model checkpoint at roberta-base were not used when initializing TFRobertaModel: ['lm_head']\n",
      "- This IS expected if you are initializing TFRobertaModel from the checkpoint of a model trained on another task or with another architecture (e.g. initializing a BertForSequenceClassification model from a BertForPreTraining model).\n",
      "- This IS NOT expected if you are initializing TFRobertaModel from the checkpoint of a model that you expect to be exactly identical (initializing a BertForSequenceClassification model from a BertForSequenceClassification model).\n",
      "All the layers of TFRobertaModel were initialized from the model checkpoint at roberta-base.\n",
      "If your task is similar to the task the model of the checkpoint was trained on, you can already use TFRobertaModel for predictions without further training.\n"
     ]
    }
   ],
   "source": [
    "#######################################\n",
    "### --------- Setup  ---------- ###\n",
    "\n",
    "# Ref: https://huggingface.co/transformers/model_doc/roberta.html\n",
    "\n",
    "\n",
    "# Name of the  model to use\n",
    "model_name = 'roberta-base'\n",
    "\n",
    "# Max length of tokens\n",
    "max_length = seq_length #100\n",
    "\n",
    "# Load transformers config and set output_hidden_states to False\n",
    "# config = BertConfig.from_pretrained(model_name)\n",
    "# config.output_hidden_states = False\n",
    "\n",
    "# Load BERT tokenizer\n",
    "tokenizer = RobertaTokenizerFast.from_pretrained(model_name)#BertTokenizerFast.from_pretrained(pretrained_model_name_or_path = model_name, config = config)\n",
    "\n",
    "# Load the Transformers BERT model\n",
    "transformer_model = TFRobertaModel.from_pretrained(model_name) #TFBertModel.from_pretrained(model_name, config = config)"
   ]
  },
  {
   "cell_type": "code",
   "execution_count": 22,
   "id": "d2676225",
   "metadata": {
    "executionInfo": {
     "elapsed": 5392,
     "status": "ok",
     "timestamp": 1632978637892,
     "user": {
      "displayName": "Prabath Hetti Mudiyanselage",
      "photoUrl": "https://lh3.googleusercontent.com/a/default-user=s64",
      "userId": "08605282177904379825"
     },
     "user_tz": -600
    },
    "id": "d2676225"
   },
   "outputs": [],
   "source": [
    "#######################################\n",
    "### ------- Build the model ------- ###\n",
    "\n",
    "# TF Keras documentation: https://www.tensorflow.org/api_docs/python/tf/keras/Model\n",
    "\n",
    "# Load the MainLayer\n",
    "bert = transformer_model.layers[0]\n",
    "\n",
    "# Build your model input\n",
    "input_ids = Input(shape=(max_length,), name='input_ids', dtype='int32')\n",
    "\n",
    "inputs = {'input_ids': input_ids}\n",
    "\n",
    "# Load the Transformers BERT model as a layer in a Keras model\n",
    "bert_model = bert(inputs)[1]\n",
    "dropout = Dropout(dropout_value, name='pooled_output')#Dropout(config.hidden_dropout_prob, name='pooled_output')\n",
    "pooled_output = dropout(bert_model, training=False)"
   ]
  },
  {
   "cell_type": "code",
   "execution_count": 23,
   "id": "93802723",
   "metadata": {
    "executionInfo": {
     "elapsed": 4,
     "status": "ok",
     "timestamp": 1632978637893,
     "user": {
      "displayName": "Prabath Hetti Mudiyanselage",
      "photoUrl": "https://lh3.googleusercontent.com/a/default-user=s64",
      "userId": "08605282177904379825"
     },
     "user_tz": -600
    },
    "id": "93802723"
   },
   "outputs": [],
   "source": [
    "def X_tokenizer(X_original):\n",
    "    X_original = tokenizer(\n",
    "    text=X_original.to_list(),\n",
    "    add_special_tokens=True,\n",
    "    max_length=max_length,\n",
    "    truncation=True,\n",
    "    padding='max_length', \n",
    "   # pad_to_max_length=\"right\",\n",
    "    return_tensors='tf',\n",
    "    return_token_type_ids = False,\n",
    "    return_attention_mask = False,\n",
    "    verbose = True)\n",
    "\n",
    "    X_original={'input_ids': X_original['input_ids']}\n",
    "    return X_original\n",
    "    "
   ]
  },
  {
   "cell_type": "code",
   "execution_count": 24,
   "id": "9be0308f",
   "metadata": {
    "executionInfo": {
     "elapsed": 3836,
     "status": "ok",
     "timestamp": 1632978641727,
     "user": {
      "displayName": "Prabath Hetti Mudiyanselage",
      "photoUrl": "https://lh3.googleusercontent.com/a/default-user=s64",
      "userId": "08605282177904379825"
     },
     "user_tz": -600
    },
    "id": "9be0308f"
   },
   "outputs": [],
   "source": [
    "X_train = X_tokenizer(X_train)\n",
    "X_test = X_tokenizer(X_test)\n",
    "X_val = X_tokenizer(X_val)\n",
    "X_val_2 = X_tokenizer(X_val_2)"
   ]
  },
  {
   "cell_type": "code",
   "execution_count": 25,
   "id": "acting-midwest",
   "metadata": {
    "colab": {
     "base_uri": "https://localhost:8080/"
    },
    "executionInfo": {
     "elapsed": 11,
     "status": "ok",
     "timestamp": 1632978641731,
     "user": {
      "displayName": "Prabath Hetti Mudiyanselage",
      "photoUrl": "https://lh3.googleusercontent.com/a/default-user=s64",
      "userId": "08605282177904379825"
     },
     "user_tz": -600
    },
    "id": "acting-midwest",
    "outputId": "92844f4f-0bd8-47bf-989b-d5d9bc2eab54"
   },
   "outputs": [
    {
     "name": "stdout",
     "output_type": "stream",
     "text": [
      "Model: \"nlp_roberta_18\"\n",
      "_________________________________________________________________\n",
      " Layer (type)                Output Shape              Param #   \n",
      "=================================================================\n",
      " input_ids (InputLayer)      [(None, 100)]             0         \n",
      "                                                                 \n",
      " roberta (TFRobertaMainLayer  TFBaseModelOutputWithPoo  124645632\n",
      " )                           ling(last_hidden_state=(            \n",
      "                             None, 100, 768),                    \n",
      "                              pooler_output=(None, 76            \n",
      "                             8),                                 \n",
      "                              hidden_states=None, att            \n",
      "                             entions=None)                       \n",
      "                                                                 \n",
      " pooled_output (Dropout)     (None, 768)               0         \n",
      "                                                                 \n",
      " dense (Dense)               (None, 5)                 3845      \n",
      "                                                                 \n",
      "=================================================================\n",
      "Total params: 124,649,477\n",
      "Trainable params: 124,649,477\n",
      "Non-trainable params: 0\n",
      "_________________________________________________________________\n"
     ]
    }
   ],
   "source": [
    "# define new model\n",
    "\n",
    "model_output = tensorflow.keras.layers.Dense(5, activation='softmax')(pooled_output)\n",
    "\n",
    "model = tensorflow.keras.Model(inputs, model_output)\n",
    "\n",
    "model._name = \"nlp_roberta_\" + str(seed_number) \n",
    "model.summary()\n",
    "\n"
   ]
  },
  {
   "cell_type": "code",
   "execution_count": 26,
   "id": "d206d079",
   "metadata": {
    "colab": {
     "base_uri": "https://localhost:8080/",
     "height": 369
    },
    "executionInfo": {
     "elapsed": 10,
     "status": "ok",
     "timestamp": 1632978641732,
     "user": {
      "displayName": "Prabath Hetti Mudiyanselage",
      "photoUrl": "https://lh3.googleusercontent.com/a/default-user=s64",
      "userId": "08605282177904379825"
     },
     "user_tz": -600
    },
    "id": "d206d079",
    "outputId": "6028a783-4508-450c-e6b2-69098cd139fb"
   },
   "outputs": [
    {
     "data": {
      "image/png": "[encoded data removed]",
      "text/plain": [
       "<IPython.core.display.Image object>"
      ]
     },
     "execution_count": 26,
     "metadata": {},
     "output_type": "execute_result"
    }
   ],
   "source": [
    "# Save the model as a png file\n",
    "plot_model(model, to_file=model._name +'.png', show_layer_names=True)"
   ]
  },
  {
   "cell_type": "code",
   "execution_count": 27,
   "id": "stuck-dispatch",
   "metadata": {
    "colab": {
     "base_uri": "https://localhost:8080/"
    },
    "executionInfo": {
     "elapsed": 9,
     "status": "ok",
     "timestamp": 1632978641732,
     "user": {
      "displayName": "Prabath Hetti Mudiyanselage",
      "photoUrl": "https://lh3.googleusercontent.com/a/default-user=s64",
      "userId": "08605282177904379825"
     },
     "user_tz": -600
    },
    "id": "stuck-dispatch",
    "outputId": "66685b6f-23c3-4d9b-c1f9-bf182d753d63"
   },
   "outputs": [
    {
     "name": "stdout",
     "output_type": "stream",
     "text": [
      "0 input_ids True\n",
      "1 roberta True\n",
      "2 pooled_output True\n",
      "3 dense True\n"
     ]
    }
   ],
   "source": [
    "# Show the trainable status of the layers\n",
    "\n",
    "for i, layer in enumerate(model.layers):\n",
    "    print(i, layer.name, layer.trainable)"
   ]
  },
  {
   "cell_type": "code",
   "execution_count": 28,
   "id": "13a91642",
   "metadata": {
    "executionInfo": {
     "elapsed": 7,
     "status": "ok",
     "timestamp": 1632978641732,
     "user": {
      "displayName": "Prabath Hetti Mudiyanselage",
      "photoUrl": "https://lh3.googleusercontent.com/a/default-user=s64",
      "userId": "08605282177904379825"
     },
     "user_tz": -600
    },
    "id": "13a91642"
   },
   "outputs": [],
   "source": [
    "# Define Optimizer\n",
    "\n",
    "# steps_per_epoch = int(len(X_train)/batch_size) #tensorflow.data.experimental.cardinality(data_train).numpy()\n",
    "# num_train_steps = steps_per_epoch * epochs\n",
    "# num_warmup_steps = int(0.1*num_train_steps)\n",
    "# print(steps_per_epoch,num_train_steps,num_warmup_steps)\n",
    "\n",
    "# optimizer = optimization.create_optimizer(init_lr=init_lr,\n",
    "#                                           num_train_steps=num_train_steps,\n",
    "#                                           num_warmup_steps=num_warmup_steps,\n",
    "#                                           optimizer_type='adamw')"
   ]
  },
  {
   "cell_type": "code",
   "execution_count": 29,
   "id": "c45b8d76",
   "metadata": {
    "executionInfo": {
     "elapsed": 7,
     "status": "ok",
     "timestamp": 1632978641732,
     "user": {
      "displayName": "Prabath Hetti Mudiyanselage",
      "photoUrl": "https://lh3.googleusercontent.com/a/default-user=s64",
      "userId": "08605282177904379825"
     },
     "user_tz": -600
    },
    "id": "c45b8d76"
   },
   "outputs": [],
   "source": [
    "from tensorflow.keras.optimizers import Adam\n",
    "\n",
    "optimizer = Adam(\n",
    "    learning_rate=5e-05,\n",
    "    epsilon=1e-08,\n",
    "    decay=0.01,\n",
    "    clipnorm=1.0)"
   ]
  },
  {
   "cell_type": "code",
   "execution_count": 30,
   "id": "manufactured-niagara",
   "metadata": {
    "executionInfo": {
     "elapsed": 6,
     "status": "ok",
     "timestamp": 1632978641732,
     "user": {
      "displayName": "Prabath Hetti Mudiyanselage",
      "photoUrl": "https://lh3.googleusercontent.com/a/default-user=s64",
      "userId": "08605282177904379825"
     },
     "user_tz": -600
    },
    "id": "manufactured-niagara"
   },
   "outputs": [],
   "source": [
    "# Compile the model\n",
    "\n",
    "model.compile(\n",
    "    #optimizer=tensorflow.keras.optimizers.Adam(learning_rate=3e-5),\n",
    "    #optimizer=tensorflow.keras.optimizers.RMSprop(learning_rate=0.0001),\n",
    "    optimizer=optimizer,\n",
    "    loss=\"sparse_categorical_crossentropy\",\n",
    "    metrics=[\"accuracy\"],\n",
    ")"
   ]
  },
  {
   "cell_type": "code",
   "execution_count": 31,
   "id": "passing-chambers",
   "metadata": {
    "executionInfo": {
     "elapsed": 611,
     "status": "ok",
     "timestamp": 1632978642337,
     "user": {
      "displayName": "Prabath Hetti Mudiyanselage",
      "photoUrl": "https://lh3.googleusercontent.com/a/default-user=s64",
      "userId": "08605282177904379825"
     },
     "user_tz": -600
    },
    "id": "passing-chambers"
   },
   "outputs": [],
   "source": [
    "# Tensorboard parameters\n",
    "\n",
    "import datetime\n",
    "log_dir = \"logs/fit/\" + datetime.datetime.now().strftime(\"%Y%m%d-%H%M%S\")\n",
    "tensorboard_callback = tensorflow.keras.callbacks.TensorBoard(log_dir=log_dir, histogram_freq=1)"
   ]
  },
  {
   "cell_type": "code",
   "execution_count": 32,
   "id": "diagnostic-hydrogen",
   "metadata": {
    "executionInfo": {
     "elapsed": 4,
     "status": "ok",
     "timestamp": 1632978642337,
     "user": {
      "displayName": "Prabath Hetti Mudiyanselage",
      "photoUrl": "https://lh3.googleusercontent.com/a/default-user=s64",
      "userId": "08605282177904379825"
     },
     "user_tz": -600
    },
    "id": "diagnostic-hydrogen"
   },
   "outputs": [],
   "source": [
    "# Use best weights for the model\n",
    "\n",
    "early_stopping_monitor = tensorflow.keras.callbacks.EarlyStopping(\n",
    "    monitor='val_accuracy',\n",
    "    min_delta=0,\n",
    "    patience=50,\n",
    "    verbose=0,\n",
    "    mode='max',\n",
    "    baseline=None,\n",
    "    restore_best_weights=True\n",
    ")"
   ]
  },
  {
   "cell_type": "code",
   "execution_count": 33,
   "id": "unlike-ballot",
   "metadata": {
    "colab": {
     "base_uri": "https://localhost:8080/"
    },
    "executionInfo": {
     "elapsed": 1872494,
     "status": "ok",
     "timestamp": 1632980514827,
     "user": {
      "displayName": "Prabath Hetti Mudiyanselage",
      "photoUrl": "https://lh3.googleusercontent.com/a/default-user=s64",
      "userId": "08605282177904379825"
     },
     "user_tz": -600
    },
    "id": "unlike-ballot",
    "outputId": "4647cd96-664c-4421-f587-e0faf73c3db7"
   },
   "outputs": [
    {
     "name": "stdout",
     "output_type": "stream",
     "text": [
      "Epoch 1/5\n",
      "235/235 [==============================] - 197s 793ms/step - loss: 0.8020 - accuracy: 0.6827 - val_loss: 0.4250 - val_accuracy: 0.8436\n",
      "Epoch 2/5\n",
      "235/235 [==============================] - 188s 799ms/step - loss: 0.3293 - accuracy: 0.8775 - val_loss: 0.3567 - val_accuracy: 0.8730\n",
      "Epoch 3/5\n",
      "235/235 [==============================] - 186s 791ms/step - loss: 0.2093 - accuracy: 0.9264 - val_loss: 0.3592 - val_accuracy: 0.8822\n",
      "Epoch 4/5\n",
      "235/235 [==============================] - 185s 787ms/step - loss: 0.1442 - accuracy: 0.9495 - val_loss: 0.3504 - val_accuracy: 0.8892\n",
      "Epoch 5/5\n",
      "235/235 [==============================] - 184s 783ms/step - loss: 0.1050 - accuracy: 0.9630 - val_loss: 0.3584 - val_accuracy: 0.8966\n"
     ]
    }
   ],
   "source": [
    "# Training the model\n",
    "# callbacks are not used : early_stopping_monitor (to speed up), tensorboard_callback (has a bug with BERT)\n",
    "\n",
    "history = model.fit(X_train, y_train_sequences, epochs=epochs, batch_size = batch_size, shuffle = True, callbacks=[], validation_data=(X_test , y_test_sequences ),)"
   ]
  },
  {
   "cell_type": "code",
   "execution_count": 34,
   "id": "f6784583",
   "metadata": {
    "colab": {
     "base_uri": "https://localhost:8080/",
     "height": 441
    },
    "executionInfo": {
     "elapsed": 1020,
     "status": "ok",
     "timestamp": 1632980515835,
     "user": {
      "displayName": "Prabath Hetti Mudiyanselage",
      "photoUrl": "https://lh3.googleusercontent.com/a/default-user=s64",
      "userId": "08605282177904379825"
     },
     "user_tz": -600
    },
    "id": "f6784583",
    "outputId": "d2de76d7-92c9-4714-e796-cd5135731726"
   },
   "outputs": [
    {
     "name": "stdout",
     "output_type": "stream",
     "text": [
      "dict_keys(['loss', 'accuracy', 'val_loss', 'val_accuracy'])\n"
     ]
    },
    {
     "data": {
      "text/plain": [
       "<matplotlib.legend.Legend at 0x26327489a00>"
      ]
     },
     "execution_count": 34,
     "metadata": {},
     "output_type": "execute_result"
    },
    {
     "data": {
      "image/png": "[encoded data removed]",
      "text/plain": [
       "<Figure size 720x432 with 2 Axes>"
      ]
     },
     "metadata": {
      "needs_background": "light"
     },
     "output_type": "display_data"
    }
   ],
   "source": [
    "# Plot the accuracy and loss over time \n",
    "# Reusing sample code from : https://www.tensorflow.org/text/tutorials/classify_text_with_bert\n",
    "import matplotlib.pyplot as plt\n",
    "\n",
    "history_dict = history.history\n",
    "print(history_dict.keys())\n",
    "\n",
    "acc = history_dict['accuracy']\n",
    "val_acc = history_dict['val_accuracy']\n",
    "loss = history_dict['loss']\n",
    "val_loss = history_dict['val_loss']\n",
    "\n",
    "#print(loss)\n",
    "\n",
    "epochs_number = range(1, (epochs) + 1)\n",
    "fig = plt.figure(figsize=(10, 6))\n",
    "fig.tight_layout()\n",
    "\n",
    "plt.subplot(2, 1, 1)\n",
    "# \"bo\" is for \"blue dot\"\n",
    "plt.plot(epochs_number, loss, 'r', label='Training loss')\n",
    "# b is for \"solid blue line\"\n",
    "plt.plot(epochs_number, val_loss, 'b', label='Validation loss')\n",
    "plt.title('Training and validation loss')\n",
    "# plt.xlabel('Epochs')\n",
    "plt.ylabel('Loss')\n",
    "plt.legend()\n",
    "\n",
    "plt.subplot(2, 1, 2)\n",
    "plt.plot(epochs_number, acc, 'r', label='Training acc')\n",
    "plt.plot(epochs_number, val_acc, 'b', label='Validation acc')\n",
    "plt.title('Training and validation accuracy')\n",
    "plt.xlabel('Epochs')\n",
    "plt.ylabel('Accuracy')\n",
    "plt.legend(loc='lower right')\n"
   ]
  },
  {
   "cell_type": "code",
   "execution_count": 35,
   "id": "apart-christian",
   "metadata": {
    "executionInfo": {
     "elapsed": 16,
     "status": "ok",
     "timestamp": 1632980515836,
     "user": {
      "displayName": "Prabath Hetti Mudiyanselage",
      "photoUrl": "https://lh3.googleusercontent.com/a/default-user=s64",
      "userId": "08605282177904379825"
     },
     "user_tz": -600
    },
    "id": "apart-christian"
   },
   "outputs": [],
   "source": [
    "# Show tensorboard\n",
    "\n",
    "# %load_ext tensorboard\n",
    "# %tensorboard --logdir logs/fit\n",
    "#%reload_ext tensorboard # just in case tensorboard didn't refresh"
   ]
  },
  {
   "cell_type": "code",
   "execution_count": 36,
   "id": "5gMTwri775Ex",
   "metadata": {
    "colab": {
     "base_uri": "https://localhost:8080/"
    },
    "executionInfo": {
     "elapsed": 16,
     "status": "ok",
     "timestamp": 1632980515837,
     "user": {
      "displayName": "Prabath Hetti Mudiyanselage",
      "photoUrl": "https://lh3.googleusercontent.com/a/default-user=s64",
      "userId": "08605282177904379825"
     },
     "user_tz": -600
    },
    "id": "5gMTwri775Ex",
    "outputId": "b3ebdc50-65e0-4585-bad9-ff01a6edad20"
   },
   "outputs": [
    {
     "data": {
      "text/plain": [
       "{'input_ids': <tf.Tensor: shape=(4000, 100), dtype=int32, numpy=\n",
       " array([[    0,   118,    56, ...,     1,     1,     1],\n",
       "        [    0, 14595,    52, ...,     1,     1,     1],\n",
       "        [    0,   463,    77, ...,     1,     1,     1],\n",
       "        ...,\n",
       "        [    0,  6025,  2528, ...,     1,     1,     1],\n",
       "        [    0,   102, 18969, ...,     1,     1,     1],\n",
       "        [    0,  7325,   220, ...,     1,     1,     1]])>}"
      ]
     },
     "execution_count": 36,
     "metadata": {},
     "output_type": "execute_result"
    }
   ],
   "source": [
    "X_val_2"
   ]
  },
  {
   "cell_type": "code",
   "execution_count": 37,
   "id": "axoHnl6t-Nzp",
   "metadata": {
    "colab": {
     "base_uri": "https://localhost:8080/"
    },
    "executionInfo": {
     "elapsed": 11,
     "status": "ok",
     "timestamp": 1632980515837,
     "user": {
      "displayName": "Prabath Hetti Mudiyanselage",
      "photoUrl": "https://lh3.googleusercontent.com/a/default-user=s64",
      "userId": "08605282177904379825"
     },
     "user_tz": -600
    },
    "id": "axoHnl6t-Nzp",
    "outputId": "dd39e825-3d00-4097-a044-41736341bc39"
   },
   "outputs": [
    {
     "data": {
      "text/plain": [
       "{'input_ids': <tf.Tensor: shape=(5000, 100), dtype=int32, numpy=\n",
       " array([[    0, 44290,    30, ...,     1,     1,     1],\n",
       "        [    0,  5317,   225, ...,     1,     1,     1],\n",
       "        [    0,   627, 31150, ...,     1,     1,     1],\n",
       "        ...,\n",
       "        [    0, 10339, 16963, ...,     1,     1,     1],\n",
       "        [    0,  8494, 16637, ...,     1,     1,     1],\n",
       "        [    0, 42065,   278, ...,     1,     1,     1]])>}"
      ]
     },
     "execution_count": 37,
     "metadata": {},
     "output_type": "execute_result"
    }
   ],
   "source": [
    "X_test"
   ]
  },
  {
   "cell_type": "code",
   "execution_count": 38,
   "id": "jxu631dY7zqL",
   "metadata": {
    "executionInfo": {
     "elapsed": 9,
     "status": "ok",
     "timestamp": 1632980515838,
     "user": {
      "displayName": "Prabath Hetti Mudiyanselage",
      "photoUrl": "https://lh3.googleusercontent.com/a/default-user=s64",
      "userId": "08605282177904379825"
     },
     "user_tz": -600
    },
    "id": "jxu631dY7zqL"
   },
   "outputs": [],
   "source": [
    "#model.predict([X_test])"
   ]
  },
  {
   "cell_type": "code",
   "execution_count": 39,
   "id": "c0aeef60",
   "metadata": {
    "executionInfo": {
     "elapsed": 8,
     "status": "ok",
     "timestamp": 1632980515838,
     "user": {
      "displayName": "Prabath Hetti Mudiyanselage",
      "photoUrl": "https://lh3.googleusercontent.com/a/default-user=s64",
      "userId": "08605282177904379825"
     },
     "user_tz": -600
    },
    "id": "c0aeef60"
   },
   "outputs": [],
   "source": [
    "# Function to generate accuracy report\n",
    "\n",
    "from sklearn.metrics import confusion_matrix\n",
    "import matplotlib.pyplot as plt\n",
    "from sklearn.metrics import ConfusionMatrixDisplay\n",
    "from sklearn.metrics import accuracy_score, f1_score\n",
    "\n",
    "def accuracy_report(X_val_seq,y_val_seq):\n",
    "    # Calculate preditions for the validation dataset\n",
    "\n",
    "    y_pred = []  # store predicted labels\n",
    "    y_true = []  # store true labels\n",
    "\n",
    "    y_pred = model.predict([X_val_seq])\n",
    "    y_pred = np.argmax(y_pred, axis=1)\n",
    "    #len(y_pred)\n",
    "\n",
    "    y_true= y_val_seq\n",
    "    #len(y_true)\n",
    "\n",
    "    # Convert the true and predicted labels into arrays\n",
    "    true_categories = label_tokenizer.inverse_transform(y_true)\n",
    "    predicted_categories = label_tokenizer.inverse_transform(y_pred)\n",
    "    # print(predicted_categories)\n",
    "\n",
    "    # Generate confusion matrix\n",
    "\n",
    "    cnf_matrix = confusion_matrix(true_categories,predicted_categories,  normalize='pred')\n",
    "\n",
    "    # Plot confusion matrix\n",
    "    disp = ConfusionMatrixDisplay(confusion_matrix=cnf_matrix,display_labels=label_index)\n",
    "    disp = disp.plot(cmap='Greens', xticks_rotation=45)\n",
    "    plt.show()\n",
    "\n",
    "    print(\"Accuracy for validation split: \" ,accuracy_score(y_true, y_pred))\n",
    "    print( \"F1_score: \" + str(f1_score(y_true, y_pred, average='micro')))"
   ]
  },
  {
   "cell_type": "code",
   "execution_count": 40,
   "id": "environmental-transcription",
   "metadata": {
    "colab": {
     "base_uri": "https://localhost:8080/",
     "height": 395
    },
    "executionInfo": {
     "elapsed": 62071,
     "status": "ok",
     "timestamp": 1632980577901,
     "user": {
      "displayName": "Prabath Hetti Mudiyanselage",
      "photoUrl": "https://lh3.googleusercontent.com/a/default-user=s64",
      "userId": "08605282177904379825"
     },
     "user_tz": -600
    },
    "id": "environmental-transcription",
    "outputId": "c20b3512-e99e-4536-dba1-ef2d51641e38"
   },
   "outputs": [
    {
     "data": {
      "image/png": "[encoded data removed]",
      "text/plain": [
       "<Figure size 432x288 with 2 Axes>"
      ]
     },
     "metadata": {
      "needs_background": "light"
     },
     "output_type": "display_data"
    },
    {
     "name": "stdout",
     "output_type": "stream",
     "text": [
      "Accuracy for validation split:  0.8948\n",
      "F1_score: 0.8948\n"
     ]
    }
   ],
   "source": [
    "# accuracy_report for same books\n",
    "\n",
    "accuracy_report(X_val,y_val_sequences)"
   ]
  },
  {
   "cell_type": "code",
   "execution_count": 41,
   "id": "fundamental-raising",
   "metadata": {
    "colab": {
     "base_uri": "https://localhost:8080/",
     "height": 395
    },
    "executionInfo": {
     "elapsed": 46091,
     "status": "ok",
     "timestamp": 1632980623988,
     "user": {
      "displayName": "Prabath Hetti Mudiyanselage",
      "photoUrl": "https://lh3.googleusercontent.com/a/default-user=s64",
      "userId": "08605282177904379825"
     },
     "user_tz": -600
    },
    "id": "fundamental-raising",
    "outputId": "3244d914-230f-4982-da20-ac649d6670d2"
   },
   "outputs": [
    {
     "data": {
      "image/png": "[encoded data removed]",
      "text/plain": [
       "<Figure size 432x288 with 2 Axes>"
      ]
     },
     "metadata": {
      "needs_background": "light"
     },
     "output_type": "display_data"
    },
    {
     "name": "stdout",
     "output_type": "stream",
     "text": [
      "Accuracy for validation split:  0.674\n",
      "F1_score: 0.674\n"
     ]
    }
   ],
   "source": [
    "# accuracy_report for seperate books\n",
    "\n",
    "accuracy_report(X_val_2,y_val_sequences_2)"
   ]
  },
  {
   "cell_type": "code",
   "execution_count": 42,
   "id": "CPLiRurgZed_",
   "metadata": {
    "colab": {
     "base_uri": "https://localhost:8080/"
    },
    "executionInfo": {
     "elapsed": 18,
     "status": "ok",
     "timestamp": 1632980623989,
     "user": {
      "displayName": "Prabath Hetti Mudiyanselage",
      "photoUrl": "https://lh3.googleusercontent.com/a/default-user=s64",
      "userId": "08605282177904379825"
     },
     "user_tz": -600
    },
    "id": "CPLiRurgZed_",
    "outputId": "f3668867-dee7-4ea8-b120-ebda7398f048"
   },
   "outputs": [
    {
     "name": "stdout",
     "output_type": "stream",
     "text": [
      "Model: \"nlp_roberta_18\"\n",
      "_________________________________________________________________\n",
      " Layer (type)                Output Shape              Param #   \n",
      "=================================================================\n",
      " input_ids (InputLayer)      [(None, 100)]             0         \n",
      "                                                                 \n",
      " roberta (TFRobertaMainLayer  TFBaseModelOutputWithPoo  124645632\n",
      " )                           ling(last_hidden_state=(            \n",
      "                             None, 100, 768),                    \n",
      "                              pooler_output=(None, 76            \n",
      "                             8),                                 \n",
      "                              hidden_states=None, att            \n",
      "                             entions=None)                       \n",
      "                                                                 \n",
      " pooled_output (Dropout)     (None, 768)               0         \n",
      "                                                                 \n",
      " dense (Dense)               (None, 5)                 3845      \n",
      "                                                                 \n",
      "=================================================================\n",
      "Total params: 124,649,477\n",
      "Trainable params: 124,649,477\n",
      "Non-trainable params: 0\n",
      "_________________________________________________________________\n"
     ]
    }
   ],
   "source": [
    "model.summary()"
   ]
  },
  {
   "cell_type": "code",
   "execution_count": 43,
   "id": "electoral-arrangement",
   "metadata": {
    "executionInfo": {
     "elapsed": 14,
     "status": "ok",
     "timestamp": 1632980623990,
     "user": {
      "displayName": "Prabath Hetti Mudiyanselage",
      "photoUrl": "https://lh3.googleusercontent.com/a/default-user=s64",
      "userId": "08605282177904379825"
     },
     "user_tz": -600
    },
    "id": "electoral-arrangement"
   },
   "outputs": [],
   "source": [
    "# Saving final model for future use\n",
    "\n",
    "#model.save(\"bert_5.h5\", save_format='h5')\n",
    "#tensorflow.keras.models.save_model(model,model._name)"
   ]
  },
  {
   "cell_type": "code",
   "execution_count": 44,
   "id": "mk7Mp05XdxxU",
   "metadata": {
    "executionInfo": {
     "elapsed": 13,
     "status": "ok",
     "timestamp": 1632980623990,
     "user": {
      "displayName": "Prabath Hetti Mudiyanselage",
      "photoUrl": "https://lh3.googleusercontent.com/a/default-user=s64",
      "userId": "08605282177904379825"
     },
     "user_tz": -600
    },
    "id": "mk7Mp05XdxxU"
   },
   "outputs": [],
   "source": [
    "#!tar czf bert_epoch5_adamw_compress.tar.gz bert_epoch5_adamw/"
   ]
  },
  {
   "cell_type": "code",
   "execution_count": 45,
   "id": "VqWmI63N5AIy",
   "metadata": {
    "colab": {
     "base_uri": "https://localhost:8080/"
    },
    "executionInfo": {
     "elapsed": 11,
     "status": "ok",
     "timestamp": 1632980623990,
     "user": {
      "displayName": "Prabath Hetti Mudiyanselage",
      "photoUrl": "https://lh3.googleusercontent.com/a/default-user=s64",
      "userId": "08605282177904379825"
     },
     "user_tz": -600
    },
    "id": "VqWmI63N5AIy",
    "outputId": "651e66f5-02b7-491d-eccc-dce27d0cfd1f"
   },
   "outputs": [
    {
     "name": "stdout",
     "output_type": "stream",
     "text": [
      "Fri Feb 25 09:07:57 2022       \n",
      "+-----------------------------------------------------------------------------+\n",
      "| NVIDIA-SMI 496.13       Driver Version: 496.13       CUDA Version: 11.5     |\n",
      "|-------------------------------+----------------------+----------------------+\n",
      "| GPU  Name            TCC/WDDM | Bus-Id        Disp.A | Volatile Uncorr. ECC |\n",
      "| Fan  Temp  Perf  Pwr:Usage/Cap|         Memory-Usage | GPU-Util  Compute M. |\n",
      "|                               |                      |               MIG M. |\n",
      "|===============================+======================+======================|\n",
      "|   0  NVIDIA GeForce ... WDDM  | 00000000:0D:00.0  On |                  N/A |\n",
      "| 80%   67C    P2   134W / 170W |  12059MiB / 12288MiB |     26%      Default |\n",
      "|                               |                      |                  N/A |\n",
      "+-------------------------------+----------------------+----------------------+\n",
      "                                                                               \n",
      "+-----------------------------------------------------------------------------+\n",
      "| Processes:                                                                  |\n",
      "|  GPU   GI   CI        PID   Type   Process name                  GPU Memory |\n",
      "|        ID   ID                                                   Usage      |\n",
      "|=============================================================================|\n",
      "|    0   N/A  N/A      1604    C+G   Insufficient Permissions        N/A      |\n",
      "|    0   N/A  N/A      2476      C   ...onda3\\envs\\tf2\\python.exe    N/A      |\n",
      "|    0   N/A  N/A      5204    C+G   C:\\Windows\\explorer.exe         N/A      |\n",
      "|    0   N/A  N/A      5748      C   ...onda3\\envs\\tf2\\python.exe    N/A      |\n",
      "|    0   N/A  N/A      6308    C+G   ...2txyewy\\TextInputHost.exe    N/A      |\n",
      "|    0   N/A  N/A      7460    C+G   ...y\\ShellExperienceHost.exe    N/A      |\n",
      "|    0   N/A  N/A      7488    C+G   ...5n1h2txyewy\\SearchApp.exe    N/A      |\n",
      "|    0   N/A  N/A      7616    C+G   Insufficient Permissions        N/A      |\n",
      "|    0   N/A  N/A      9452    C+G   ...zilla Firefox\\firefox.exe    N/A      |\n",
      "|    0   N/A  N/A     13036    C+G   ... Download Manager\\fdm.exe    N/A      |\n",
      "|    0   N/A  N/A     13108    C+G   ...zilla Firefox\\firefox.exe    N/A      |\n",
      "|    0   N/A  N/A     14216    C+G   ...5.0.3.0\\GoogleDriveFS.exe    N/A      |\n",
      "|    0   N/A  N/A     15260    C+G   ...enTabletDriver.UX.Wpf.exe    N/A      |\n",
      "|    0   N/A  N/A     15884    C+G   ...in7x64\\steamwebhelper.exe    N/A      |\n",
      "+-----------------------------------------------------------------------------+\n"
     ]
    }
   ],
   "source": [
    "!nvidia-smi"
   ]
  },
  {
   "cell_type": "code",
   "execution_count": 46,
   "id": "nZzulGEJnDSz",
   "metadata": {
    "colab": {
     "base_uri": "https://localhost:8080/"
    },
    "executionInfo": {
     "elapsed": 33282,
     "status": "ok",
     "timestamp": 1632980657265,
     "user": {
      "displayName": "Prabath Hetti Mudiyanselage",
      "photoUrl": "https://lh3.googleusercontent.com/a/default-user=s64",
      "userId": "08605282177904379825"
     },
     "user_tz": -600
    },
    "id": "nZzulGEJnDSz",
    "outputId": "df2d4ce3-2e5c-42cd-adfe-4b25d65dacd0"
   },
   "outputs": [
    {
     "name": "stderr",
     "output_type": "stream",
     "text": [
      "WARNING:absl:Found untraced functions such as encoder_layer_call_fn, encoder_layer_call_and_return_conditional_losses, pooler_layer_call_fn, pooler_layer_call_and_return_conditional_losses, embeddings_layer_call_fn while saving (showing 5 of 422). These functions will not be directly callable after loading.\n"
     ]
    },
    {
     "name": "stdout",
     "output_type": "stream",
     "text": [
      "INFO:tensorflow:Assets written to: nlp_roberta_18\\assets\n"
     ]
    },
    {
     "name": "stderr",
     "output_type": "stream",
     "text": [
      "INFO:tensorflow:Assets written to: nlp_roberta_18\\assets\n"
     ]
    }
   ],
   "source": [
    "model.save(model._name, include_optimizer=False)\n"
   ]
  },
  {
   "cell_type": "code",
   "execution_count": 47,
   "id": "JOr9fAJytC2a",
   "metadata": {
    "executionInfo": {
     "elapsed": 12,
     "status": "ok",
     "timestamp": 1632980657265,
     "user": {
      "displayName": "Prabath Hetti Mudiyanselage",
      "photoUrl": "https://lh3.googleusercontent.com/a/default-user=s64",
      "userId": "08605282177904379825"
     },
     "user_tz": -600
    },
    "id": "JOr9fAJytC2a"
   },
   "outputs": [],
   "source": [
    "#!tar czf bert_no_optimizer.tar.gz bert_no_optimizer/"
   ]
  },
  {
   "cell_type": "code",
   "execution_count": 48,
   "id": "X-QjGeq3qDFd",
   "metadata": {
    "executionInfo": {
     "elapsed": 10,
     "status": "ok",
     "timestamp": 1632980657265,
     "user": {
      "displayName": "Prabath Hetti Mudiyanselage",
      "photoUrl": "https://lh3.googleusercontent.com/a/default-user=s64",
      "userId": "08605282177904379825"
     },
     "user_tz": -600
    },
    "id": "X-QjGeq3qDFd"
   },
   "outputs": [],
   "source": [
    "# Reloading model\n",
    "\n",
    "#reloaded_model = tensorflow.saved_model.load(\"bert_no_optimizer\")"
   ]
  },
  {
   "cell_type": "code",
   "execution_count": 49,
   "id": "qYa60UyQ1QA1",
   "metadata": {
    "executionInfo": {
     "elapsed": 11,
     "status": "ok",
     "timestamp": 1632980657266,
     "user": {
      "displayName": "Prabath Hetti Mudiyanselage",
      "photoUrl": "https://lh3.googleusercontent.com/a/default-user=s64",
      "userId": "08605282177904379825"
     },
     "user_tz": -600
    },
    "id": "qYa60UyQ1QA1"
   },
   "outputs": [],
   "source": [
    "# Comparing results of model in memory and reloaded model\n",
    "\n",
    "#text_string = X_val.iloc[0]"
   ]
  },
  {
   "cell_type": "code",
   "execution_count": 50,
   "id": "ET2pOYH82gR7",
   "metadata": {
    "executionInfo": {
     "elapsed": 11,
     "status": "ok",
     "timestamp": 1632980657266,
     "user": {
      "displayName": "Prabath Hetti Mudiyanselage",
      "photoUrl": "https://lh3.googleusercontent.com/a/default-user=s64",
      "userId": "08605282177904379825"
     },
     "user_tz": -600
    },
    "id": "ET2pOYH82gR7"
   },
   "outputs": [],
   "source": [
    "# Correct result\n",
    "\n",
    "#y_val.iloc[0]"
   ]
  },
  {
   "cell_type": "code",
   "execution_count": 51,
   "id": "C_aCtz1YwjOW",
   "metadata": {
    "executionInfo": {
     "elapsed": 10,
     "status": "ok",
     "timestamp": 1632980657266,
     "user": {
      "displayName": "Prabath Hetti Mudiyanselage",
      "photoUrl": "https://lh3.googleusercontent.com/a/default-user=s64",
      "userId": "08605282177904379825"
     },
     "user_tz": -600
    },
    "id": "C_aCtz1YwjOW"
   },
   "outputs": [],
   "source": [
    "#model_result = model(tensorflow.constant([text_string]))"
   ]
  },
  {
   "cell_type": "code",
   "execution_count": 52,
   "id": "WS-j-7At1NfE",
   "metadata": {
    "executionInfo": {
     "elapsed": 11,
     "status": "ok",
     "timestamp": 1632980657267,
     "user": {
      "displayName": "Prabath Hetti Mudiyanselage",
      "photoUrl": "https://lh3.googleusercontent.com/a/default-user=s64",
      "userId": "08605282177904379825"
     },
     "user_tz": -600
    },
    "id": "WS-j-7At1NfE"
   },
   "outputs": [],
   "source": [
    "#reloaded_model_result = reloaded_model(tensorflow.constant([text_string]))"
   ]
  },
  {
   "cell_type": "code",
   "execution_count": 53,
   "id": "0FRxvPjP1ttd",
   "metadata": {
    "executionInfo": {
     "elapsed": 10,
     "status": "ok",
     "timestamp": 1632980657267,
     "user": {
      "displayName": "Prabath Hetti Mudiyanselage",
      "photoUrl": "https://lh3.googleusercontent.com/a/default-user=s64",
      "userId": "08605282177904379825"
     },
     "user_tz": -600
    },
    "id": "0FRxvPjP1ttd"
   },
   "outputs": [],
   "source": [
    "# Result from model in memory\n",
    "\n",
    "#label_index[np.argmax(model_result, axis=1)]"
   ]
  },
  {
   "cell_type": "code",
   "execution_count": 54,
   "id": "wpirJtoY1uA8",
   "metadata": {
    "executionInfo": {
     "elapsed": 10,
     "status": "ok",
     "timestamp": 1632980657267,
     "user": {
      "displayName": "Prabath Hetti Mudiyanselage",
      "photoUrl": "https://lh3.googleusercontent.com/a/default-user=s64",
      "userId": "08605282177904379825"
     },
     "user_tz": -600
    },
    "id": "wpirJtoY1uA8"
   },
   "outputs": [],
   "source": [
    "# Result from reloaded model\n",
    "\n",
    "#label_index[np.argmax(reloaded_model_result, axis=1)]"
   ]
  },
  {
   "cell_type": "code",
   "execution_count": null,
   "id": "54On8BXI-Fwx",
   "metadata": {
    "executionInfo": {
     "elapsed": 10,
     "status": "ok",
     "timestamp": 1632980657267,
     "user": {
      "displayName": "Prabath Hetti Mudiyanselage",
      "photoUrl": "https://lh3.googleusercontent.com/a/default-user=s64",
      "userId": "08605282177904379825"
     },
     "user_tz": -600
    },
    "id": "54On8BXI-Fwx"
   },
   "outputs": [],
   "source": []
  }
 ],
 "metadata": {
  "accelerator": "GPU",
  "colab": {
   "collapsed_sections": [],
   "name": "keras_hf_RoBERTa.ipynb",
   "provenance": []
  },
  "kernelspec": {
   "display_name": "Python 3.9 (Tensorflow 2.6)",
   "language": "python",
   "name": "tf2"
  },
  "language_info": {
   "codemirror_mode": {
    "name": "ipython",
    "version": 3
   },
   "file_extension": ".py",
   "mimetype": "text/x-python",
   "name": "python",
   "nbconvert_exporter": "python",
   "pygments_lexer": "ipython3",
   "version": "3.9.7"
  }
 },
 "nbformat": 4,
 "nbformat_minor": 5
}
