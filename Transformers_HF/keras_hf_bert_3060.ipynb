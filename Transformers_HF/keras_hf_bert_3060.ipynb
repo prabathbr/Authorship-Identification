{
 "cells": [
  {
   "cell_type": "code",
   "execution_count": 1,
   "id": "virtual-optimum",
   "metadata": {
    "id": "virtual-optimum"
   },
   "outputs": [],
   "source": [
    "# GPU Reset if needed\n",
    "\n",
    "from numba import cuda \n",
    "device = cuda.get_current_device()\n",
    "device.reset()"
   ]
  },
  {
   "cell_type": "code",
   "execution_count": 2,
   "id": "4c19ba3c",
   "metadata": {
    "id": "4c19ba3c"
   },
   "outputs": [],
   "source": [
    "# Disable CUDA for TF 2.x\n",
    "\n",
    "# import os\n",
    "# os.environ[\"CUDA_VISIBLE_DEVICES\"]=\"-1\" "
   ]
  },
  {
   "cell_type": "code",
   "execution_count": 3,
   "id": "iA9Ipq-4zuPT",
   "metadata": {
    "colab": {
     "base_uri": "https://localhost:8080/"
    },
    "id": "iA9Ipq-4zuPT",
    "outputId": "286497ca-bd3c-4ff8-eddf-9e0ca721222a"
   },
   "outputs": [],
   "source": [
    "# Mount Google Drive if running on Google Colab\n",
    "\n",
    "# from google.colab import drive\n",
    "import os\n",
    "\n",
    "# drive.mount('/content/drive')\n",
    "# os.chdir('/content/drive/My Drive/Colab Notebooks/hf/')\n",
    "# print(os.getcwd())"
   ]
  },
  {
   "cell_type": "code",
   "execution_count": 4,
   "id": "MI6QgDjY2g7o",
   "metadata": {
    "id": "MI6QgDjY2g7o"
   },
   "outputs": [],
   "source": [
    "# List current directory\n",
    "\n",
    "#!dir"
   ]
  },
  {
   "cell_type": "code",
   "execution_count": 5,
   "id": "wWbrBVZ7CoPF",
   "metadata": {
    "id": "wWbrBVZ7CoPF"
   },
   "outputs": [],
   "source": [
    "# Remove current logs\n",
    "\n",
    "#!rm -rf logs"
   ]
  },
  {
   "cell_type": "code",
   "execution_count": 6,
   "id": "distinct-breath",
   "metadata": {
    "colab": {
     "base_uri": "https://localhost:8080/"
    },
    "id": "distinct-breath",
    "outputId": "5dd60fcd-7208-4ae3-e1ef-044a96a5b556"
   },
   "outputs": [
    {
     "name": "stdout",
     "output_type": "stream",
     "text": [
      "Tensorflow precision mode : float32\n",
      "TensorFlow version : 2.9.0-dev20220102\n",
      "Numpy version : 1.22.0\n",
      "Pandas version : 1.3.4\n"
     ]
    }
   ],
   "source": [
    "# Import Tensorflow and related libraries\n",
    "\n",
    "import tensorflow\n",
    "\n",
    "print(\"Tensorflow precision mode : \" + tensorflow.keras.backend.floatx())\n",
    "\n",
    "# # Set Tensorflow precision mode to 'float16' to speedup with newer GPU\n",
    "# tensorflow.keras.backend.set_floatx('float32')\n",
    "\n",
    "# print(\"Tensorflow precision mode (after change) : \" + tensorflow.keras.backend.floatx())\n",
    "\n",
    "from tensorflow.keras.models import Model\n",
    "from tensorflow.keras.layers import Dense\n",
    "from tensorflow.keras.layers import Flatten\n",
    "from tensorflow.keras.layers import Dropout\n",
    "\n",
    "from tensorflow.keras.layers import Input\n",
    "\n",
    "from tensorflow.keras.utils import plot_model\n",
    "\n",
    "from sklearn.preprocessing import LabelEncoder\n",
    "\n",
    "print(\"TensorFlow version : \" + tensorflow.__version__)\n",
    "\n",
    "import numpy as np\n",
    "print(\"Numpy version : \" + np.version.version)\n",
    "\n",
    "import pandas as pd\n",
    "print(\"Pandas version : \" + pd.__version__)"
   ]
  },
  {
   "cell_type": "code",
   "execution_count": 7,
   "id": "circular-angle",
   "metadata": {
    "colab": {
     "base_uri": "https://localhost:8080/"
    },
    "id": "circular-angle",
    "outputId": "af23c78f-0f37-467c-dc8f-1247796b50c0"
   },
   "outputs": [
    {
     "name": "stdout",
     "output_type": "stream",
     "text": [
      "Name: /physical_device:GPU:0   Type: GPU\n"
     ]
    }
   ],
   "source": [
    "# Display available GPUs\n",
    "\n",
    "physical_devices = tensorflow.config.list_physical_devices(('GPU'))\n",
    "for gpu in physical_devices:\n",
    "    print(\"Name:\", gpu.name, \"  Type:\", gpu.device_type)"
   ]
  },
  {
   "cell_type": "code",
   "execution_count": 8,
   "id": "618b9a2b",
   "metadata": {
    "colab": {
     "base_uri": "https://localhost:8080/"
    },
    "id": "618b9a2b",
    "outputId": "371cb134-c466-4e69-bdeb-b2456e237fec"
   },
   "outputs": [
    {
     "name": "stdout",
     "output_type": "stream",
     "text": [
      "Fri Feb 25 05:48:48 2022       \n",
      "+-----------------------------------------------------------------------------+\n",
      "| NVIDIA-SMI 496.13       Driver Version: 496.13       CUDA Version: 11.5     |\n",
      "|-------------------------------+----------------------+----------------------+\n",
      "| GPU  Name            TCC/WDDM | Bus-Id        Disp.A | Volatile Uncorr. ECC |\n",
      "| Fan  Temp  Perf  Pwr:Usage/Cap|         Memory-Usage | GPU-Util  Compute M. |\n",
      "|                               |                      |               MIG M. |\n",
      "|===============================+======================+======================|\n",
      "|   0  NVIDIA GeForce ... WDDM  | 00000000:0D:00.0  On |                  N/A |\n",
      "| 69%   61C    P2    88W / 170W |   2241MiB / 12288MiB |     62%      Default |\n",
      "|                               |                      |                  N/A |\n",
      "+-------------------------------+----------------------+----------------------+\n",
      "                                                                               \n",
      "+-----------------------------------------------------------------------------+\n",
      "| Processes:                                                                  |\n",
      "|  GPU   GI   CI        PID   Type   Process name                  GPU Memory |\n",
      "|        ID   ID                                                   Usage      |\n",
      "|=============================================================================|\n",
      "|    0   N/A  N/A      1604    C+G   Insufficient Permissions        N/A      |\n",
      "|    0   N/A  N/A      5204    C+G   C:\\Windows\\explorer.exe         N/A      |\n",
      "|    0   N/A  N/A      5748      C   ...onda3\\envs\\tf2\\python.exe    N/A      |\n",
      "|    0   N/A  N/A      6308    C+G   ...2txyewy\\TextInputHost.exe    N/A      |\n",
      "|    0   N/A  N/A      7460    C+G   ...y\\ShellExperienceHost.exe    N/A      |\n",
      "|    0   N/A  N/A      7488    C+G   ...5n1h2txyewy\\SearchApp.exe    N/A      |\n",
      "|    0   N/A  N/A      7616    C+G   Insufficient Permissions        N/A      |\n",
      "|    0   N/A  N/A      9324      C   ...onda3\\envs\\tf2\\python.exe    N/A      |\n",
      "|    0   N/A  N/A      9452    C+G   ...zilla Firefox\\firefox.exe    N/A      |\n",
      "|    0   N/A  N/A     13036    C+G   ... Download Manager\\fdm.exe    N/A      |\n",
      "|    0   N/A  N/A     13108    C+G   ...zilla Firefox\\firefox.exe    N/A      |\n",
      "|    0   N/A  N/A     14216    C+G   ...5.0.3.0\\GoogleDriveFS.exe    N/A      |\n",
      "|    0   N/A  N/A     15260    C+G   ...enTabletDriver.UX.Wpf.exe    N/A      |\n",
      "|    0   N/A  N/A     15884    C+G   ...in7x64\\steamwebhelper.exe    N/A      |\n",
      "+-----------------------------------------------------------------------------+\n"
     ]
    }
   ],
   "source": [
    "# Show GPU status\n",
    "\n",
    "!nvidia-smi"
   ]
  },
  {
   "cell_type": "code",
   "execution_count": 9,
   "id": "0f583e47",
   "metadata": {
    "id": "0f583e47"
   },
   "outputs": [],
   "source": [
    "# Fix for \"CUDA_ERROR_ILLEGAL_ADDRESS\"\n",
    "\n",
    "# Ref : https://github.com/tensorflow/tensorflow/issues/40814#issuecomment-663838196\n",
    "\n",
    "os.environ['TF_CUDNN_DETERMINISTIC']='1'"
   ]
  },
  {
   "cell_type": "code",
   "execution_count": 10,
   "id": "preceding-travel",
   "metadata": {
    "id": "preceding-travel"
   },
   "outputs": [],
   "source": [
    "# Enable Memory Growth\n",
    "\n",
    "try:\n",
    "    if physical_devices != []:\n",
    "        tensorflow.config.experimental.set_memory_growth(physical_devices[0], True)\n",
    "        physical_devices[0]\n",
    "except:\n",
    "    print(\"error\")      "
   ]
  },
  {
   "cell_type": "code",
   "execution_count": 11,
   "id": "primary-bryan",
   "metadata": {
    "id": "primary-bryan"
   },
   "outputs": [],
   "source": [
    "# Global Parameters\n",
    "\n",
    "author_list = ['Charles Dickens','Jane Austen','Sir Arthur Conan Doyle','George Eliot','Jules Verne']\n",
    "seed_number = 18\n",
    "dataset_file  = \"dataset.csv\"\n",
    "validation_dataset_file  = \"validation_dataset.csv\"\n",
    "\n",
    "# For 3 GB VRAM : \n",
    "# batch_size = 2 when seq_length = 128, otherwise \"out of memory\"\n",
    "# Typical single epoch runtime = 20 mins\n",
    "\n",
    "batch_size = 64 # number of batch size\n",
    "epochs = 5 # number of maximum epochs to run\n",
    "seq_length = 100#300 # BERT Model sequence length\n",
    "dropout_value = 0.1 # Dropout layer value for Model\n",
    "init_lr = 3e-5 # Initial learning rate"
   ]
  },
  {
   "cell_type": "code",
   "execution_count": 12,
   "id": "e41a7202",
   "metadata": {
    "id": "e41a7202"
   },
   "outputs": [],
   "source": [
    "# Reading validation data (from seperate books)\n",
    "\n",
    "validation_data = pd.read_csv(validation_dataset_file, usecols = ['author','text'])\n",
    "X_val_2 = validation_data.text\n",
    "y_val_2 = validation_data.author"
   ]
  },
  {
   "cell_type": "code",
   "execution_count": 13,
   "id": "attractive-oriental",
   "metadata": {
    "id": "attractive-oriental"
   },
   "outputs": [],
   "source": [
    "# Reading training/test/validation data\n",
    "\n",
    "data = pd.read_csv(dataset_file, usecols = ['author','text'])"
   ]
  },
  {
   "cell_type": "code",
   "execution_count": 14,
   "id": "dried-aerospace",
   "metadata": {
    "id": "dried-aerospace"
   },
   "outputs": [],
   "source": [
    "#data.sample(5)"
   ]
  },
  {
   "cell_type": "code",
   "execution_count": 15,
   "id": "signal-football",
   "metadata": {
    "id": "signal-football"
   },
   "outputs": [],
   "source": [
    "from sklearn.model_selection import train_test_split\n",
    "\n",
    "# Train, Test, Validation Spit ratios 60%, 20%, 20% \n",
    "\n",
    "X_train, X_val, y_train, y_val = train_test_split(data[\"text\"], data[\"author\"], test_size=0.2, random_state=2000)\n",
    "X_train, X_test, y_train, y_test = train_test_split(X_train, y_train, test_size=0.25, random_state=seed_number) # 0.25 x 0.8 = 0.2"
   ]
  },
  {
   "cell_type": "code",
   "execution_count": 16,
   "id": "a34aaa20",
   "metadata": {
    "colab": {
     "base_uri": "https://localhost:8080/"
    },
    "id": "a34aaa20",
    "outputId": "7b38e9af-a978-4694-a298-e1de5d09b2c0"
   },
   "outputs": [
    {
     "name": "stdout",
     "output_type": "stream",
     "text": [
      "Number of training data: 15000\n",
      "Number of test data: 5000\n",
      "Number of validation data (from same books): 5000\n",
      "Number of validation data (from seperate books): 4000\n",
      "Number of max characters in training dataset: 370\n"
     ]
    }
   ],
   "source": [
    "print(\"Number of training data:\",len(X_train))\n",
    "print(\"Number of test data:\",len(X_test))\n",
    "print(\"Number of validation data (from same books):\",len(X_val))\n",
    "print(\"Number of validation data (from seperate books):\",len(X_val_2))\n",
    "print(\"Number of max characters in training dataset:\",max(X_train.apply(len)))"
   ]
  },
  {
   "cell_type": "code",
   "execution_count": 17,
   "id": "strong-ukraine",
   "metadata": {
    "id": "strong-ukraine"
   },
   "outputs": [],
   "source": [
    "# Encoding label text to integeres\n",
    "\n",
    "label_tokenizer = LabelEncoder()\n",
    "label_tokenizer.fit(author_list)\n",
    "label_index = label_tokenizer.classes_\n",
    "\n",
    "y_train_sequences = np.array(label_tokenizer.transform(y_train))\n",
    "y_test_sequences = np.array(label_tokenizer.transform(y_test))\n",
    "y_val_sequences = np.array(label_tokenizer.transform(y_val))\n",
    "y_val_sequences_2 = np.array(label_tokenizer.transform(y_val_2))"
   ]
  },
  {
   "cell_type": "code",
   "execution_count": 18,
   "id": "informed-precipitation",
   "metadata": {
    "colab": {
     "base_uri": "https://localhost:8080/"
    },
    "id": "informed-precipitation",
    "outputId": "8a825e45-bd73-47d9-94b2-7538be5ce964"
   },
   "outputs": [
    {
     "data": {
      "text/plain": [
       "array(['Charles Dickens', 'George Eliot', 'Jane Austen', 'Jules Verne',\n",
       "       'Sir Arthur Conan Doyle'], dtype='<U22')"
      ]
     },
     "execution_count": 18,
     "metadata": {},
     "output_type": "execute_result"
    }
   ],
   "source": [
    "label_index"
   ]
  },
  {
   "cell_type": "markdown",
   "id": "numeric-produce",
   "metadata": {
    "id": "numeric-produce"
   },
   "source": [
    "### BERT Model"
   ]
  },
  {
   "cell_type": "code",
   "execution_count": 19,
   "id": "5029e0df",
   "metadata": {
    "id": "5029e0df"
   },
   "outputs": [],
   "source": [
    "# Load Huggingface transformers\n",
    "from transformers import TFBertModel,  BertConfig, BertTokenizerFast"
   ]
  },
  {
   "cell_type": "code",
   "execution_count": 20,
   "id": "fb14f7a9",
   "metadata": {
    "colab": {
     "base_uri": "https://localhost:8080/"
    },
    "id": "fb14f7a9",
    "outputId": "9e8f9b06-2e01-40e1-da53-dea0c2d8a0b1"
   },
   "outputs": [
    {
     "name": "stderr",
     "output_type": "stream",
     "text": [
      "Some layers from the model checkpoint at bert-base-uncased were not used when initializing TFBertModel: ['mlm___cls', 'nsp___cls']\n",
      "- This IS expected if you are initializing TFBertModel from the checkpoint of a model trained on another task or with another architecture (e.g. initializing a BertForSequenceClassification model from a BertForPreTraining model).\n",
      "- This IS NOT expected if you are initializing TFBertModel from the checkpoint of a model that you expect to be exactly identical (initializing a BertForSequenceClassification model from a BertForSequenceClassification model).\n",
      "All the layers of TFBertModel were initialized from the model checkpoint at bert-base-uncased.\n",
      "If your task is similar to the task the model of the checkpoint was trained on, you can already use TFBertModel for predictions without further training.\n"
     ]
    }
   ],
   "source": [
    "#######################################\n",
    "### --------- Setup BERT ---------- ###\n",
    "\n",
    "# Name of the BERT model to use\n",
    "model_name = 'bert-base-uncased'\n",
    "\n",
    "# Max length of tokens\n",
    "max_length = seq_length #100\n",
    "\n",
    "# Load transformers config and set output_hidden_states to False\n",
    "config = BertConfig.from_pretrained(model_name)\n",
    "config.output_hidden_states = False\n",
    "\n",
    "# Load BERT tokenizer\n",
    "tokenizer = BertTokenizerFast.from_pretrained(pretrained_model_name_or_path = model_name, config = config)\n",
    "\n",
    "# Load the Transformers BERT model\n",
    "transformer_model = TFBertModel.from_pretrained(model_name, config = config)"
   ]
  },
  {
   "cell_type": "code",
   "execution_count": 21,
   "id": "d2676225",
   "metadata": {
    "id": "d2676225"
   },
   "outputs": [],
   "source": [
    "#######################################\n",
    "### ------- Build the model ------- ###\n",
    "\n",
    "# TF Keras documentation: https://www.tensorflow.org/api_docs/python/tf/keras/Model\n",
    "\n",
    "# Load the MainLayer\n",
    "bert = transformer_model.layers[0]\n",
    "\n",
    "# Build your model input\n",
    "input_ids = Input(shape=(max_length,), name='input_ids', dtype='int32')\n",
    "\n",
    "inputs = {'input_ids': input_ids}\n",
    "\n",
    "# Load the Transformers BERT model as a layer in a Keras model\n",
    "bert_model = bert(inputs)[1]\n",
    "dropout = Dropout(config.hidden_dropout_prob, name='pooled_output')\n",
    "pooled_output = dropout(bert_model, training=False)"
   ]
  },
  {
   "cell_type": "code",
   "execution_count": 22,
   "id": "93802723",
   "metadata": {
    "id": "93802723"
   },
   "outputs": [],
   "source": [
    "def X_tokenizer(X_original):\n",
    "    X_original = tokenizer(\n",
    "    text=X_original.to_list(),\n",
    "    add_special_tokens=True,\n",
    "    max_length=max_length,\n",
    "    truncation=True,\n",
    "    padding='max_length', \n",
    "   # pad_to_max_length=\"right\",\n",
    "    return_tensors='tf',\n",
    "    return_token_type_ids = False,\n",
    "    return_attention_mask = False,\n",
    "    verbose = True)\n",
    "\n",
    "    X_original={'input_ids': X_original['input_ids']}\n",
    "    return X_original\n",
    "    "
   ]
  },
  {
   "cell_type": "code",
   "execution_count": 23,
   "id": "9be0308f",
   "metadata": {
    "id": "9be0308f"
   },
   "outputs": [],
   "source": [
    "X_train = X_tokenizer(X_train)\n",
    "X_test = X_tokenizer(X_test)\n",
    "X_val = X_tokenizer(X_val)\n",
    "X_val_2 = X_tokenizer(X_val_2)"
   ]
  },
  {
   "cell_type": "code",
   "execution_count": 24,
   "id": "acting-midwest",
   "metadata": {
    "colab": {
     "base_uri": "https://localhost:8080/"
    },
    "id": "acting-midwest",
    "outputId": "5cab4f73-aa3c-4d45-82e4-0aec9c2cffcf"
   },
   "outputs": [
    {
     "name": "stdout",
     "output_type": "stream",
     "text": [
      "Model: \"nlp_bert_18\"\n",
      "_________________________________________________________________\n",
      " Layer (type)                Output Shape              Param #   \n",
      "=================================================================\n",
      " input_ids (InputLayer)      [(None, 100)]             0         \n",
      "                                                                 \n",
      " bert (TFBertMainLayer)      TFBaseModelOutputWithPoo  109482240 \n",
      "                             ling(last_hidden_state=(            \n",
      "                             None, 100, 768),                    \n",
      "                              pooler_output=(None, 76            \n",
      "                             8),                                 \n",
      "                              hidden_states=None, att            \n",
      "                             entions=None)                       \n",
      "                                                                 \n",
      " pooled_output (Dropout)     (None, 768)               0         \n",
      "                                                                 \n",
      " dense (Dense)               (None, 5)                 3845      \n",
      "                                                                 \n",
      "=================================================================\n",
      "Total params: 109,486,085\n",
      "Trainable params: 109,486,085\n",
      "Non-trainable params: 0\n",
      "_________________________________________________________________\n"
     ]
    }
   ],
   "source": [
    "# define new model\n",
    "\n",
    "model_output = tensorflow.keras.layers.Dense(5, activation='softmax')(pooled_output)\n",
    "\n",
    "model = tensorflow.keras.Model(inputs, model_output)\n",
    "\n",
    "model._name = \"nlp_bert_\" + str(seed_number) \n",
    "model.summary()"
   ]
  },
  {
   "cell_type": "code",
   "execution_count": 25,
   "id": "d206d079",
   "metadata": {
    "colab": {
     "base_uri": "https://localhost:8080/",
     "height": 369
    },
    "id": "d206d079",
    "outputId": "e50ad438-9fe6-4fa0-86ad-c7135b25d913"
   },
   "outputs": [
    {
     "data": {
      "image/png": "[encoded data removed]",
      "text/plain": [
       "<IPython.core.display.Image object>"
      ]
     },
     "execution_count": 25,
     "metadata": {},
     "output_type": "execute_result"
    }
   ],
   "source": [
    "# Save the model as a png file\n",
    "plot_model(model, to_file=model._name +'.png', show_layer_names=True)"
   ]
  },
  {
   "cell_type": "code",
   "execution_count": 26,
   "id": "stuck-dispatch",
   "metadata": {
    "colab": {
     "base_uri": "https://localhost:8080/"
    },
    "id": "stuck-dispatch",
    "outputId": "7a20fa04-99c9-4c34-bbbb-fe273cf007c3"
   },
   "outputs": [
    {
     "name": "stdout",
     "output_type": "stream",
     "text": [
      "0 input_ids True\n",
      "1 bert True\n",
      "2 pooled_output True\n",
      "3 dense True\n"
     ]
    }
   ],
   "source": [
    "# Show the trainable status of the layers\n",
    "\n",
    "for i, layer in enumerate(model.layers):\n",
    "    print(i, layer.name, layer.trainable)"
   ]
  },
  {
   "cell_type": "code",
   "execution_count": 27,
   "id": "13a91642",
   "metadata": {
    "id": "13a91642"
   },
   "outputs": [],
   "source": [
    "# Define Optimizer\n",
    "\n",
    "# steps_per_epoch = int(len(X_train)/batch_size) #tensorflow.data.experimental.cardinality(data_train).numpy()\n",
    "# num_train_steps = steps_per_epoch * epochs\n",
    "# num_warmup_steps = int(0.1*num_train_steps)\n",
    "# print(steps_per_epoch,num_train_steps,num_warmup_steps)\n",
    "\n",
    "# optimizer = optimization.create_optimizer(init_lr=init_lr,\n",
    "#                                           num_train_steps=num_train_steps,\n",
    "#                                           num_warmup_steps=num_warmup_steps,\n",
    "#                                           optimizer_type='adamw')"
   ]
  },
  {
   "cell_type": "code",
   "execution_count": 28,
   "id": "c45b8d76",
   "metadata": {
    "id": "c45b8d76"
   },
   "outputs": [],
   "source": [
    "from tensorflow.keras.optimizers import Adam\n",
    "\n",
    "optimizer = Adam(\n",
    "    learning_rate=5e-05,\n",
    "    epsilon=1e-08,\n",
    "    decay=0.01,\n",
    "    clipnorm=1.0)"
   ]
  },
  {
   "cell_type": "code",
   "execution_count": 29,
   "id": "manufactured-niagara",
   "metadata": {
    "id": "manufactured-niagara"
   },
   "outputs": [],
   "source": [
    "# Compile the model\n",
    "\n",
    "model.compile(\n",
    "    #optimizer=tensorflow.keras.optimizers.Adam(learning_rate=3e-5),\n",
    "    #optimizer=tensorflow.keras.optimizers.RMSprop(learning_rate=0.0001),\n",
    "    optimizer=optimizer,\n",
    "    loss=\"sparse_categorical_crossentropy\",\n",
    "    metrics=[\"accuracy\"],\n",
    ")"
   ]
  },
  {
   "cell_type": "code",
   "execution_count": 30,
   "id": "passing-chambers",
   "metadata": {
    "id": "passing-chambers"
   },
   "outputs": [],
   "source": [
    "# Tensorboard parameters\n",
    "\n",
    "import datetime\n",
    "log_dir = \"logs/fit/\" + datetime.datetime.now().strftime(\"%Y%m%d-%H%M%S\")\n",
    "tensorboard_callback = tensorflow.keras.callbacks.TensorBoard(log_dir=log_dir, histogram_freq=1)"
   ]
  },
  {
   "cell_type": "code",
   "execution_count": 31,
   "id": "diagnostic-hydrogen",
   "metadata": {
    "id": "diagnostic-hydrogen"
   },
   "outputs": [],
   "source": [
    "# Use best weights for the model\n",
    "\n",
    "early_stopping_monitor = tensorflow.keras.callbacks.EarlyStopping(\n",
    "    monitor='val_accuracy',\n",
    "    min_delta=0,\n",
    "    patience=50,\n",
    "    verbose=0,\n",
    "    mode='max',\n",
    "    baseline=None,\n",
    "    restore_best_weights=True\n",
    ")"
   ]
  },
  {
   "cell_type": "code",
   "execution_count": 32,
   "id": "unlike-ballot",
   "metadata": {
    "colab": {
     "base_uri": "https://localhost:8080/"
    },
    "id": "unlike-ballot",
    "outputId": "930bc21b-c0a6-48ad-9925-a55a0e47c39b"
   },
   "outputs": [
    {
     "name": "stdout",
     "output_type": "stream",
     "text": [
      "Epoch 1/5\n",
      "235/235 [==============================] - 382s 2s/step - loss: 0.6268 - accuracy: 0.7521 - val_loss: 0.3328 - val_accuracy: 0.8748\n",
      "Epoch 2/5\n",
      "235/235 [==============================] - 369s 2s/step - loss: 0.2026 - accuracy: 0.9305 - val_loss: 0.2718 - val_accuracy: 0.9056\n",
      "Epoch 3/5\n",
      "235/235 [==============================] - 367s 2s/step - loss: 0.1080 - accuracy: 0.9645 - val_loss: 0.2738 - val_accuracy: 0.9106\n",
      "Epoch 4/5\n",
      "235/235 [==============================] - 362s 2s/step - loss: 0.0593 - accuracy: 0.9820 - val_loss: 0.2961 - val_accuracy: 0.9092\n",
      "Epoch 5/5\n",
      "235/235 [==============================] - 180s 768ms/step - loss: 0.0375 - accuracy: 0.9898 - val_loss: 0.3197 - val_accuracy: 0.9080\n"
     ]
    }
   ],
   "source": [
    "# Training the model\n",
    "# callbacks are not used : early_stopping_monitor (to speed up), tensorboard_callback (has a bug with BERT)\n",
    "\n",
    "history = model.fit(X_train, y_train_sequences, epochs=epochs, batch_size = batch_size, shuffle = True, callbacks=[], validation_data=(X_test , y_test_sequences ),)"
   ]
  },
  {
   "cell_type": "code",
   "execution_count": 33,
   "id": "f6784583",
   "metadata": {
    "colab": {
     "base_uri": "https://localhost:8080/",
     "height": 441
    },
    "id": "f6784583",
    "outputId": "4f1052d7-c83b-4c0c-9f6f-7daf85f9db32"
   },
   "outputs": [
    {
     "name": "stdout",
     "output_type": "stream",
     "text": [
      "dict_keys(['loss', 'accuracy', 'val_loss', 'val_accuracy'])\n"
     ]
    },
    {
     "data": {
      "text/plain": [
       "<matplotlib.legend.Legend at 0x23f2611f8e0>"
      ]
     },
     "execution_count": 33,
     "metadata": {},
     "output_type": "execute_result"
    },
    {
     "data": {
      "image/png": "[encoded data removed]",
      "text/plain": [
       "<Figure size 720x432 with 2 Axes>"
      ]
     },
     "metadata": {
      "needs_background": "light"
     },
     "output_type": "display_data"
    }
   ],
   "source": [
    "# Plot the accuracy and loss over time \n",
    "# Reusing sample code from : https://www.tensorflow.org/text/tutorials/classify_text_with_bert\n",
    "import matplotlib.pyplot as plt\n",
    "\n",
    "history_dict = history.history\n",
    "print(history_dict.keys())\n",
    "\n",
    "acc = history_dict['accuracy']\n",
    "val_acc = history_dict['val_accuracy']\n",
    "loss = history_dict['loss']\n",
    "val_loss = history_dict['val_loss']\n",
    "\n",
    "#print(loss)\n",
    "\n",
    "epochs_number = range(1, (epochs) + 1)\n",
    "fig = plt.figure(figsize=(10, 6))\n",
    "fig.tight_layout()\n",
    "\n",
    "plt.subplot(2, 1, 1)\n",
    "# \"bo\" is for \"blue dot\"\n",
    "plt.plot(epochs_number, loss, 'r', label='Training loss')\n",
    "# b is for \"solid blue line\"\n",
    "plt.plot(epochs_number, val_loss, 'b', label='Validation loss')\n",
    "plt.title('Training and validation loss')\n",
    "# plt.xlabel('Epochs')\n",
    "plt.ylabel('Loss')\n",
    "plt.legend()\n",
    "\n",
    "plt.subplot(2, 1, 2)\n",
    "plt.plot(epochs_number, acc, 'r', label='Training acc')\n",
    "plt.plot(epochs_number, val_acc, 'b', label='Validation acc')\n",
    "plt.title('Training and validation accuracy')\n",
    "plt.xlabel('Epochs')\n",
    "plt.ylabel('Accuracy')\n",
    "plt.legend(loc='lower right')\n"
   ]
  },
  {
   "cell_type": "code",
   "execution_count": 34,
   "id": "apart-christian",
   "metadata": {
    "id": "apart-christian"
   },
   "outputs": [],
   "source": [
    "# Show tensorboard\n",
    "\n",
    "# %load_ext tensorboard\n",
    "# %tensorboard --logdir logs/fit\n",
    "#%reload_ext tensorboard # just in case tensorboard didn't refresh"
   ]
  },
  {
   "cell_type": "code",
   "execution_count": 35,
   "id": "5gMTwri775Ex",
   "metadata": {
    "colab": {
     "base_uri": "https://localhost:8080/"
    },
    "id": "5gMTwri775Ex",
    "outputId": "c42227b8-b8a1-421f-decb-14624c20bf02"
   },
   "outputs": [
    {
     "data": {
      "text/plain": [
       "{'input_ids': <tf.Tensor: shape=(4000, 100), dtype=int32, numpy=\n",
       " array([[ 101, 1045, 2018, ...,    0,    0,    0],\n",
       "        [ 101, 2795, 2057, ...,    0,    0,    0],\n",
       "        [ 101, 1998, 2043, ...,    0,    0,    0],\n",
       "        ...,\n",
       "        [ 101, 2008, 4081, ...,    0,    0,    0],\n",
       "        [ 101, 1037, 6054, ...,    0,    0,    0],\n",
       "        [ 101, 2001, 2279, ...,    0,    0,    0]])>}"
      ]
     },
     "execution_count": 35,
     "metadata": {},
     "output_type": "execute_result"
    }
   ],
   "source": [
    "X_val_2"
   ]
  },
  {
   "cell_type": "code",
   "execution_count": 36,
   "id": "axoHnl6t-Nzp",
   "metadata": {
    "colab": {
     "base_uri": "https://localhost:8080/"
    },
    "id": "axoHnl6t-Nzp",
    "outputId": "2289ad0c-d68e-4ef0-940a-cf96dc5c3ceb"
   },
   "outputs": [
    {
     "data": {
      "text/plain": [
       "{'input_ids': <tf.Tensor: shape=(5000, 100), dtype=int32, numpy=\n",
       " array([[ 101, 3638, 2011, ...,    0,    0,    0],\n",
       "        [ 101, 7367, 7770, ...,    0,    0,    0],\n",
       "        [ 101, 1996, 9530, ...,    0,    0,    0],\n",
       "        ...,\n",
       "        [ 101, 6350, 1998, ...,    0,    0,    0],\n",
       "        [ 101, 2903, 2008, ...,    0,    0,    0],\n",
       "        [ 101, 4618, 2275, ...,    0,    0,    0]])>}"
      ]
     },
     "execution_count": 36,
     "metadata": {},
     "output_type": "execute_result"
    }
   ],
   "source": [
    "X_test"
   ]
  },
  {
   "cell_type": "code",
   "execution_count": 37,
   "id": "jxu631dY7zqL",
   "metadata": {
    "colab": {
     "base_uri": "https://localhost:8080/"
    },
    "id": "jxu631dY7zqL",
    "outputId": "8f447dda-147b-40c5-e631-3c4e19fdafff"
   },
   "outputs": [],
   "source": [
    "#model.predict([X_test])"
   ]
  },
  {
   "cell_type": "code",
   "execution_count": 38,
   "id": "c0aeef60",
   "metadata": {
    "id": "c0aeef60"
   },
   "outputs": [],
   "source": [
    "# Function to generate accuracy report\n",
    "\n",
    "from sklearn.metrics import confusion_matrix\n",
    "import matplotlib.pyplot as plt\n",
    "from sklearn.metrics import ConfusionMatrixDisplay\n",
    "from sklearn.metrics import accuracy_score, f1_score\n",
    "\n",
    "def accuracy_report(X_val_seq,y_val_seq):\n",
    "    # Calculate preditions for the validation dataset\n",
    "\n",
    "    y_pred = []  # store predicted labels\n",
    "    y_true = []  # store true labels\n",
    "\n",
    "    y_pred = model.predict([X_val_seq])\n",
    "    y_pred = np.argmax(y_pred, axis=1)\n",
    "    #len(y_pred)\n",
    "\n",
    "    y_true= y_val_seq\n",
    "    #len(y_true)\n",
    "\n",
    "    # Convert the true and predicted labels into arrays\n",
    "    true_categories = label_tokenizer.inverse_transform(y_true)\n",
    "    predicted_categories = label_tokenizer.inverse_transform(y_pred)\n",
    "    # print(predicted_categories)\n",
    "\n",
    "    # Generate confusion matrix\n",
    "\n",
    "    cnf_matrix = confusion_matrix(true_categories,predicted_categories,  normalize='pred')\n",
    "\n",
    "    # Plot confusion matrix\n",
    "    disp = ConfusionMatrixDisplay(confusion_matrix=cnf_matrix,display_labels=label_index)\n",
    "    disp = disp.plot(cmap='Greens', xticks_rotation=45)\n",
    "    plt.show()\n",
    "\n",
    "    print(\"Accuracy for validation split: \" ,accuracy_score(y_true, y_pred))\n",
    "    print( \"F1_score: \" + str(f1_score(y_true, y_pred, average='micro')))"
   ]
  },
  {
   "cell_type": "code",
   "execution_count": 39,
   "id": "environmental-transcription",
   "metadata": {
    "colab": {
     "base_uri": "https://localhost:8080/",
     "height": 395
    },
    "id": "environmental-transcription",
    "outputId": "d3c34f15-156f-4e2e-a19b-ceab9cd38231"
   },
   "outputs": [
    {
     "data": {
      "image/png": "[encoded data removed]",
      "text/plain": [
       "<Figure size 432x288 with 2 Axes>"
      ]
     },
     "metadata": {
      "needs_background": "light"
     },
     "output_type": "display_data"
    },
    {
     "name": "stdout",
     "output_type": "stream",
     "text": [
      "Accuracy for validation split:  0.904\n",
      "F1_score: 0.904\n"
     ]
    }
   ],
   "source": [
    "# accuracy_report for same books\n",
    "\n",
    "accuracy_report(X_val,y_val_sequences)"
   ]
  },
  {
   "cell_type": "code",
   "execution_count": 40,
   "id": "fundamental-raising",
   "metadata": {
    "colab": {
     "base_uri": "https://localhost:8080/",
     "height": 395
    },
    "id": "fundamental-raising",
    "outputId": "73381906-109c-476c-cae8-d276d4e079d7"
   },
   "outputs": [
    {
     "data": {
      "image/png": "[encoded data removed]",
      "text/plain": [
       "<Figure size 432x288 with 2 Axes>"
      ]
     },
     "metadata": {
      "needs_background": "light"
     },
     "output_type": "display_data"
    },
    {
     "name": "stdout",
     "output_type": "stream",
     "text": [
      "Accuracy for validation split:  0.67725\n",
      "F1_score: 0.67725\n"
     ]
    }
   ],
   "source": [
    "# accuracy_report for seperate books\n",
    "\n",
    "accuracy_report(X_val_2,y_val_sequences_2)"
   ]
  },
  {
   "cell_type": "code",
   "execution_count": 41,
   "id": "CPLiRurgZed_",
   "metadata": {
    "colab": {
     "base_uri": "https://localhost:8080/"
    },
    "id": "CPLiRurgZed_",
    "outputId": "d243e11a-4b4d-4c93-92ed-745bde306703"
   },
   "outputs": [
    {
     "name": "stdout",
     "output_type": "stream",
     "text": [
      "Model: \"nlp_bert_18\"\n",
      "_________________________________________________________________\n",
      " Layer (type)                Output Shape              Param #   \n",
      "=================================================================\n",
      " input_ids (InputLayer)      [(None, 100)]             0         \n",
      "                                                                 \n",
      " bert (TFBertMainLayer)      TFBaseModelOutputWithPoo  109482240 \n",
      "                             ling(last_hidden_state=(            \n",
      "                             None, 100, 768),                    \n",
      "                              pooler_output=(None, 76            \n",
      "                             8),                                 \n",
      "                              hidden_states=None, att            \n",
      "                             entions=None)                       \n",
      "                                                                 \n",
      " pooled_output (Dropout)     (None, 768)               0         \n",
      "                                                                 \n",
      " dense (Dense)               (None, 5)                 3845      \n",
      "                                                                 \n",
      "=================================================================\n",
      "Total params: 109,486,085\n",
      "Trainable params: 109,486,085\n",
      "Non-trainable params: 0\n",
      "_________________________________________________________________\n"
     ]
    }
   ],
   "source": [
    "model.summary()"
   ]
  },
  {
   "cell_type": "code",
   "execution_count": 42,
   "id": "electoral-arrangement",
   "metadata": {
    "id": "electoral-arrangement"
   },
   "outputs": [],
   "source": [
    "# Saving final model for future use\n",
    "\n",
    "#model.save(\"bert_5.h5\", save_format='h5')\n",
    "#tensorflow.keras.models.save_model(model,model._name)"
   ]
  },
  {
   "cell_type": "code",
   "execution_count": 43,
   "id": "mk7Mp05XdxxU",
   "metadata": {
    "id": "mk7Mp05XdxxU"
   },
   "outputs": [],
   "source": [
    "#!tar czf bert_epoch5_adamw_compress.tar.gz bert_epoch5_adamw/"
   ]
  },
  {
   "cell_type": "code",
   "execution_count": 44,
   "id": "VqWmI63N5AIy",
   "metadata": {
    "colab": {
     "base_uri": "https://localhost:8080/"
    },
    "id": "VqWmI63N5AIy",
    "outputId": "3726e159-67dc-4e8f-87cc-2fd44ec98721"
   },
   "outputs": [
    {
     "name": "stdout",
     "output_type": "stream",
     "text": [
      "Fri Feb 25 06:17:20 2022       \n",
      "+-----------------------------------------------------------------------------+\n",
      "| NVIDIA-SMI 496.13       Driver Version: 496.13       CUDA Version: 11.5     |\n",
      "|-------------------------------+----------------------+----------------------+\n",
      "| GPU  Name            TCC/WDDM | Bus-Id        Disp.A | Volatile Uncorr. ECC |\n",
      "| Fan  Temp  Perf  Pwr:Usage/Cap|         Memory-Usage | GPU-Util  Compute M. |\n",
      "|                               |                      |               MIG M. |\n",
      "|===============================+======================+======================|\n",
      "|   0  NVIDIA GeForce ... WDDM  | 00000000:0D:00.0 Off |                  N/A |\n",
      "| 83%   68C    P2   128W / 170W |  12196MiB / 12288MiB |      1%      Default |\n",
      "|                               |                      |                  N/A |\n",
      "+-------------------------------+----------------------+----------------------+\n",
      "                                                                               \n",
      "+-----------------------------------------------------------------------------+\n",
      "| Processes:                                                                  |\n",
      "|  GPU   GI   CI        PID   Type   Process name                  GPU Memory |\n",
      "|        ID   ID                                                   Usage      |\n",
      "|=============================================================================|\n",
      "|    0   N/A  N/A      1604    C+G   Insufficient Permissions        N/A      |\n",
      "|    0   N/A  N/A      5204    C+G   C:\\Windows\\explorer.exe         N/A      |\n",
      "|    0   N/A  N/A      5748      C   ...onda3\\envs\\tf2\\python.exe    N/A      |\n",
      "|    0   N/A  N/A      6308    C+G   ...2txyewy\\TextInputHost.exe    N/A      |\n",
      "|    0   N/A  N/A      7460    C+G   ...y\\ShellExperienceHost.exe    N/A      |\n",
      "|    0   N/A  N/A      7488    C+G   ...5n1h2txyewy\\SearchApp.exe    N/A      |\n",
      "|    0   N/A  N/A      7616    C+G   Insufficient Permissions        N/A      |\n",
      "|    0   N/A  N/A      9324      C   ...onda3\\envs\\tf2\\python.exe    N/A      |\n",
      "|    0   N/A  N/A      9452    C+G   ...zilla Firefox\\firefox.exe    N/A      |\n",
      "|    0   N/A  N/A     13036    C+G   ... Download Manager\\fdm.exe    N/A      |\n",
      "|    0   N/A  N/A     13108    C+G   ...zilla Firefox\\firefox.exe    N/A      |\n",
      "|    0   N/A  N/A     14216    C+G   ...5.0.3.0\\GoogleDriveFS.exe    N/A      |\n",
      "|    0   N/A  N/A     15260    C+G   ...enTabletDriver.UX.Wpf.exe    N/A      |\n",
      "|    0   N/A  N/A     15884    C+G   ...in7x64\\steamwebhelper.exe    N/A      |\n",
      "+-----------------------------------------------------------------------------+\n"
     ]
    }
   ],
   "source": [
    "!nvidia-smi"
   ]
  },
  {
   "cell_type": "code",
   "execution_count": 45,
   "id": "nZzulGEJnDSz",
   "metadata": {
    "colab": {
     "base_uri": "https://localhost:8080/"
    },
    "id": "nZzulGEJnDSz",
    "outputId": "0c45a983-23d6-45aa-f233-1a4c0fd977a0"
   },
   "outputs": [
    {
     "name": "stderr",
     "output_type": "stream",
     "text": [
      "WARNING:absl:Found untraced functions such as embeddings_layer_call_fn, embeddings_layer_call_and_return_conditional_losses, encoder_layer_call_fn, encoder_layer_call_and_return_conditional_losses, pooler_layer_call_fn while saving (showing 5 of 422). These functions will not be directly callable after loading.\n"
     ]
    },
    {
     "name": "stdout",
     "output_type": "stream",
     "text": [
      "INFO:tensorflow:Assets written to: nlp_bert_18\\assets\n"
     ]
    },
    {
     "name": "stderr",
     "output_type": "stream",
     "text": [
      "INFO:tensorflow:Assets written to: nlp_bert_18\\assets\n"
     ]
    }
   ],
   "source": [
    "model.save(model._name, include_optimizer=True)\n"
   ]
  },
  {
   "cell_type": "code",
   "execution_count": 46,
   "id": "JOr9fAJytC2a",
   "metadata": {
    "id": "JOr9fAJytC2a"
   },
   "outputs": [],
   "source": [
    "#!tar czf bert_no_optimizer.tar.gz bert_no_optimizer/"
   ]
  },
  {
   "cell_type": "code",
   "execution_count": 47,
   "id": "X-QjGeq3qDFd",
   "metadata": {
    "id": "X-QjGeq3qDFd"
   },
   "outputs": [],
   "source": [
    "# Reloading model\n",
    "\n",
    "#reloaded_model = tensorflow.saved_model.load(\"bert_no_optimizer\")"
   ]
  },
  {
   "cell_type": "code",
   "execution_count": 48,
   "id": "qYa60UyQ1QA1",
   "metadata": {
    "id": "qYa60UyQ1QA1"
   },
   "outputs": [],
   "source": [
    "# Comparing results of model in memory and reloaded model\n",
    "\n",
    "#text_string = X_val.iloc[0]"
   ]
  },
  {
   "cell_type": "code",
   "execution_count": 49,
   "id": "ET2pOYH82gR7",
   "metadata": {
    "id": "ET2pOYH82gR7"
   },
   "outputs": [],
   "source": [
    "# Correct result\n",
    "\n",
    "#y_val.iloc[0]"
   ]
  },
  {
   "cell_type": "code",
   "execution_count": 50,
   "id": "C_aCtz1YwjOW",
   "metadata": {
    "id": "C_aCtz1YwjOW"
   },
   "outputs": [],
   "source": [
    "#model_result = model(tensorflow.constant([text_string]))"
   ]
  },
  {
   "cell_type": "code",
   "execution_count": 51,
   "id": "WS-j-7At1NfE",
   "metadata": {
    "id": "WS-j-7At1NfE"
   },
   "outputs": [],
   "source": [
    "#reloaded_model_result = reloaded_model(tensorflow.constant([text_string]))"
   ]
  },
  {
   "cell_type": "code",
   "execution_count": 52,
   "id": "0FRxvPjP1ttd",
   "metadata": {
    "id": "0FRxvPjP1ttd"
   },
   "outputs": [],
   "source": [
    "# Result from model in memory\n",
    "\n",
    "#label_index[np.argmax(model_result, axis=1)]"
   ]
  },
  {
   "cell_type": "code",
   "execution_count": 53,
   "id": "wpirJtoY1uA8",
   "metadata": {
    "id": "wpirJtoY1uA8"
   },
   "outputs": [],
   "source": [
    "# Result from reloaded model\n",
    "\n",
    "#label_index[np.argmax(reloaded_model_result, axis=1)]"
   ]
  },
  {
   "cell_type": "code",
   "execution_count": null,
   "id": "54On8BXI-Fwx",
   "metadata": {
    "id": "54On8BXI-Fwx"
   },
   "outputs": [],
   "source": []
  }
 ],
 "metadata": {
  "accelerator": "GPU",
  "colab": {
   "collapsed_sections": [],
   "name": "keras_hf_bert.ipynb",
   "provenance": []
  },
  "kernelspec": {
   "display_name": "Python 3.9 (Tensorflow 2.6)",
   "language": "python",
   "name": "tf2"
  },
  "language_info": {
   "codemirror_mode": {
    "name": "ipython",
    "version": 3
   },
   "file_extension": ".py",
   "mimetype": "text/x-python",
   "name": "python",
   "nbconvert_exporter": "python",
   "pygments_lexer": "ipython3",
   "version": "3.9.7"
  }
 },
 "nbformat": 4,
 "nbformat_minor": 5
}
