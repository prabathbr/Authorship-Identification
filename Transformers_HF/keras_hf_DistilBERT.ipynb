{
 "cells": [
  {
   "cell_type": "code",
   "execution_count": 1,
   "id": "virtual-optimum",
   "metadata": {
    "id": "virtual-optimum"
   },
   "outputs": [],
   "source": [
    "# GPU Reset if needed\n",
    "\n",
    "from numba import cuda \n",
    "device = cuda.get_current_device()\n",
    "device.reset()"
   ]
  },
  {
   "cell_type": "code",
   "execution_count": 2,
   "id": "4c19ba3c",
   "metadata": {
    "id": "4c19ba3c"
   },
   "outputs": [],
   "source": [
    "# Disable CUDA for TF 2.x\n",
    "\n",
    "# import os\n",
    "# os.environ[\"CUDA_VISIBLE_DEVICES\"]=\"-1\" "
   ]
  },
  {
   "cell_type": "code",
   "execution_count": 3,
   "id": "iA9Ipq-4zuPT",
   "metadata": {
    "colab": {
     "base_uri": "https://localhost:8080/"
    },
    "id": "iA9Ipq-4zuPT",
    "outputId": "072f7aff-e198-4d95-cae9-60f8b10c233f"
   },
   "outputs": [
    {
     "name": "stdout",
     "output_type": "stream",
     "text": [
      "D:\\NLP_Last\\files\\UPLOAD\\Transformers_HF\n"
     ]
    }
   ],
   "source": [
    "# Mount Google Drive if running on Google Colab\n",
    "\n",
    "# from google.colab import drive\n",
    "import os\n",
    "\n",
    "# drive.mount('/content/drive')\n",
    "# os.chdir('/content/drive/My Drive/Colab Notebooks/hf/')\n",
    "print(os.getcwd())"
   ]
  },
  {
   "cell_type": "code",
   "execution_count": 4,
   "id": "MI6QgDjY2g7o",
   "metadata": {
    "id": "MI6QgDjY2g7o"
   },
   "outputs": [],
   "source": [
    "# List current directory\n",
    "\n",
    "#!dir"
   ]
  },
  {
   "cell_type": "code",
   "execution_count": 5,
   "id": "wWbrBVZ7CoPF",
   "metadata": {
    "id": "wWbrBVZ7CoPF"
   },
   "outputs": [],
   "source": [
    "# Remove current logs\n",
    "\n",
    "#!rm -rf logs"
   ]
  },
  {
   "cell_type": "code",
   "execution_count": 6,
   "id": "distinct-breath",
   "metadata": {
    "colab": {
     "base_uri": "https://localhost:8080/"
    },
    "id": "distinct-breath",
    "outputId": "9e5f5fe9-8e4d-40af-aa06-ac0161f8466a"
   },
   "outputs": [
    {
     "name": "stdout",
     "output_type": "stream",
     "text": [
      "Tensorflow precision mode : float32\n",
      "TensorFlow version : 2.9.0-dev20220102\n",
      "Numpy version : 1.22.0\n",
      "Pandas version : 1.3.4\n"
     ]
    }
   ],
   "source": [
    "# Import Tensorflow and related libraries\n",
    "\n",
    "import tensorflow\n",
    "\n",
    "print(\"Tensorflow precision mode : \" + tensorflow.keras.backend.floatx())\n",
    "\n",
    "# # Set Tensorflow precision mode to 'float16' to speedup with newer GPU\n",
    "# tensorflow.keras.backend.set_floatx('float32')\n",
    "\n",
    "# print(\"Tensorflow precision mode (after change) : \" + tensorflow.keras.backend.floatx())\n",
    "\n",
    "from tensorflow.keras.models import Model\n",
    "from tensorflow.keras.layers import Dense\n",
    "from tensorflow.keras.layers import Flatten\n",
    "from tensorflow.keras.layers import Dropout\n",
    "\n",
    "from tensorflow.keras.layers import Input\n",
    "\n",
    "from tensorflow.keras.utils import plot_model\n",
    "\n",
    "from sklearn.preprocessing import LabelEncoder\n",
    "\n",
    "print(\"TensorFlow version : \" + tensorflow.__version__)\n",
    "\n",
    "import numpy as np\n",
    "print(\"Numpy version : \" + np.version.version)\n",
    "\n",
    "import pandas as pd\n",
    "print(\"Pandas version : \" + pd.__version__)"
   ]
  },
  {
   "cell_type": "code",
   "execution_count": 7,
   "id": "circular-angle",
   "metadata": {
    "colab": {
     "base_uri": "https://localhost:8080/"
    },
    "id": "circular-angle",
    "outputId": "87ac550c-1fe5-4f07-8087-478d257c7a09"
   },
   "outputs": [
    {
     "name": "stdout",
     "output_type": "stream",
     "text": [
      "Name: /physical_device:GPU:0   Type: GPU\n"
     ]
    }
   ],
   "source": [
    "# Display available GPUs\n",
    "\n",
    "physical_devices = tensorflow.config.list_physical_devices(('GPU'))\n",
    "for gpu in physical_devices:\n",
    "    print(\"Name:\", gpu.name, \"  Type:\", gpu.device_type)"
   ]
  },
  {
   "cell_type": "code",
   "execution_count": 8,
   "id": "618b9a2b",
   "metadata": {
    "colab": {
     "base_uri": "https://localhost:8080/"
    },
    "id": "618b9a2b",
    "outputId": "d71ac05b-4b24-4743-dba5-42f0b1117631"
   },
   "outputs": [
    {
     "name": "stdout",
     "output_type": "stream",
     "text": [
      "Fri Feb 25 08:28:33 2022       \n",
      "+-----------------------------------------------------------------------------+\n",
      "| NVIDIA-SMI 496.13       Driver Version: 496.13       CUDA Version: 11.5     |\n",
      "|-------------------------------+----------------------+----------------------+\n",
      "| GPU  Name            TCC/WDDM | Bus-Id        Disp.A | Volatile Uncorr. ECC |\n",
      "| Fan  Temp  Perf  Pwr:Usage/Cap|         Memory-Usage | GPU-Util  Compute M. |\n",
      "|                               |                      |               MIG M. |\n",
      "|===============================+======================+======================|\n",
      "|   0  NVIDIA GeForce ... WDDM  | 00000000:0D:00.0  On |                  N/A |\n",
      "|  0%   46C    P2    42W / 170W |   2027MiB / 12288MiB |      3%      Default |\n",
      "|                               |                      |                  N/A |\n",
      "+-------------------------------+----------------------+----------------------+\n",
      "                                                                               \n",
      "+-----------------------------------------------------------------------------+\n",
      "| Processes:                                                                  |\n",
      "|  GPU   GI   CI        PID   Type   Process name                  GPU Memory |\n",
      "|        ID   ID                                                   Usage      |\n",
      "|=============================================================================|\n",
      "|    0   N/A  N/A      1604    C+G   Insufficient Permissions        N/A      |\n",
      "|    0   N/A  N/A      5204    C+G   C:\\Windows\\explorer.exe         N/A      |\n",
      "|    0   N/A  N/A      5748      C   ...onda3\\envs\\tf2\\python.exe    N/A      |\n",
      "|    0   N/A  N/A      6308    C+G   ...2txyewy\\TextInputHost.exe    N/A      |\n",
      "|    0   N/A  N/A      7460    C+G   ...y\\ShellExperienceHost.exe    N/A      |\n",
      "|    0   N/A  N/A      7488    C+G   ...5n1h2txyewy\\SearchApp.exe    N/A      |\n",
      "|    0   N/A  N/A      7616    C+G   Insufficient Permissions        N/A      |\n",
      "|    0   N/A  N/A      9452    C+G   ...zilla Firefox\\firefox.exe    N/A      |\n",
      "|    0   N/A  N/A     13036    C+G   ... Download Manager\\fdm.exe    N/A      |\n",
      "|    0   N/A  N/A     13108    C+G   ...zilla Firefox\\firefox.exe    N/A      |\n",
      "|    0   N/A  N/A     13168      C   ...onda3\\envs\\tf2\\python.exe    N/A      |\n",
      "|    0   N/A  N/A     14216    C+G   ...5.0.3.0\\GoogleDriveFS.exe    N/A      |\n",
      "|    0   N/A  N/A     15260    C+G   ...enTabletDriver.UX.Wpf.exe    N/A      |\n",
      "|    0   N/A  N/A     15884    C+G   ...in7x64\\steamwebhelper.exe    N/A      |\n",
      "+-----------------------------------------------------------------------------+\n"
     ]
    }
   ],
   "source": [
    "# Show GPU status\n",
    "\n",
    "!nvidia-smi"
   ]
  },
  {
   "cell_type": "code",
   "execution_count": 9,
   "id": "0f583e47",
   "metadata": {
    "id": "0f583e47"
   },
   "outputs": [],
   "source": [
    "# Fix for \"CUDA_ERROR_ILLEGAL_ADDRESS\"\n",
    "\n",
    "# Ref : https://github.com/tensorflow/tensorflow/issues/40814#issuecomment-663838196\n",
    "\n",
    "os.environ['TF_CUDNN_DETERMINISTIC']='1'"
   ]
  },
  {
   "cell_type": "code",
   "execution_count": 10,
   "id": "preceding-travel",
   "metadata": {
    "id": "preceding-travel"
   },
   "outputs": [],
   "source": [
    "# Enable Memory Growth\n",
    "\n",
    "try:\n",
    "    if physical_devices != []:\n",
    "        tensorflow.config.experimental.set_memory_growth(physical_devices[0], True)\n",
    "        physical_devices[0]\n",
    "except:\n",
    "    print(\"error\")      "
   ]
  },
  {
   "cell_type": "code",
   "execution_count": 11,
   "id": "primary-bryan",
   "metadata": {
    "id": "primary-bryan"
   },
   "outputs": [],
   "source": [
    "# Global Parameters\n",
    "\n",
    "author_list = ['Charles Dickens','Jane Austen','Sir Arthur Conan Doyle','George Eliot','Jules Verne']\n",
    "seed_number = 18\n",
    "dataset_file  = \"dataset.csv\"\n",
    "validation_dataset_file  = \"validation_dataset.csv\"\n",
    "\n",
    "# For 3 GB VRAM : \n",
    "# batch_size = 2 when seq_length = 128, otherwise \"out of memory\"\n",
    "# Typical single epoch runtime = 20 mins\n",
    "\n",
    "batch_size = 64 # number of batch size\n",
    "epochs = 5 # number of maximum epochs to run\n",
    "seq_length = 100#300 # BERT Model sequence length\n",
    "dropout_value = 0.1 # Dropout layer value for Model\n",
    "init_lr = 3e-5 # Initial learning rate"
   ]
  },
  {
   "cell_type": "code",
   "execution_count": 12,
   "id": "e41a7202",
   "metadata": {
    "id": "e41a7202"
   },
   "outputs": [],
   "source": [
    "# Reading validation data (from seperate books)\n",
    "\n",
    "validation_data = pd.read_csv(validation_dataset_file, usecols = ['author','text'])\n",
    "X_val_2 = validation_data.text\n",
    "y_val_2 = validation_data.author"
   ]
  },
  {
   "cell_type": "code",
   "execution_count": 13,
   "id": "attractive-oriental",
   "metadata": {
    "id": "attractive-oriental"
   },
   "outputs": [],
   "source": [
    "# Reading training/test/validation data\n",
    "\n",
    "data = pd.read_csv(dataset_file, usecols = ['author','text'])"
   ]
  },
  {
   "cell_type": "code",
   "execution_count": 14,
   "id": "dried-aerospace",
   "metadata": {
    "id": "dried-aerospace"
   },
   "outputs": [],
   "source": [
    "#data.sample(5)"
   ]
  },
  {
   "cell_type": "code",
   "execution_count": 15,
   "id": "signal-football",
   "metadata": {
    "id": "signal-football"
   },
   "outputs": [],
   "source": [
    "from sklearn.model_selection import train_test_split\n",
    "\n",
    "# Train, Test, Validation Spit ratios 60%, 20%, 20% \n",
    "\n",
    "X_train, X_val, y_train, y_val = train_test_split(data[\"text\"], data[\"author\"], test_size=0.2, random_state=2000)\n",
    "X_train, X_test, y_train, y_test = train_test_split(X_train, y_train, test_size=0.25, random_state=seed_number) # 0.25 x 0.8 = 0.2"
   ]
  },
  {
   "cell_type": "code",
   "execution_count": 16,
   "id": "a34aaa20",
   "metadata": {
    "colab": {
     "base_uri": "https://localhost:8080/"
    },
    "id": "a34aaa20",
    "outputId": "09490896-14fe-44b8-e72f-bbf9426f09dc"
   },
   "outputs": [
    {
     "name": "stdout",
     "output_type": "stream",
     "text": [
      "Number of training data: 15000\n",
      "Number of test data: 5000\n",
      "Number of validation data (from same books): 5000\n",
      "Number of validation data (from seperate books): 4000\n",
      "Number of max characters in training dataset: 370\n"
     ]
    }
   ],
   "source": [
    "print(\"Number of training data:\",len(X_train))\n",
    "print(\"Number of test data:\",len(X_test))\n",
    "print(\"Number of validation data (from same books):\",len(X_val))\n",
    "print(\"Number of validation data (from seperate books):\",len(X_val_2))\n",
    "print(\"Number of max characters in training dataset:\",max(X_train.apply(len)))"
   ]
  },
  {
   "cell_type": "code",
   "execution_count": 17,
   "id": "strong-ukraine",
   "metadata": {
    "id": "strong-ukraine"
   },
   "outputs": [],
   "source": [
    "# Encoding label text to integeres\n",
    "\n",
    "label_tokenizer = LabelEncoder()\n",
    "label_tokenizer.fit(author_list)\n",
    "label_index = label_tokenizer.classes_\n",
    "\n",
    "y_train_sequences = np.array(label_tokenizer.transform(y_train))\n",
    "y_test_sequences = np.array(label_tokenizer.transform(y_test))\n",
    "y_val_sequences = np.array(label_tokenizer.transform(y_val))\n",
    "y_val_sequences_2 = np.array(label_tokenizer.transform(y_val_2))"
   ]
  },
  {
   "cell_type": "code",
   "execution_count": 18,
   "id": "informed-precipitation",
   "metadata": {
    "colab": {
     "base_uri": "https://localhost:8080/"
    },
    "id": "informed-precipitation",
    "outputId": "65f62de5-c420-437b-aea8-d9275b1cce5f"
   },
   "outputs": [
    {
     "data": {
      "text/plain": [
       "array(['Charles Dickens', 'George Eliot', 'Jane Austen', 'Jules Verne',\n",
       "       'Sir Arthur Conan Doyle'], dtype='<U22')"
      ]
     },
     "execution_count": 18,
     "metadata": {},
     "output_type": "execute_result"
    }
   ],
   "source": [
    "label_index"
   ]
  },
  {
   "cell_type": "markdown",
   "id": "numeric-produce",
   "metadata": {
    "id": "numeric-produce"
   },
   "source": [
    "### DistilBERT Model"
   ]
  },
  {
   "cell_type": "code",
   "execution_count": 19,
   "id": "6c978cf2",
   "metadata": {
    "colab": {
     "base_uri": "https://localhost:8080/"
    },
    "id": "6c978cf2",
    "outputId": "d3162be0-be89-41dc-ea4d-e59ba24b4eda"
   },
   "outputs": [],
   "source": [
    "# !pip install transformers==4.6.0"
   ]
  },
  {
   "cell_type": "code",
   "execution_count": 20,
   "id": "5029e0df",
   "metadata": {
    "id": "5029e0df"
   },
   "outputs": [],
   "source": [
    "# Load Huggingface transformers\n",
    "from transformers import TFDistilBertModel, DistilBertConfig, DistilBertTokenizerFast"
   ]
  },
  {
   "cell_type": "code",
   "execution_count": 21,
   "id": "fb14f7a9",
   "metadata": {
    "colab": {
     "base_uri": "https://localhost:8080/"
    },
    "id": "fb14f7a9",
    "outputId": "3e260661-ccea-4f7f-cc9e-fdf28995732d"
   },
   "outputs": [
    {
     "data": {
      "application/vnd.jupyter.widget-view+json": {
       "model_id": "826efac82c744c0cad8c5b6a2afdc93d",
       "version_major": 2,
       "version_minor": 0
      },
      "text/plain": [
       "Downloading:   0%|          | 0.00/232k [00:00<?, ?B/s]"
      ]
     },
     "metadata": {},
     "output_type": "display_data"
    },
    {
     "data": {
      "application/vnd.jupyter.widget-view+json": {
       "model_id": "6c25b9ed08014e93a1ec35cc26edc9f0",
       "version_major": 2,
       "version_minor": 0
      },
      "text/plain": [
       "Downloading:   0%|          | 0.00/466k [00:00<?, ?B/s]"
      ]
     },
     "metadata": {},
     "output_type": "display_data"
    },
    {
     "data": {
      "application/vnd.jupyter.widget-view+json": {
       "model_id": "f54669f5c191433f906106eae693a9cd",
       "version_major": 2,
       "version_minor": 0
      },
      "text/plain": [
       "Downloading:   0%|          | 0.00/28.0 [00:00<?, ?B/s]"
      ]
     },
     "metadata": {},
     "output_type": "display_data"
    },
    {
     "data": {
      "application/vnd.jupyter.widget-view+json": {
       "model_id": "0c4c9fed735243b4801b3b720d43908e",
       "version_major": 2,
       "version_minor": 0
      },
      "text/plain": [
       "Downloading:   0%|          | 0.00/483 [00:00<?, ?B/s]"
      ]
     },
     "metadata": {},
     "output_type": "display_data"
    },
    {
     "data": {
      "application/vnd.jupyter.widget-view+json": {
       "model_id": "facdaf6ea84e457ab2fed560b44cdfbc",
       "version_major": 2,
       "version_minor": 0
      },
      "text/plain": [
       "Downloading:   0%|          | 0.00/363M [00:00<?, ?B/s]"
      ]
     },
     "metadata": {},
     "output_type": "display_data"
    },
    {
     "name": "stderr",
     "output_type": "stream",
     "text": [
      "Some layers from the model checkpoint at distilbert-base-uncased were not used when initializing TFDistilBertModel: ['vocab_layer_norm', 'vocab_transform', 'activation_13', 'vocab_projector']\n",
      "- This IS expected if you are initializing TFDistilBertModel from the checkpoint of a model trained on another task or with another architecture (e.g. initializing a BertForSequenceClassification model from a BertForPreTraining model).\n",
      "- This IS NOT expected if you are initializing TFDistilBertModel from the checkpoint of a model that you expect to be exactly identical (initializing a BertForSequenceClassification model from a BertForSequenceClassification model).\n",
      "All the layers of TFDistilBertModel were initialized from the model checkpoint at distilbert-base-uncased.\n",
      "If your task is similar to the task the model of the checkpoint was trained on, you can already use TFDistilBertModel for predictions without further training.\n"
     ]
    }
   ],
   "source": [
    "#######################################\n",
    "### --------- Setup  ---------- ###\n",
    "\n",
    "# Ref: https://huggingface.co/transformers/model_doc/roberta.html\n",
    "\n",
    "\n",
    "# Name of the  model to use\n",
    "model_name = 'distilbert-base-uncased'\n",
    "\n",
    "# Max length of tokens\n",
    "max_length = seq_length #100\n",
    "\n",
    "# Load transformers config and set output_hidden_states to False\n",
    "# config = BertConfig.from_pretrained(model_name)\n",
    "# config.output_hidden_states = False\n",
    "\n",
    "# Load BERT tokenizer\n",
    "tokenizer = DistilBertTokenizerFast.from_pretrained(model_name)#BertTokenizerFast.from_pretrained(pretrained_model_name_or_path = model_name, config = config)\n",
    "\n",
    "# Load the Transformers BERT model\n",
    "transformer_model = TFDistilBertModel.from_pretrained(model_name) #TFBertModel.from_pretrained(model_name, config = config)"
   ]
  },
  {
   "cell_type": "code",
   "execution_count": 22,
   "id": "d2676225",
   "metadata": {
    "id": "d2676225"
   },
   "outputs": [],
   "source": [
    "#######################################\n",
    "### ------- Build the model ------- ###\n",
    "\n",
    "# TF Keras documentation: https://www.tensorflow.org/api_docs/python/tf/keras/Model\n",
    "\n",
    "# Load the MainLayer\n",
    "bert = transformer_model.layers[0]\n",
    "\n",
    "# Build your model input\n",
    "input_ids = Input(shape=(max_length,), name='input_ids', dtype='int32')\n",
    "\n",
    "inputs = {'input_ids': input_ids}\n",
    "\n",
    "# Load the Transformers BERT model as a layer in a Keras model\n",
    "bert_model = bert(inputs)[0]\n",
    "dropout = Dropout(dropout_value, name='pooled_output')#Dropout(config.hidden_dropout_prob, name='pooled_output')\n",
    "pooled_output = dropout(bert_model, training=False)"
   ]
  },
  {
   "cell_type": "code",
   "execution_count": 23,
   "id": "93802723",
   "metadata": {
    "id": "93802723"
   },
   "outputs": [],
   "source": [
    "def X_tokenizer(X_original):\n",
    "    X_original = tokenizer(\n",
    "    text=X_original.to_list(),\n",
    "    add_special_tokens=True,\n",
    "    max_length=max_length,\n",
    "    truncation=True,\n",
    "    padding='max_length', \n",
    "   # pad_to_max_length=\"right\",\n",
    "    return_tensors='tf',\n",
    "    return_token_type_ids = False,\n",
    "    return_attention_mask = False,\n",
    "    verbose = True)\n",
    "\n",
    "    X_original={'input_ids': X_original['input_ids']}\n",
    "    return X_original\n",
    "    "
   ]
  },
  {
   "cell_type": "code",
   "execution_count": 24,
   "id": "9be0308f",
   "metadata": {
    "id": "9be0308f"
   },
   "outputs": [],
   "source": [
    "X_train = X_tokenizer(X_train)\n",
    "X_test = X_tokenizer(X_test)\n",
    "X_val = X_tokenizer(X_val)\n",
    "X_val_2 = X_tokenizer(X_val_2)"
   ]
  },
  {
   "cell_type": "code",
   "execution_count": 25,
   "id": "fced3bbc",
   "metadata": {
    "id": "fced3bbc"
   },
   "outputs": [],
   "source": [
    "#del model"
   ]
  },
  {
   "cell_type": "code",
   "execution_count": 26,
   "id": "acting-midwest",
   "metadata": {
    "colab": {
     "base_uri": "https://localhost:8080/"
    },
    "id": "acting-midwest",
    "outputId": "f5bee457-48b5-44a0-bfea-7665cece7cef"
   },
   "outputs": [
    {
     "name": "stdout",
     "output_type": "stream",
     "text": [
      "Model: \"nlp_DistilBert_18\"\n",
      "_________________________________________________________________\n",
      " Layer (type)                Output Shape              Param #   \n",
      "=================================================================\n",
      " input_ids (InputLayer)      [(None, 100)]             0         \n",
      "                                                                 \n",
      " distilbert (TFDistilBertMai  TFBaseModelOutput(last_h  66362880 \n",
      " nLayer)                     idden_state=(None, 100,             \n",
      "                             768),                               \n",
      "                              hidden_states=None, att            \n",
      "                             entions=None)                       \n",
      "                                                                 \n",
      " pooled_output (Dropout)     (None, 100, 768)          0         \n",
      "                                                                 \n",
      " flatten (Flatten)           (None, 76800)             0         \n",
      "                                                                 \n",
      " dense (Dense)               (None, 5)                 384005    \n",
      "                                                                 \n",
      "=================================================================\n",
      "Total params: 66,746,885\n",
      "Trainable params: 66,746,885\n",
      "Non-trainable params: 0\n",
      "_________________________________________________________________\n"
     ]
    }
   ],
   "source": [
    "# define new model\n",
    "\n",
    "flatten = tensorflow.keras.layers.Flatten()(pooled_output) \n",
    "model_output = tensorflow.keras.layers.Dense(5, activation='softmax')(flatten)\n",
    "\n",
    "model = tensorflow.keras.Model(inputs, model_output)\n",
    "\n",
    "model._name = \"nlp_DistilBert_\" + str(seed_number) \n",
    "model.summary()\n",
    "\n"
   ]
  },
  {
   "cell_type": "code",
   "execution_count": 27,
   "id": "d206d079",
   "metadata": {
    "colab": {
     "base_uri": "https://localhost:8080/",
     "height": 466
    },
    "id": "d206d079",
    "outputId": "1eb73cd6-e189-40db-b240-09c6e6a00ac3"
   },
   "outputs": [
    {
     "data": {
      "image/png": "[encoded data removed]",
      "text/plain": [
       "<IPython.core.display.Image object>"
      ]
     },
     "execution_count": 27,
     "metadata": {},
     "output_type": "execute_result"
    }
   ],
   "source": [
    "# Save the model as a png file\n",
    "plot_model(model, to_file=model._name +'.png', show_layer_names=True)"
   ]
  },
  {
   "cell_type": "code",
   "execution_count": 28,
   "id": "stuck-dispatch",
   "metadata": {
    "colab": {
     "base_uri": "https://localhost:8080/"
    },
    "id": "stuck-dispatch",
    "outputId": "1ea23758-1a58-425a-b0bd-888c41c4be6f"
   },
   "outputs": [
    {
     "name": "stdout",
     "output_type": "stream",
     "text": [
      "0 input_ids True\n",
      "1 distilbert True\n",
      "2 pooled_output True\n",
      "3 flatten True\n",
      "4 dense True\n"
     ]
    }
   ],
   "source": [
    "# Show the trainable status of the layers\n",
    "\n",
    "for i, layer in enumerate(model.layers):\n",
    "    print(i, layer.name, layer.trainable)"
   ]
  },
  {
   "cell_type": "code",
   "execution_count": 29,
   "id": "13a91642",
   "metadata": {
    "id": "13a91642"
   },
   "outputs": [],
   "source": [
    "# Define Optimizer\n",
    "\n",
    "# steps_per_epoch = int(len(X_train)/batch_size) #tensorflow.data.experimental.cardinality(data_train).numpy()\n",
    "# num_train_steps = steps_per_epoch * epochs\n",
    "# num_warmup_steps = int(0.1*num_train_steps)\n",
    "# print(steps_per_epoch,num_train_steps,num_warmup_steps)\n",
    "\n",
    "# optimizer = optimization.create_optimizer(init_lr=init_lr,\n",
    "#                                           num_train_steps=num_train_steps,\n",
    "#                                           num_warmup_steps=num_warmup_steps,\n",
    "#                                           optimizer_type='adamw')"
   ]
  },
  {
   "cell_type": "code",
   "execution_count": 30,
   "id": "c45b8d76",
   "metadata": {
    "id": "c45b8d76"
   },
   "outputs": [],
   "source": [
    "from tensorflow.keras.optimizers import Adam\n",
    "\n",
    "optimizer = Adam(\n",
    "    learning_rate=5e-05,\n",
    "    epsilon=1e-08,\n",
    "    decay=0.01,\n",
    "    clipnorm=1.0)"
   ]
  },
  {
   "cell_type": "code",
   "execution_count": 31,
   "id": "manufactured-niagara",
   "metadata": {
    "id": "manufactured-niagara"
   },
   "outputs": [],
   "source": [
    "# Compile the model\n",
    "\n",
    "model.compile(\n",
    "    #optimizer=tensorflow.keras.optimizers.Adam(learning_rate=3e-5),\n",
    "    #optimizer=tensorflow.keras.optimizers.RMSprop(learning_rate=0.0001),\n",
    "    optimizer=optimizer,\n",
    "    loss=\"sparse_categorical_crossentropy\",\n",
    "    metrics=[\"accuracy\"],\n",
    ")"
   ]
  },
  {
   "cell_type": "code",
   "execution_count": 32,
   "id": "passing-chambers",
   "metadata": {
    "id": "passing-chambers"
   },
   "outputs": [],
   "source": [
    "# Tensorboard parameters\n",
    "\n",
    "import datetime\n",
    "log_dir = \"logs/fit/\" + datetime.datetime.now().strftime(\"%Y%m%d-%H%M%S\")\n",
    "tensorboard_callback = tensorflow.keras.callbacks.TensorBoard(log_dir=log_dir, histogram_freq=1)"
   ]
  },
  {
   "cell_type": "code",
   "execution_count": 33,
   "id": "diagnostic-hydrogen",
   "metadata": {
    "id": "diagnostic-hydrogen"
   },
   "outputs": [],
   "source": [
    "# Use best weights for the model\n",
    "\n",
    "early_stopping_monitor = tensorflow.keras.callbacks.EarlyStopping(\n",
    "    monitor='val_accuracy',\n",
    "    min_delta=0,\n",
    "    patience=50,\n",
    "    verbose=0,\n",
    "    mode='max',\n",
    "    baseline=None,\n",
    "    restore_best_weights=True\n",
    ")"
   ]
  },
  {
   "cell_type": "code",
   "execution_count": 34,
   "id": "unlike-ballot",
   "metadata": {
    "colab": {
     "base_uri": "https://localhost:8080/"
    },
    "id": "unlike-ballot",
    "outputId": "fac25488-d129-4971-e471-99d549c7448a"
   },
   "outputs": [
    {
     "name": "stdout",
     "output_type": "stream",
     "text": [
      "Epoch 1/5\n",
      "235/235 [==============================] - 97s 390ms/step - loss: 0.6394 - accuracy: 0.7505 - val_loss: 0.3572 - val_accuracy: 0.8670\n",
      "Epoch 2/5\n",
      "235/235 [==============================] - 91s 388ms/step - loss: 0.2306 - accuracy: 0.9179 - val_loss: 0.3133 - val_accuracy: 0.8862\n",
      "Epoch 3/5\n",
      "235/235 [==============================] - 91s 389ms/step - loss: 0.1292 - accuracy: 0.9567 - val_loss: 0.3365 - val_accuracy: 0.8914\n",
      "Epoch 4/5\n",
      "235/235 [==============================] - 91s 389ms/step - loss: 0.0782 - accuracy: 0.9754 - val_loss: 0.3445 - val_accuracy: 0.8954\n",
      "Epoch 5/5\n",
      "235/235 [==============================] - 91s 389ms/step - loss: 0.0524 - accuracy: 0.9849 - val_loss: 0.3638 - val_accuracy: 0.8960\n"
     ]
    }
   ],
   "source": [
    "# Training the model\n",
    "# callbacks are not used : early_stopping_monitor (to speed up), tensorboard_callback (has a bug with BERT)\n",
    "\n",
    "history = model.fit(X_train, y_train_sequences, epochs=epochs, batch_size = batch_size, shuffle = True, callbacks=[], validation_data=(X_test , y_test_sequences ),)"
   ]
  },
  {
   "cell_type": "code",
   "execution_count": 35,
   "id": "f6784583",
   "metadata": {
    "colab": {
     "base_uri": "https://localhost:8080/",
     "height": 441
    },
    "id": "f6784583",
    "outputId": "8a49872c-b6fa-4910-b09d-8c083bfcd129"
   },
   "outputs": [
    {
     "name": "stdout",
     "output_type": "stream",
     "text": [
      "dict_keys(['loss', 'accuracy', 'val_loss', 'val_accuracy'])\n"
     ]
    },
    {
     "data": {
      "text/plain": [
       "<matplotlib.legend.Legend at 0x2464cc150a0>"
      ]
     },
     "execution_count": 35,
     "metadata": {},
     "output_type": "execute_result"
    },
    {
     "data": {
      "image/png": "[encoded data removed]",
      "text/plain": [
       "<Figure size 720x432 with 2 Axes>"
      ]
     },
     "metadata": {
      "needs_background": "light"
     },
     "output_type": "display_data"
    }
   ],
   "source": [
    "# Plot the accuracy and loss over time \n",
    "# Reusing sample code from : https://www.tensorflow.org/text/tutorials/classify_text_with_bert\n",
    "import matplotlib.pyplot as plt\n",
    "\n",
    "history_dict = history.history\n",
    "print(history_dict.keys())\n",
    "\n",
    "acc = history_dict['accuracy']\n",
    "val_acc = history_dict['val_accuracy']\n",
    "loss = history_dict['loss']\n",
    "val_loss = history_dict['val_loss']\n",
    "\n",
    "#print(loss)\n",
    "\n",
    "epochs_number = range(1, (epochs) + 1)\n",
    "fig = plt.figure(figsize=(10, 6))\n",
    "fig.tight_layout()\n",
    "\n",
    "plt.subplot(2, 1, 1)\n",
    "# \"bo\" is for \"blue dot\"\n",
    "plt.plot(epochs_number, loss, 'r', label='Training loss')\n",
    "# b is for \"solid blue line\"\n",
    "plt.plot(epochs_number, val_loss, 'b', label='Validation loss')\n",
    "plt.title('Training and validation loss')\n",
    "# plt.xlabel('Epochs')\n",
    "plt.ylabel('Loss')\n",
    "plt.legend()\n",
    "\n",
    "plt.subplot(2, 1, 2)\n",
    "plt.plot(epochs_number, acc, 'r', label='Training acc')\n",
    "plt.plot(epochs_number, val_acc, 'b', label='Validation acc')\n",
    "plt.title('Training and validation accuracy')\n",
    "plt.xlabel('Epochs')\n",
    "plt.ylabel('Accuracy')\n",
    "plt.legend(loc='lower right')\n"
   ]
  },
  {
   "cell_type": "code",
   "execution_count": 36,
   "id": "apart-christian",
   "metadata": {
    "id": "apart-christian"
   },
   "outputs": [],
   "source": [
    "# Show tensorboard\n",
    "\n",
    "# %load_ext tensorboard\n",
    "# %tensorboard --logdir logs/fit\n",
    "#%reload_ext tensorboard # just in case tensorboard didn't refresh"
   ]
  },
  {
   "cell_type": "code",
   "execution_count": 37,
   "id": "5gMTwri775Ex",
   "metadata": {
    "colab": {
     "base_uri": "https://localhost:8080/"
    },
    "id": "5gMTwri775Ex",
    "outputId": "19a9e5b1-43b9-47c3-d743-bd293d598440"
   },
   "outputs": [
    {
     "data": {
      "text/plain": [
       "{'input_ids': <tf.Tensor: shape=(4000, 100), dtype=int32, numpy=\n",
       " array([[ 101, 1045, 2018, ...,    0,    0,    0],\n",
       "        [ 101, 2795, 2057, ...,    0,    0,    0],\n",
       "        [ 101, 1998, 2043, ...,    0,    0,    0],\n",
       "        ...,\n",
       "        [ 101, 2008, 4081, ...,    0,    0,    0],\n",
       "        [ 101, 1037, 6054, ...,    0,    0,    0],\n",
       "        [ 101, 2001, 2279, ...,    0,    0,    0]])>}"
      ]
     },
     "execution_count": 37,
     "metadata": {},
     "output_type": "execute_result"
    }
   ],
   "source": [
    "X_val_2"
   ]
  },
  {
   "cell_type": "code",
   "execution_count": 38,
   "id": "axoHnl6t-Nzp",
   "metadata": {
    "colab": {
     "base_uri": "https://localhost:8080/"
    },
    "id": "axoHnl6t-Nzp",
    "outputId": "716f5b21-1196-4310-c7e4-80077ad49a68"
   },
   "outputs": [
    {
     "data": {
      "text/plain": [
       "{'input_ids': <tf.Tensor: shape=(5000, 100), dtype=int32, numpy=\n",
       " array([[ 101, 3638, 2011, ...,    0,    0,    0],\n",
       "        [ 101, 7367, 7770, ...,    0,    0,    0],\n",
       "        [ 101, 1996, 9530, ...,    0,    0,    0],\n",
       "        ...,\n",
       "        [ 101, 6350, 1998, ...,    0,    0,    0],\n",
       "        [ 101, 2903, 2008, ...,    0,    0,    0],\n",
       "        [ 101, 4618, 2275, ...,    0,    0,    0]])>}"
      ]
     },
     "execution_count": 38,
     "metadata": {},
     "output_type": "execute_result"
    }
   ],
   "source": [
    "X_test"
   ]
  },
  {
   "cell_type": "code",
   "execution_count": 39,
   "id": "jxu631dY7zqL",
   "metadata": {
    "id": "jxu631dY7zqL"
   },
   "outputs": [],
   "source": [
    "#model.predict([X_test])"
   ]
  },
  {
   "cell_type": "code",
   "execution_count": 40,
   "id": "c0aeef60",
   "metadata": {
    "id": "c0aeef60"
   },
   "outputs": [],
   "source": [
    "# Function to generate accuracy report\n",
    "\n",
    "from sklearn.metrics import confusion_matrix\n",
    "import matplotlib.pyplot as plt\n",
    "from sklearn.metrics import ConfusionMatrixDisplay\n",
    "from sklearn.metrics import accuracy_score, f1_score\n",
    "\n",
    "def accuracy_report(X_val_seq,y_val_seq):\n",
    "    # Calculate preditions for the validation dataset\n",
    "\n",
    "    y_pred = []  # store predicted labels\n",
    "    y_true = []  # store true labels\n",
    "\n",
    "    y_pred = model.predict([X_val_seq])\n",
    "    y_pred = np.argmax(y_pred, axis=1)\n",
    "    #len(y_pred)\n",
    "\n",
    "    y_true= y_val_seq\n",
    "    #len(y_true)\n",
    "\n",
    "    # Convert the true and predicted labels into arrays\n",
    "    true_categories = label_tokenizer.inverse_transform(y_true)\n",
    "    predicted_categories = label_tokenizer.inverse_transform(y_pred)\n",
    "    # print(predicted_categories)\n",
    "\n",
    "    # Generate confusion matrix\n",
    "\n",
    "    cnf_matrix = confusion_matrix(true_categories,predicted_categories,  normalize='pred')\n",
    "\n",
    "    # Plot confusion matrix\n",
    "    disp = ConfusionMatrixDisplay(confusion_matrix=cnf_matrix,display_labels=label_index)\n",
    "    disp = disp.plot(cmap='Greens', xticks_rotation=45)\n",
    "    plt.show()\n",
    "\n",
    "    print(\"Accuracy for validation split: \" ,accuracy_score(y_true, y_pred))\n",
    "    print( \"F1_score: \" + str(f1_score(y_true, y_pred, average='micro')))"
   ]
  },
  {
   "cell_type": "code",
   "execution_count": 41,
   "id": "environmental-transcription",
   "metadata": {
    "colab": {
     "base_uri": "https://localhost:8080/",
     "height": 395
    },
    "id": "environmental-transcription",
    "outputId": "49e3eb49-f538-4adf-fa43-0bcb7c22b1f1"
   },
   "outputs": [
    {
     "data": {
      "image/png": "[encoded data removed]",
      "text/plain": [
       "<Figure size 432x288 with 2 Axes>"
      ]
     },
     "metadata": {
      "needs_background": "light"
     },
     "output_type": "display_data"
    },
    {
     "name": "stdout",
     "output_type": "stream",
     "text": [
      "Accuracy for validation split:  0.8942\n",
      "F1_score: 0.8942\n"
     ]
    }
   ],
   "source": [
    "# accuracy_report for same books\n",
    "\n",
    "accuracy_report(X_val,y_val_sequences)"
   ]
  },
  {
   "cell_type": "code",
   "execution_count": 42,
   "id": "fundamental-raising",
   "metadata": {
    "colab": {
     "base_uri": "https://localhost:8080/",
     "height": 395
    },
    "id": "fundamental-raising",
    "outputId": "6a7b45f3-245a-4819-9c64-50f60a84434f"
   },
   "outputs": [
    {
     "data": {
      "image/png": "[encoded data removed]",
      "text/plain": [
       "<Figure size 432x288 with 2 Axes>"
      ]
     },
     "metadata": {
      "needs_background": "light"
     },
     "output_type": "display_data"
    },
    {
     "name": "stdout",
     "output_type": "stream",
     "text": [
      "Accuracy for validation split:  0.6545\n",
      "F1_score: 0.6545\n"
     ]
    }
   ],
   "source": [
    "# accuracy_report for seperate books\n",
    "\n",
    "accuracy_report(X_val_2,y_val_sequences_2)"
   ]
  },
  {
   "cell_type": "code",
   "execution_count": 43,
   "id": "CPLiRurgZed_",
   "metadata": {
    "colab": {
     "base_uri": "https://localhost:8080/"
    },
    "id": "CPLiRurgZed_",
    "outputId": "a1541df3-9574-47c2-8a5e-a189f2e15365"
   },
   "outputs": [
    {
     "name": "stdout",
     "output_type": "stream",
     "text": [
      "Model: \"nlp_DistilBert_18\"\n",
      "_________________________________________________________________\n",
      " Layer (type)                Output Shape              Param #   \n",
      "=================================================================\n",
      " input_ids (InputLayer)      [(None, 100)]             0         \n",
      "                                                                 \n",
      " distilbert (TFDistilBertMai  TFBaseModelOutput(last_h  66362880 \n",
      " nLayer)                     idden_state=(None, 100,             \n",
      "                             768),                               \n",
      "                              hidden_states=None, att            \n",
      "                             entions=None)                       \n",
      "                                                                 \n",
      " pooled_output (Dropout)     (None, 100, 768)          0         \n",
      "                                                                 \n",
      " flatten (Flatten)           (None, 76800)             0         \n",
      "                                                                 \n",
      " dense (Dense)               (None, 5)                 384005    \n",
      "                                                                 \n",
      "=================================================================\n",
      "Total params: 66,746,885\n",
      "Trainable params: 66,746,885\n",
      "Non-trainable params: 0\n",
      "_________________________________________________________________\n"
     ]
    }
   ],
   "source": [
    "model.summary()"
   ]
  },
  {
   "cell_type": "code",
   "execution_count": 44,
   "id": "electoral-arrangement",
   "metadata": {
    "id": "electoral-arrangement"
   },
   "outputs": [],
   "source": [
    "# Saving final model for future use\n",
    "\n",
    "#model.save(\"bert_5.h5\", save_format='h5')\n",
    "#tensorflow.keras.models.save_model(model,model._name)"
   ]
  },
  {
   "cell_type": "code",
   "execution_count": 45,
   "id": "mk7Mp05XdxxU",
   "metadata": {
    "id": "mk7Mp05XdxxU"
   },
   "outputs": [],
   "source": [
    "#!tar czf bert_epoch5_adamw_compress.tar.gz bert_epoch5_adamw/"
   ]
  },
  {
   "cell_type": "code",
   "execution_count": 46,
   "id": "VqWmI63N5AIy",
   "metadata": {
    "colab": {
     "base_uri": "https://localhost:8080/"
    },
    "id": "VqWmI63N5AIy",
    "outputId": "3509d45a-0369-476c-b67a-f660f1c69582"
   },
   "outputs": [
    {
     "name": "stdout",
     "output_type": "stream",
     "text": [
      "Fri Feb 25 08:37:23 2022       \n",
      "+-----------------------------------------------------------------------------+\n",
      "| NVIDIA-SMI 496.13       Driver Version: 496.13       CUDA Version: 11.5     |\n",
      "|-------------------------------+----------------------+----------------------+\n",
      "| GPU  Name            TCC/WDDM | Bus-Id        Disp.A | Volatile Uncorr. ECC |\n",
      "| Fan  Temp  Perf  Pwr:Usage/Cap|         Memory-Usage | GPU-Util  Compute M. |\n",
      "|                               |                      |               MIG M. |\n",
      "|===============================+======================+======================|\n",
      "|   0  NVIDIA GeForce ... WDDM  | 00000000:0D:00.0  On |                  N/A |\n",
      "| 78%   70C    P2   121W / 170W |  10874MiB / 12288MiB |      0%      Default |\n",
      "|                               |                      |                  N/A |\n",
      "+-------------------------------+----------------------+----------------------+\n",
      "                                                                               \n",
      "+-----------------------------------------------------------------------------+\n",
      "| Processes:                                                                  |\n",
      "|  GPU   GI   CI        PID   Type   Process name                  GPU Memory |\n",
      "|        ID   ID                                                   Usage      |\n",
      "|=============================================================================|\n",
      "|    0   N/A  N/A      1604    C+G   Insufficient Permissions        N/A      |\n",
      "|    0   N/A  N/A      5204    C+G   C:\\Windows\\explorer.exe         N/A      |\n",
      "|    0   N/A  N/A      5748      C   ...onda3\\envs\\tf2\\python.exe    N/A      |\n",
      "|    0   N/A  N/A      6308    C+G   ...2txyewy\\TextInputHost.exe    N/A      |\n",
      "|    0   N/A  N/A      7460    C+G   ...y\\ShellExperienceHost.exe    N/A      |\n",
      "|    0   N/A  N/A      7488    C+G   ...5n1h2txyewy\\SearchApp.exe    N/A      |\n",
      "|    0   N/A  N/A      7616    C+G   Insufficient Permissions        N/A      |\n",
      "|    0   N/A  N/A      9452    C+G   ...zilla Firefox\\firefox.exe    N/A      |\n",
      "|    0   N/A  N/A     13036    C+G   ... Download Manager\\fdm.exe    N/A      |\n",
      "|    0   N/A  N/A     13108    C+G   ...zilla Firefox\\firefox.exe    N/A      |\n",
      "|    0   N/A  N/A     13168      C   ...onda3\\envs\\tf2\\python.exe    N/A      |\n",
      "|    0   N/A  N/A     14216    C+G   ...5.0.3.0\\GoogleDriveFS.exe    N/A      |\n",
      "|    0   N/A  N/A     15260    C+G   ...enTabletDriver.UX.Wpf.exe    N/A      |\n",
      "|    0   N/A  N/A     15884    C+G   ...in7x64\\steamwebhelper.exe    N/A      |\n",
      "+-----------------------------------------------------------------------------+\n"
     ]
    }
   ],
   "source": [
    "!nvidia-smi"
   ]
  },
  {
   "cell_type": "code",
   "execution_count": 47,
   "id": "nZzulGEJnDSz",
   "metadata": {
    "colab": {
     "base_uri": "https://localhost:8080/"
    },
    "id": "nZzulGEJnDSz",
    "outputId": "46f769f1-cf9b-4d78-a359-cff1732a6c41"
   },
   "outputs": [
    {
     "name": "stdout",
     "output_type": "stream",
     "text": [
      "WARNING:tensorflow:Skipping full serialization of Keras layer <keras.layers.core.dropout.Dropout object at 0x00000245AFEA7D90>, because it is not built.\n",
      "WARNING:tensorflow:Skipping full serialization of Keras layer <keras.layers.core.dropout.Dropout object at 0x00000245C262D4C0>, because it is not built.\n",
      "WARNING:tensorflow:Skipping full serialization of Keras layer <keras.layers.core.dropout.Dropout object at 0x00000245B02F8BE0>, because it is not built.\n",
      "WARNING:tensorflow:Skipping full serialization of Keras layer <keras.layers.core.dropout.Dropout object at 0x00000245C2639340>, because it is not built.\n",
      "WARNING:tensorflow:Skipping full serialization of Keras layer <keras.layers.core.dropout.Dropout object at 0x00000245C2647A60>, because it is not built.\n",
      "WARNING:tensorflow:Skipping full serialization of Keras layer <keras.layers.core.dropout.Dropout object at 0x00000245CA6A71C0>, because it is not built.\n"
     ]
    },
    {
     "name": "stderr",
     "output_type": "stream",
     "text": [
      "WARNING:absl:Found untraced functions such as embeddings_layer_call_fn, embeddings_layer_call_and_return_conditional_losses, transformer_layer_call_fn, transformer_layer_call_and_return_conditional_losses, add_layer_call_fn while saving (showing 5 of 166). These functions will not be directly callable after loading.\n"
     ]
    },
    {
     "name": "stdout",
     "output_type": "stream",
     "text": [
      "INFO:tensorflow:Assets written to: nlp_DistilBert_18\\assets\n"
     ]
    },
    {
     "name": "stderr",
     "output_type": "stream",
     "text": [
      "INFO:tensorflow:Assets written to: nlp_DistilBert_18\\assets\n"
     ]
    }
   ],
   "source": [
    "model.save(model._name, include_optimizer=False)\n"
   ]
  },
  {
   "cell_type": "code",
   "execution_count": 48,
   "id": "JOr9fAJytC2a",
   "metadata": {
    "id": "JOr9fAJytC2a"
   },
   "outputs": [],
   "source": [
    "#!tar czf bert_no_optimizer.tar.gz bert_no_optimizer/"
   ]
  },
  {
   "cell_type": "code",
   "execution_count": 49,
   "id": "X-QjGeq3qDFd",
   "metadata": {
    "id": "X-QjGeq3qDFd"
   },
   "outputs": [],
   "source": [
    "# Reloading model\n",
    "\n",
    "#reloaded_model = tensorflow.saved_model.load(\"bert_no_optimizer\")"
   ]
  },
  {
   "cell_type": "code",
   "execution_count": 50,
   "id": "qYa60UyQ1QA1",
   "metadata": {
    "id": "qYa60UyQ1QA1"
   },
   "outputs": [],
   "source": [
    "# Comparing results of model in memory and reloaded model\n",
    "\n",
    "#text_string = X_val.iloc[0]"
   ]
  },
  {
   "cell_type": "code",
   "execution_count": 51,
   "id": "ET2pOYH82gR7",
   "metadata": {
    "id": "ET2pOYH82gR7"
   },
   "outputs": [],
   "source": [
    "# Correct result\n",
    "\n",
    "#y_val.iloc[0]"
   ]
  },
  {
   "cell_type": "code",
   "execution_count": 52,
   "id": "C_aCtz1YwjOW",
   "metadata": {
    "id": "C_aCtz1YwjOW"
   },
   "outputs": [],
   "source": [
    "#model_result = model(tensorflow.constant([text_string]))"
   ]
  },
  {
   "cell_type": "code",
   "execution_count": 53,
   "id": "WS-j-7At1NfE",
   "metadata": {
    "id": "WS-j-7At1NfE"
   },
   "outputs": [],
   "source": [
    "#reloaded_model_result = reloaded_model(tensorflow.constant([text_string]))"
   ]
  },
  {
   "cell_type": "code",
   "execution_count": 54,
   "id": "0FRxvPjP1ttd",
   "metadata": {
    "id": "0FRxvPjP1ttd"
   },
   "outputs": [],
   "source": [
    "# Result from model in memory\n",
    "\n",
    "#label_index[np.argmax(model_result, axis=1)]"
   ]
  },
  {
   "cell_type": "code",
   "execution_count": 55,
   "id": "wpirJtoY1uA8",
   "metadata": {
    "id": "wpirJtoY1uA8"
   },
   "outputs": [],
   "source": [
    "# Result from reloaded model\n",
    "\n",
    "#label_index[np.argmax(reloaded_model_result, axis=1)]"
   ]
  },
  {
   "cell_type": "code",
   "execution_count": null,
   "id": "54On8BXI-Fwx",
   "metadata": {
    "id": "54On8BXI-Fwx"
   },
   "outputs": [],
   "source": []
  }
 ],
 "metadata": {
  "accelerator": "GPU",
  "colab": {
   "collapsed_sections": [],
   "name": "keras_hf_DistilBERT.ipynb",
   "provenance": []
  },
  "kernelspec": {
   "display_name": "Python 3.9 (Tensorflow 2.6)",
   "language": "python",
   "name": "tf2"
  },
  "language_info": {
   "codemirror_mode": {
    "name": "ipython",
    "version": 3
   },
   "file_extension": ".py",
   "mimetype": "text/x-python",
   "name": "python",
   "nbconvert_exporter": "python",
   "pygments_lexer": "ipython3",
   "version": "3.9.7"
  }
 },
 "nbformat": 4,
 "nbformat_minor": 5
}
