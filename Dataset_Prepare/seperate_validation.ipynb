{
 "cells": [
  {
   "cell_type": "markdown",
   "id": "f37b4234",
   "metadata": {},
   "source": [
    "### Extract mutually exclusive sentences of length L"
   ]
  },
  {
   "cell_type": "code",
   "execution_count": 1,
   "id": "34a28a5b",
   "metadata": {},
   "outputs": [],
   "source": [
    "author_list = ['Charles Dickens','Jane Austen','Sir Arthur Conan Doyle','George Eliot','Jules Verne']"
   ]
  },
  {
   "cell_type": "code",
   "execution_count": 2,
   "id": "center-friend",
   "metadata": {},
   "outputs": [],
   "source": [
    "L = 50 # length of sentences to be extracted - L\n",
    "N = 200 # number of records for a book - N"
   ]
  },
  {
   "cell_type": "code",
   "execution_count": 3,
   "id": "bb49fb5d",
   "metadata": {},
   "outputs": [],
   "source": [
    "# Change to validation_dataset directory\n",
    "\n",
    "import os\n",
    "\n",
    "current_directory = os.getcwd()\n",
    "dataset_directory = os.path.join(current_directory, \"validation_dataset\")"
   ]
  },
  {
   "cell_type": "code",
   "execution_count": 4,
   "id": "colored-momentum",
   "metadata": {},
   "outputs": [],
   "source": [
    "# Bugs : Delimated at words like \"Mr., Mrs.\" due to \".\""
   ]
  },
  {
   "cell_type": "code",
   "execution_count": 5,
   "id": "9226a565",
   "metadata": {},
   "outputs": [
    {
     "name": "stdout",
     "output_type": "stream",
     "text": [
      "Author:Charles Dickens Book:0 Total records:3607 -> Extracted:200\n",
      "Author:Charles Dickens Book:1 Total records:508 -> Extracted:200\n",
      "Author:Charles Dickens Book:2 Total records:3028 -> Extracted:200\n",
      "Author:Charles Dickens Book:3 Total records:6888 -> Extracted:200\n",
      "Author:Jane Austen Book:0 Total records:3066 -> Extracted:200\n",
      "Author:Jane Austen Book:1 Total records:1453 -> Extracted:200\n",
      "Author:Jane Austen Book:2 Total records:248 -> Extracted:200\n",
      "Author:Jane Austen Book:3 Total records:480 -> Extracted:200\n",
      "Author:Sir Arthur Conan Doyle Book:0 Total records:1121 -> Extracted:200\n",
      "Author:Sir Arthur Conan Doyle Book:1 Total records:2934 -> Extracted:200\n",
      "Author:Sir Arthur Conan Doyle Book:2 Total records:793 -> Extracted:200\n",
      "Author:Sir Arthur Conan Doyle Book:3 Total records:1123 -> Extracted:200\n",
      "Author:George Eliot Book:0 Total records:4068 -> Extracted:200\n",
      "Author:George Eliot Book:1 Total records:1322 -> Extracted:200\n",
      "Author:George Eliot Book:2 Total records:235 -> Extracted:200\n",
      "Author:George Eliot Book:3 Total records:2781 -> Extracted:200\n",
      "Author:Jules Verne Book:0 Total records:1783 -> Extracted:200\n",
      "Author:Jules Verne Book:1 Total records:1496 -> Extracted:200\n",
      "Author:Jules Verne Book:2 Total records:2728 -> Extracted:200\n",
      "Author:Jules Verne Book:3 Total records:789 -> Extracted:200\n"
     ]
    }
   ],
   "source": [
    "import pandas as pd\n",
    "\n",
    "sentances = pd.DataFrame()\n",
    "\n",
    "for author in author_list:\n",
    "    for book_number in range(0,4,1):\n",
    "        text_file = os.path.join(dataset_directory, author, str(book_number) + \".txt\")\n",
    "        data_read = pd.DataFrame()\n",
    "        data_read = pd.read_csv(text_file,lineterminator=\".\", delimiter =\".\",names=[\"text\"],).replace({r'\\r\\n': ' '}, regex=True).replace('\\s+', ' ', regex=True).replace({r'[^a-zA-Z\\d\\s.]': ''}, regex=True)\n",
    "        \n",
    "        mask = (data_read['text'].str.len() > 20) & (data_read.index > 100) & (data_read.index < (len(data_read) - 250))\n",
    "        data_read = data_read.loc[mask]        \n",
    "              \n",
    "        data_read[\"text\"] = data_read[\"text\"].str.lower()\n",
    "        \n",
    "        sentence_full =\"\"\n",
    "        \n",
    "        for sentence_read in data_read[\"text\"]:\n",
    "            sentence_full += sentence_read\n",
    "            \n",
    "        words = sentence_full.split()\n",
    "        subs = []\n",
    "        for i in range(0, len(words), L):\n",
    "            subs.append(\" \".join(words[i:i+L]))\n",
    "        \n",
    "        data_temp = pd.DataFrame(subs, columns=['text'])\n",
    "        data_temp[\"author\"] = author\n",
    "        data_temp[\"book\"] = book_number\n",
    "        data_temp[\"length\"] = data_temp[\"text\"].str.len()\n",
    "        \n",
    "        data_temp = data_temp.sample(N)\n",
    "        \n",
    "        print(\"Author:\" + author + \" Book:\" + str(book_number) +\" Total records:\" + str(len(subs)) + \" -> Extracted:\" + str(len(data_temp)))        \n",
    "       \n",
    "        sentances = pd.concat([sentances, data_temp], ignore_index=True)\n",
    "\n"
   ]
  },
  {
   "cell_type": "code",
   "execution_count": 6,
   "id": "sustained-transmission",
   "metadata": {},
   "outputs": [],
   "source": [
    "#sentances.head()"
   ]
  },
  {
   "cell_type": "code",
   "execution_count": 7,
   "id": "defensive-custody",
   "metadata": {},
   "outputs": [],
   "source": [
    "extracted_dataset = sentances[['author', 'text']].copy()"
   ]
  },
  {
   "cell_type": "code",
   "execution_count": 8,
   "id": "ordered-timothy",
   "metadata": {},
   "outputs": [],
   "source": [
    "#extracted_dataet.head()"
   ]
  },
  {
   "cell_type": "code",
   "execution_count": 9,
   "id": "inner-marina",
   "metadata": {},
   "outputs": [],
   "source": [
    "extracted_dataset.to_csv(\"validation_dataset.csv\")"
   ]
  }
 ],
 "metadata": {
  "kernelspec": {
   "display_name": "Python 3.9 (Tensorflow 2.6)",
   "language": "python",
   "name": "tf2"
  },
  "language_info": {
   "codemirror_mode": {
    "name": "ipython",
    "version": 3
   },
   "file_extension": ".py",
   "mimetype": "text/x-python",
   "name": "python",
   "nbconvert_exporter": "python",
   "pygments_lexer": "ipython3",
   "version": "3.9.7"
  }
 },
 "nbformat": 4,
 "nbformat_minor": 5
}
