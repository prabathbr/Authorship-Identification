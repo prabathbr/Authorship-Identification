{
 "cells": [
  {
   "cell_type": "markdown",
   "id": "laughing-combat",
   "metadata": {},
   "source": [
    "### Download 5 books from each author"
   ]
  },
  {
   "cell_type": "markdown",
   "id": "4c34b0b7",
   "metadata": {},
   "source": [
    "train, test, validation splits:\n",
    "\n",
    "book_list = [[766,883,564,917,786],[121,141,42671,161,42078],[48320,3289,139,834,108],[507,24020,145,40882,7469],[103,164,18857,1268,83]]\n",
    "\n",
    "seperate validation set:\n",
    "\n",
    "validation_list = [[1400,46,730,1023],[158,105,946,1212],[2852,903,2097,2350],[6688,550,2165,17780],[3526,10339,46597,3809]]\n",
    "\n",
    "* Charles Dickens\n",
    "    + David Copperfield (766)\n",
    "    + Our Mutual Friend (883)\n",
    "    + The Mystery of Edwin Drood (564)\n",
    "    + Barnaby Rudge(917)\n",
    "    + Hard Times (786)\n",
    "    1. Great Expectations (1400)\n",
    "    1. A Christmas Carol in Prose (46)    \n",
    "    1. Oliver Twist (730)\n",
    "    1. Bleak House (1023)        \n",
    "<!--     1. The Pickwick Papersd (580)  -->\n",
    "    \n",
    "    \n",
    "* Jane Austen\n",
    "    + Northanger Abbey (121)\n",
    "    + Mansfield Park (141)\n",
    "    + Pride and Prejudice(42671)\n",
    "    + Sense and Sensibility (161)\n",
    "    + The Letters of Jane Austen (42078)\n",
    "    1. Emma (158)\n",
    "    1. Persuasion (105)    \n",
    "    1. Lady Susan (946)\n",
    "    1. Love and Freindship (1212)       \n",
    "         \n",
    "\n",
    "* Sir Arthur Conan Doyle\n",
    "    + Adventures of Sherlock Holmes (48320)\n",
    "    + The Valley of Fear (3289)\n",
    "    + The Lost World (139)\n",
    "    + The Memoirs of Sherlock Holmes (834)\n",
    "    + The Return of Sherlock Holmes (108)\n",
    "    1. The Hound of the Baskervilles (2852)\n",
    "    1. The White Company (903)   \n",
    "    1. The Sign of the Four (2097)\n",
    "    1. His Last Bow (2350)        \n",
    "<!--   1. A Study in Scarlet (244)     -->\n",
    "          \n",
    "\n",
    "* George Eliot\n",
    "    + Adam Bede (507)\n",
    "    + Romola (24020)\n",
    "    + Middlemarch (145)\n",
    "    + Felix Holt, the Radica (40882)\n",
    "    + Daniel Deronda (7469)\n",
    "    1. The Mill on the Floss (6688)\n",
    "    1. Silas Marner (550)    \n",
    "    1. Brother Jacob (2171)    \n",
    "    1. Scenes of Clerical Life (17780)        \n",
    "<!--   1. The Lifted Veil (2165)        -->\n",
    "       \n",
    "\n",
    "* Jules Verne\n",
    "    + Around the World in Eighty Days (103)\n",
    "    + Twenty Thousand Leagues under the Sea (164)\n",
    "    + A Journey to the Centre of the Earth (18857)\n",
    "    + The Mysterious Island (1268)\n",
    "    + From the Earth to the Moon; and, Round the Moon (83)\n",
    "    1. Five Weeks in a Balloon (3526)\n",
    "    1. An Antarctic Mystery (10339)    \n",
    "    1. In Search of the Castaways (46597)\n",
    "    1. The Master of the World (3809)        \n",
    "   "
   ]
  },
  {
   "cell_type": "code",
   "execution_count": 1,
   "id": "committed-rings",
   "metadata": {},
   "outputs": [],
   "source": [
    "# Define author names\n",
    "\n",
    "author_list = ['Charles Dickens','Jane Austen','Sir Arthur Conan Doyle','George Eliot','Jules Verne']"
   ]
  },
  {
   "cell_type": "code",
   "execution_count": 2,
   "id": "premier-entrance",
   "metadata": {},
   "outputs": [],
   "source": [
    "# Define book reference numbers from each author for train, test, validation splits\n",
    "\n",
    "book_list = [[766,883,564,917,786],[121,141,42671,161,42078],[48320,3289,139,834,108],[507,24020,145,40882,7469],[103,164,18857,1268,83]]"
   ]
  },
  {
   "cell_type": "code",
   "execution_count": 3,
   "id": "7b861086",
   "metadata": {},
   "outputs": [],
   "source": [
    "# Define book reference numbers from each author for seperate validation dataset\n",
    "\n",
    "validation_list = [[1400,46,730,1023],[158,105,946,1212],[2852,903,2097,2350],[6688,550,2171,17780],[3526,10339,46597,3809]]"
   ]
  },
  {
   "cell_type": "code",
   "execution_count": 4,
   "id": "outstanding-melbourne",
   "metadata": {},
   "outputs": [],
   "source": [
    "# Automated download from Gutenberg mirrors\n",
    "# Details : https://www.gutenberg.org/policy/terms_of_use.html\n",
    "\n",
    "source_url_prefix = \"http://mirror.csclub.uwaterloo.ca/gutenberg/\"\n",
    "source_url_postfix = \".txt\"\n",
    "\n",
    "source_url_prefix_alternative = \"https://www.mirrorservice.org/sites/ftp.ibiblio.org/pub/docs/books/gutenberg/\"\n",
    "source_url_postfix_alternative = \"-0.txt\""
   ]
  },
  {
   "cell_type": "code",
   "execution_count": 5,
   "id": "assumed-white",
   "metadata": {},
   "outputs": [],
   "source": [
    "# Change to dataset directory\n",
    "\n",
    "import os\n",
    "current_directory = os.getcwd()\n",
    "dataset_directory = os.path.join(current_directory, \"dataset\")\n",
    "os.makedirs(dataset_directory, exist_ok=True)\n",
    "for author_name in author_list:\n",
    "    os.makedirs(os.path.join(dataset_directory, author_name), exist_ok=True)"
   ]
  },
  {
   "cell_type": "code",
   "execution_count": 6,
   "id": "regulation-eating",
   "metadata": {},
   "outputs": [
    {
     "name": "stdout",
     "output_type": "stream",
     "text": [
      "Downloaded from http://mirror.csclub.uwaterloo.ca/gutenberg/7/6/766/766.txt to D:\\NLP_Last\\files\\UPLOAD\\Dataset_Prepare\\dataset\\Charles Dickens\\0.txt\n",
      "Downloaded from https://www.mirrorservice.org/sites/ftp.ibiblio.org/pub/docs/books/gutenberg/8/8/883/883-0.txt to D:\\NLP_Last\\files\\UPLOAD\\Dataset_Prepare\\dataset\\Charles Dickens\\1.txt\n",
      "Downloaded from https://www.mirrorservice.org/sites/ftp.ibiblio.org/pub/docs/books/gutenberg/5/6/564/564-0.txt to D:\\NLP_Last\\files\\UPLOAD\\Dataset_Prepare\\dataset\\Charles Dickens\\2.txt\n",
      "Downloaded from http://mirror.csclub.uwaterloo.ca/gutenberg/9/1/917/917.txt to D:\\NLP_Last\\files\\UPLOAD\\Dataset_Prepare\\dataset\\Charles Dickens\\3.txt\n",
      "Downloaded from https://www.mirrorservice.org/sites/ftp.ibiblio.org/pub/docs/books/gutenberg/7/8/786/786-0.txt to D:\\NLP_Last\\files\\UPLOAD\\Dataset_Prepare\\dataset\\Charles Dickens\\4.txt\n",
      "Downloaded from https://www.mirrorservice.org/sites/ftp.ibiblio.org/pub/docs/books/gutenberg/1/2/121/121-0.txt to D:\\NLP_Last\\files\\UPLOAD\\Dataset_Prepare\\dataset\\Jane Austen\\0.txt\n",
      "Downloaded from https://www.mirrorservice.org/sites/ftp.ibiblio.org/pub/docs/books/gutenberg/1/4/141/141-0.txt to D:\\NLP_Last\\files\\UPLOAD\\Dataset_Prepare\\dataset\\Jane Austen\\1.txt\n",
      "Downloaded from http://mirror.csclub.uwaterloo.ca/gutenberg/4/2/6/7/42671/42671.txt to D:\\NLP_Last\\files\\UPLOAD\\Dataset_Prepare\\dataset\\Jane Austen\\2.txt\n",
      "Downloaded from https://www.mirrorservice.org/sites/ftp.ibiblio.org/pub/docs/books/gutenberg/1/6/161/161-0.txt to D:\\NLP_Last\\files\\UPLOAD\\Dataset_Prepare\\dataset\\Jane Austen\\3.txt\n",
      "Downloaded from http://mirror.csclub.uwaterloo.ca/gutenberg/4/2/0/7/42078/42078.txt to D:\\NLP_Last\\files\\UPLOAD\\Dataset_Prepare\\dataset\\Jane Austen\\4.txt\n",
      "Downloaded from https://www.mirrorservice.org/sites/ftp.ibiblio.org/pub/docs/books/gutenberg/4/8/3/2/48320/48320-0.txt to D:\\NLP_Last\\files\\UPLOAD\\Dataset_Prepare\\dataset\\Sir Arthur Conan Doyle\\0.txt\n",
      "Downloaded from http://mirror.csclub.uwaterloo.ca/gutenberg/3/2/8/3289/3289.txt to D:\\NLP_Last\\files\\UPLOAD\\Dataset_Prepare\\dataset\\Sir Arthur Conan Doyle\\1.txt\n",
      "Downloaded from http://mirror.csclub.uwaterloo.ca/gutenberg/1/3/139/139.txt to D:\\NLP_Last\\files\\UPLOAD\\Dataset_Prepare\\dataset\\Sir Arthur Conan Doyle\\2.txt\n",
      "Downloaded from https://www.mirrorservice.org/sites/ftp.ibiblio.org/pub/docs/books/gutenberg/8/3/834/834-0.txt to D:\\NLP_Last\\files\\UPLOAD\\Dataset_Prepare\\dataset\\Sir Arthur Conan Doyle\\3.txt\n",
      "Downloaded from https://www.mirrorservice.org/sites/ftp.ibiblio.org/pub/docs/books/gutenberg/1/0/108/108-0.txt to D:\\NLP_Last\\files\\UPLOAD\\Dataset_Prepare\\dataset\\Sir Arthur Conan Doyle\\4.txt\n",
      "Downloaded from https://www.mirrorservice.org/sites/ftp.ibiblio.org/pub/docs/books/gutenberg/5/0/507/507-0.txt to D:\\NLP_Last\\files\\UPLOAD\\Dataset_Prepare\\dataset\\George Eliot\\0.txt\n",
      "Downloaded from https://www.mirrorservice.org/sites/ftp.ibiblio.org/pub/docs/books/gutenberg/2/4/0/2/24020/24020-0.txt to D:\\NLP_Last\\files\\UPLOAD\\Dataset_Prepare\\dataset\\George Eliot\\1.txt\n",
      "Downloaded from https://www.mirrorservice.org/sites/ftp.ibiblio.org/pub/docs/books/gutenberg/1/4/145/145-0.txt to D:\\NLP_Last\\files\\UPLOAD\\Dataset_Prepare\\dataset\\George Eliot\\2.txt\n",
      "Downloaded from https://www.mirrorservice.org/sites/ftp.ibiblio.org/pub/docs/books/gutenberg/4/0/8/8/40882/40882-0.txt to D:\\NLP_Last\\files\\UPLOAD\\Dataset_Prepare\\dataset\\George Eliot\\3.txt\n",
      "Downloaded from https://www.mirrorservice.org/sites/ftp.ibiblio.org/pub/docs/books/gutenberg/7/4/6/7469/7469-0.txt to D:\\NLP_Last\\files\\UPLOAD\\Dataset_Prepare\\dataset\\George Eliot\\4.txt\n",
      "Downloaded from https://www.mirrorservice.org/sites/ftp.ibiblio.org/pub/docs/books/gutenberg/1/0/103/103-0.txt to D:\\NLP_Last\\files\\UPLOAD\\Dataset_Prepare\\dataset\\Jules Verne\\0.txt\n",
      "Downloaded from http://mirror.csclub.uwaterloo.ca/gutenberg/1/6/164/164.txt to D:\\NLP_Last\\files\\UPLOAD\\Dataset_Prepare\\dataset\\Jules Verne\\1.txt\n",
      "Downloaded from http://mirror.csclub.uwaterloo.ca/gutenberg/1/8/8/5/18857/18857.txt to D:\\NLP_Last\\files\\UPLOAD\\Dataset_Prepare\\dataset\\Jules Verne\\2.txt\n",
      "Downloaded from http://mirror.csclub.uwaterloo.ca/gutenberg/1/2/6/1268/1268.txt to D:\\NLP_Last\\files\\UPLOAD\\Dataset_Prepare\\dataset\\Jules Verne\\3.txt\n",
      "Downloaded from https://www.mirrorservice.org/sites/ftp.ibiblio.org/pub/docs/books/gutenberg/8/83/83-0.txt to D:\\NLP_Last\\files\\UPLOAD\\Dataset_Prepare\\dataset\\Jules Verne\\4.txt\n"
     ]
    }
   ],
   "source": [
    "# Download books for train, test, validation splits\n",
    "\n",
    "import urllib.request\n",
    "\n",
    "for author_name in author_list:\n",
    "    current_author_index = author_list.index(author_name)\n",
    "    for book_number in book_list[current_author_index]:\n",
    "        book_number = str(book_number)\n",
    "        book_url_pattern = str()\n",
    "        for i in range(len(book_number)):\n",
    "            if i < len(book_number) - 1:\n",
    "                book_url_pattern = book_url_pattern + book_number[i] + \"/\"\n",
    "            if i == len(book_number) - 1:\n",
    "                book_url_pattern = book_url_pattern + book_number + \"/\"                \n",
    "        author_directory = os.path.join(dataset_directory, author_name)\n",
    "        book_url = source_url_prefix + book_url_pattern + str(book_number) + source_url_postfix\n",
    "        #print(book_url)\n",
    "        book_url_alternative = source_url_prefix_alternative + book_url_pattern + str(book_number) + source_url_postfix_alternative\n",
    "        #print(book_url_alternative)\n",
    "        book_destination = os.path.join(author_directory, str(book_list[current_author_index].index(int(book_number))) + \".txt\" )\n",
    "        try:\n",
    "            urllib.request.urlretrieve(book_url, book_destination)\n",
    "            print(\"Downloaded from \" + book_url + \" to \" + book_destination)\n",
    "        except:\n",
    "            urllib.request.urlretrieve(book_url_alternative, book_destination)\n",
    "            print(\"Downloaded from \" + book_url_alternative + \" to \" + book_destination)            "
   ]
  },
  {
   "cell_type": "code",
   "execution_count": 7,
   "id": "a7123ea5",
   "metadata": {},
   "outputs": [],
   "source": [
    "# Change to validation_dataset directory\n",
    "\n",
    "import os\n",
    "dataset_directory = os.path.join(current_directory, \"validation_dataset\")\n",
    "os.makedirs(dataset_directory, exist_ok=True)\n",
    "for author_name in author_list:\n",
    "    os.makedirs(os.path.join(dataset_directory, author_name), exist_ok=True)"
   ]
  },
  {
   "cell_type": "code",
   "execution_count": 8,
   "id": "ddfd5638",
   "metadata": {},
   "outputs": [
    {
     "name": "stdout",
     "output_type": "stream",
     "text": [
      "Downloaded from https://www.mirrorservice.org/sites/ftp.ibiblio.org/pub/docs/books/gutenberg/1/4/0/1400/1400-0.txt to D:\\NLP_Last\\files\\UPLOAD\\Dataset_Prepare\\validation_dataset\\Charles Dickens\\0.txt\n",
      "Downloaded from https://www.mirrorservice.org/sites/ftp.ibiblio.org/pub/docs/books/gutenberg/4/46/46-0.txt to D:\\NLP_Last\\files\\UPLOAD\\Dataset_Prepare\\validation_dataset\\Charles Dickens\\1.txt\n",
      "Downloaded from https://www.mirrorservice.org/sites/ftp.ibiblio.org/pub/docs/books/gutenberg/7/3/730/730-0.txt to D:\\NLP_Last\\files\\UPLOAD\\Dataset_Prepare\\validation_dataset\\Charles Dickens\\2.txt\n",
      "Downloaded from http://mirror.csclub.uwaterloo.ca/gutenberg/1/0/2/1023/1023.txt to D:\\NLP_Last\\files\\UPLOAD\\Dataset_Prepare\\validation_dataset\\Charles Dickens\\3.txt\n",
      "Downloaded from https://www.mirrorservice.org/sites/ftp.ibiblio.org/pub/docs/books/gutenberg/1/5/158/158-0.txt to D:\\NLP_Last\\files\\UPLOAD\\Dataset_Prepare\\validation_dataset\\Jane Austen\\0.txt\n",
      "Downloaded from http://mirror.csclub.uwaterloo.ca/gutenberg/1/0/105/105.txt to D:\\NLP_Last\\files\\UPLOAD\\Dataset_Prepare\\validation_dataset\\Jane Austen\\1.txt\n",
      "Downloaded from http://mirror.csclub.uwaterloo.ca/gutenberg/9/4/946/946.txt to D:\\NLP_Last\\files\\UPLOAD\\Dataset_Prepare\\validation_dataset\\Jane Austen\\2.txt\n",
      "Downloaded from http://mirror.csclub.uwaterloo.ca/gutenberg/1/2/1/1212/1212.txt to D:\\NLP_Last\\files\\UPLOAD\\Dataset_Prepare\\validation_dataset\\Jane Austen\\3.txt\n",
      "Downloaded from https://www.mirrorservice.org/sites/ftp.ibiblio.org/pub/docs/books/gutenberg/2/8/5/2852/2852-0.txt to D:\\NLP_Last\\files\\UPLOAD\\Dataset_Prepare\\validation_dataset\\Sir Arthur Conan Doyle\\0.txt\n",
      "Downloaded from http://mirror.csclub.uwaterloo.ca/gutenberg/9/0/903/903.txt to D:\\NLP_Last\\files\\UPLOAD\\Dataset_Prepare\\validation_dataset\\Sir Arthur Conan Doyle\\1.txt\n",
      "Downloaded from http://mirror.csclub.uwaterloo.ca/gutenberg/2/0/9/2097/2097.txt to D:\\NLP_Last\\files\\UPLOAD\\Dataset_Prepare\\validation_dataset\\Sir Arthur Conan Doyle\\2.txt\n",
      "Downloaded from https://www.mirrorservice.org/sites/ftp.ibiblio.org/pub/docs/books/gutenberg/2/3/5/2350/2350-0.txt to D:\\NLP_Last\\files\\UPLOAD\\Dataset_Prepare\\validation_dataset\\Sir Arthur Conan Doyle\\3.txt\n",
      "Downloaded from https://www.mirrorservice.org/sites/ftp.ibiblio.org/pub/docs/books/gutenberg/6/6/8/6688/6688-0.txt to D:\\NLP_Last\\files\\UPLOAD\\Dataset_Prepare\\validation_dataset\\George Eliot\\0.txt\n",
      "Downloaded from https://www.mirrorservice.org/sites/ftp.ibiblio.org/pub/docs/books/gutenberg/5/5/550/550-0.txt to D:\\NLP_Last\\files\\UPLOAD\\Dataset_Prepare\\validation_dataset\\George Eliot\\1.txt\n",
      "Downloaded from https://www.mirrorservice.org/sites/ftp.ibiblio.org/pub/docs/books/gutenberg/2/1/7/2171/2171-0.txt to D:\\NLP_Last\\files\\UPLOAD\\Dataset_Prepare\\validation_dataset\\George Eliot\\2.txt\n",
      "Downloaded from https://www.mirrorservice.org/sites/ftp.ibiblio.org/pub/docs/books/gutenberg/1/7/7/8/17780/17780-0.txt to D:\\NLP_Last\\files\\UPLOAD\\Dataset_Prepare\\validation_dataset\\George Eliot\\3.txt\n",
      "Downloaded from https://www.mirrorservice.org/sites/ftp.ibiblio.org/pub/docs/books/gutenberg/3/5/2/3526/3526-0.txt to D:\\NLP_Last\\files\\UPLOAD\\Dataset_Prepare\\validation_dataset\\Jules Verne\\0.txt\n",
      "Downloaded from https://www.mirrorservice.org/sites/ftp.ibiblio.org/pub/docs/books/gutenberg/1/0/3/3/10339/10339-0.txt to D:\\NLP_Last\\files\\UPLOAD\\Dataset_Prepare\\validation_dataset\\Jules Verne\\1.txt\n",
      "Downloaded from http://mirror.csclub.uwaterloo.ca/gutenberg/4/6/5/9/46597/46597.txt to D:\\NLP_Last\\files\\UPLOAD\\Dataset_Prepare\\validation_dataset\\Jules Verne\\2.txt\n",
      "Downloaded from https://www.mirrorservice.org/sites/ftp.ibiblio.org/pub/docs/books/gutenberg/3/8/0/3809/3809-0.txt to D:\\NLP_Last\\files\\UPLOAD\\Dataset_Prepare\\validation_dataset\\Jules Verne\\3.txt\n"
     ]
    }
   ],
   "source": [
    "# Download books for seperate validation dataset\n",
    "\n",
    "for author_name in author_list:\n",
    "    current_author_index = author_list.index(author_name)\n",
    "    for book_number in validation_list[current_author_index]:\n",
    "        book_number = str(book_number)\n",
    "        book_url_pattern = str()\n",
    "        for i in range(len(book_number)):\n",
    "            if i < len(book_number) - 1:\n",
    "                book_url_pattern = book_url_pattern + book_number[i] + \"/\"\n",
    "            if i == len(book_number) - 1:\n",
    "                book_url_pattern = book_url_pattern + book_number + \"/\"                \n",
    "        author_directory = os.path.join(dataset_directory, author_name)\n",
    "        book_url = source_url_prefix + book_url_pattern + str(book_number) + source_url_postfix\n",
    "        #print(book_url)\n",
    "        book_url_alternative = source_url_prefix_alternative + book_url_pattern + str(book_number) + source_url_postfix_alternative\n",
    "        #print(book_url_alternative)\n",
    "        book_destination = os.path.join(author_directory, str(validation_list[current_author_index].index(int(book_number))) + \".txt\" )\n",
    "        try:\n",
    "            urllib.request.urlretrieve(book_url, book_destination)\n",
    "            print(\"Downloaded from \" + book_url + \" to \" + book_destination)\n",
    "        except:\n",
    "            urllib.request.urlretrieve(book_url_alternative, book_destination)\n",
    "            print(\"Downloaded from \" + book_url_alternative + \" to \" + book_destination)   "
   ]
  }
 ],
 "metadata": {
  "kernelspec": {
   "display_name": "Python 3.9 (Tensorflow 2.6)",
   "language": "python",
   "name": "tf2"
  },
  "language_info": {
   "codemirror_mode": {
    "name": "ipython",
    "version": 3
   },
   "file_extension": ".py",
   "mimetype": "text/x-python",
   "name": "python",
   "nbconvert_exporter": "python",
   "pygments_lexer": "ipython3",
   "version": "3.9.7"
  }
 },
 "nbformat": 4,
 "nbformat_minor": 5
}
